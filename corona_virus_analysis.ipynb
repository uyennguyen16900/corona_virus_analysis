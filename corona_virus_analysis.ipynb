{
 "cells": [
  {
   "cell_type": "code",
   "execution_count": 391,
   "metadata": {
    "slideshow": {
     "slide_type": "skip"
    }
   },
   "outputs": [],
   "source": [
    "import numpy as np \n",
    "import pandas as pd \n",
    "import seaborn as sns \n",
    "import time\n",
    "import matplotlib.pyplot as plt\n",
    "from scipy.stats import norm\n",
    "from scipy import stats\n",
    "import numpy as np\n",
    "\n",
    "# df = pd.read_csv('Datasets/2019_nCoV_data.csv')\n",
    "df = pd.read_csv('Datasets/covid_19_data.csv')\n"
   ]
  },
  {
   "cell_type": "code",
   "execution_count": 392,
   "metadata": {
    "slideshow": {
     "slide_type": "skip"
    }
   },
   "outputs": [
    {
     "data": {
      "text/plain": [
       "(2699, 8)"
      ]
     },
     "execution_count": 392,
     "metadata": {},
     "output_type": "execute_result"
    }
   ],
   "source": [
    "df.shape"
   ]
  },
  {
   "cell_type": "code",
   "execution_count": 393,
   "metadata": {
    "slideshow": {
     "slide_type": "skip"
    }
   },
   "outputs": [
    {
     "name": "stdout",
     "output_type": "stream",
     "text": [
      "<class 'pandas.core.frame.DataFrame'>\n",
      "RangeIndex: 2699 entries, 0 to 2698\n",
      "Data columns (total 8 columns):\n",
      "SNo                2699 non-null int64\n",
      "ObservationDate    2699 non-null object\n",
      "Province/State     1899 non-null object\n",
      "Country/Region     2699 non-null object\n",
      "Last Update        2699 non-null object\n",
      "Confirmed          2699 non-null float64\n",
      "Deaths             2699 non-null float64\n",
      "Recovered          2699 non-null float64\n",
      "dtypes: float64(3), int64(1), object(4)\n",
      "memory usage: 168.8+ KB\n"
     ]
    }
   ],
   "source": [
    "df.info()"
   ]
  },
  {
   "cell_type": "code",
   "execution_count": 394,
   "metadata": {
    "slideshow": {
     "slide_type": "skip"
    }
   },
   "outputs": [
    {
     "data": {
      "text/html": [
       "<div>\n",
       "<style scoped>\n",
       "    .dataframe tbody tr th:only-of-type {\n",
       "        vertical-align: middle;\n",
       "    }\n",
       "\n",
       "    .dataframe tbody tr th {\n",
       "        vertical-align: top;\n",
       "    }\n",
       "\n",
       "    .dataframe thead th {\n",
       "        text-align: right;\n",
       "    }\n",
       "</style>\n",
       "<table border=\"1\" class=\"dataframe\">\n",
       "  <thead>\n",
       "    <tr style=\"text-align: right;\">\n",
       "      <th></th>\n",
       "      <th>SNo</th>\n",
       "      <th>ObservationDate</th>\n",
       "      <th>Province/State</th>\n",
       "      <th>Country/Region</th>\n",
       "      <th>Last Update</th>\n",
       "      <th>Confirmed</th>\n",
       "      <th>Deaths</th>\n",
       "      <th>Recovered</th>\n",
       "    </tr>\n",
       "  </thead>\n",
       "  <tbody>\n",
       "    <tr>\n",
       "      <td>0</td>\n",
       "      <td>1</td>\n",
       "      <td>01/22/2020</td>\n",
       "      <td>Anhui</td>\n",
       "      <td>Mainland China</td>\n",
       "      <td>1/22/2020 17:00</td>\n",
       "      <td>1.0</td>\n",
       "      <td>0.0</td>\n",
       "      <td>0.0</td>\n",
       "    </tr>\n",
       "    <tr>\n",
       "      <td>1</td>\n",
       "      <td>2</td>\n",
       "      <td>01/22/2020</td>\n",
       "      <td>Beijing</td>\n",
       "      <td>Mainland China</td>\n",
       "      <td>1/22/2020 17:00</td>\n",
       "      <td>14.0</td>\n",
       "      <td>0.0</td>\n",
       "      <td>0.0</td>\n",
       "    </tr>\n",
       "    <tr>\n",
       "      <td>2</td>\n",
       "      <td>3</td>\n",
       "      <td>01/22/2020</td>\n",
       "      <td>Chongqing</td>\n",
       "      <td>Mainland China</td>\n",
       "      <td>1/22/2020 17:00</td>\n",
       "      <td>6.0</td>\n",
       "      <td>0.0</td>\n",
       "      <td>0.0</td>\n",
       "    </tr>\n",
       "    <tr>\n",
       "      <td>3</td>\n",
       "      <td>4</td>\n",
       "      <td>01/22/2020</td>\n",
       "      <td>Fujian</td>\n",
       "      <td>Mainland China</td>\n",
       "      <td>1/22/2020 17:00</td>\n",
       "      <td>1.0</td>\n",
       "      <td>0.0</td>\n",
       "      <td>0.0</td>\n",
       "    </tr>\n",
       "    <tr>\n",
       "      <td>4</td>\n",
       "      <td>5</td>\n",
       "      <td>01/22/2020</td>\n",
       "      <td>Gansu</td>\n",
       "      <td>Mainland China</td>\n",
       "      <td>1/22/2020 17:00</td>\n",
       "      <td>0.0</td>\n",
       "      <td>0.0</td>\n",
       "      <td>0.0</td>\n",
       "    </tr>\n",
       "  </tbody>\n",
       "</table>\n",
       "</div>"
      ],
      "text/plain": [
       "   SNo ObservationDate Province/State  Country/Region      Last Update  \\\n",
       "0    1      01/22/2020          Anhui  Mainland China  1/22/2020 17:00   \n",
       "1    2      01/22/2020        Beijing  Mainland China  1/22/2020 17:00   \n",
       "2    3      01/22/2020      Chongqing  Mainland China  1/22/2020 17:00   \n",
       "3    4      01/22/2020         Fujian  Mainland China  1/22/2020 17:00   \n",
       "4    5      01/22/2020          Gansu  Mainland China  1/22/2020 17:00   \n",
       "\n",
       "   Confirmed  Deaths  Recovered  \n",
       "0        1.0     0.0        0.0  \n",
       "1       14.0     0.0        0.0  \n",
       "2        6.0     0.0        0.0  \n",
       "3        1.0     0.0        0.0  \n",
       "4        0.0     0.0        0.0  "
      ]
     },
     "execution_count": 394,
     "metadata": {},
     "output_type": "execute_result"
    }
   ],
   "source": [
    "df.head()"
   ]
  },
  {
   "cell_type": "code",
   "execution_count": 395,
   "metadata": {
    "slideshow": {
     "slide_type": "skip"
    }
   },
   "outputs": [],
   "source": [
    "df['ObservationDate'] = df['ObservationDate'].astype('datetime64')\n",
    "df['Confirmed'] = df['Confirmed'].astype('int64')\n",
    "df['Deaths'] = df['Deaths'].astype('int64')\n",
    "df['Recovered'] = df['Recovered'].astype('int64')\n",
    "df = df.rename(columns={'ObservationDate': 'Date'})"
   ]
  },
  {
   "cell_type": "code",
   "execution_count": 396,
   "metadata": {
    "slideshow": {
     "slide_type": "skip"
    }
   },
   "outputs": [],
   "source": [
    "df_date=pd.DataFrame(df.groupby(by='Date').sum())\n",
    "if 'SNo' in df_date.columns:\n",
    "    df_date=df_date.drop('SNo',axis=1)\n",
    "df_date['Date']=df_date.index\n",
    "df_date.Date=df_date.Date.apply(lambda x:x.date())"
   ]
  },
  {
   "cell_type": "code",
   "execution_count": 397,
   "metadata": {
    "slideshow": {
     "slide_type": "skip"
    }
   },
   "outputs": [],
   "source": [
    "melted_data = pd.melt(df_date, id_vars=['Date'])\n"
   ]
  },
  {
   "cell_type": "code",
   "execution_count": 398,
   "metadata": {
    "slideshow": {
     "slide_type": "skip"
    }
   },
   "outputs": [],
   "source": [
    "def bar_plot(column_name):\n",
    "    plt.figure(figsize=(10, 15))\n",
    "    plt.xticks(rotation=90)\n",
    "    plt.xlabel('Date', fontsize=18)\n",
    "    plot_1 = sns.barplot(x='Date',y=column_name,data=df_date, ci=None)\n",
    "    plot_1\n",
    "    "
   ]
  },
  {
   "cell_type": "markdown",
   "metadata": {
    "slideshow": {
     "slide_type": "slide"
    }
   },
   "source": [
    "### Recovered cases over time"
   ]
  },
  {
   "cell_type": "code",
   "execution_count": 399,
   "metadata": {
    "slideshow": {
     "slide_type": "slide"
    }
   },
   "outputs": [
    {
     "data": {
      "image/png": "[encoded data removed]",
      "text/plain": [
       "<Figure size 720x1080 with 1 Axes>"
      ]
     },
     "metadata": {},
     "output_type": "display_data"
    }
   ],
   "source": [
    "bar_plot('Recovered')"
   ]
  },
  {
   "cell_type": "markdown",
   "metadata": {
    "slideshow": {
     "slide_type": "fragment"
    }
   },
   "source": [
    "This graph shows that the recovery rate over these days has increases quite good."
   ]
  },
  {
   "cell_type": "markdown",
   "metadata": {
    "slideshow": {
     "slide_type": "slide"
    }
   },
   "source": [
    "### Deceases over time"
   ]
  },
  {
   "cell_type": "code",
   "execution_count": 400,
   "metadata": {
    "slideshow": {
     "slide_type": "slide"
    }
   },
   "outputs": [
    {
     "data": {
      "image/png": "[encoded data removed]",
      "text/plain": [
       "<Figure size 720x1080 with 1 Axes>"
      ]
     },
     "metadata": {},
     "output_type": "display_data"
    }
   ],
   "source": [
    "bar_plot('Deaths')"
   ]
  },
  {
   "cell_type": "markdown",
   "metadata": {
    "slideshow": {
     "slide_type": "slide"
    }
   },
   "source": [
    "### Confirmed cases over time"
   ]
  },
  {
   "cell_type": "code",
   "execution_count": 401,
   "metadata": {
    "slideshow": {
     "slide_type": "slide"
    }
   },
   "outputs": [
    {
     "data": {
      "image/png": "[encoded data removed]",
      "text/plain": [
       "<Figure size 720x1080 with 1 Axes>"
      ]
     },
     "metadata": {},
     "output_type": "display_data"
    }
   ],
   "source": [
    "bar_plot('Confirmed')"
   ]
  },
  {
   "cell_type": "markdown",
   "metadata": {
    "slideshow": {
     "slide_type": "fragment"
    }
   },
   "source": [
    "The virus has grown <strong>exponentially</strong>."
   ]
  },
  {
   "cell_type": "code",
   "execution_count": 402,
   "metadata": {
    "slideshow": {
     "slide_type": "slide"
    }
   },
   "outputs": [
    {
     "data": {
      "text/plain": [
       "<seaborn.axisgrid.FacetGrid at 0x1a21c46f90>"
      ]
     },
     "execution_count": 402,
     "metadata": {},
     "output_type": "execute_result"
    },
    {
     "data": {
      "image/png": "[encoded data removed]",
      "text/plain": [
       "<Figure size 1236.25x720 with 1 Axes>"
      ]
     },
     "metadata": {},
     "output_type": "display_data"
    }
   ],
   "source": [
    "combine_data = sns.catplot(x='Date', y='value', hue='variable', data=melted_data, kind='bar',height=10,aspect =1.6,legend=True)\n",
    "combine_data.set_xticklabels( rotation=90)"
   ]
  },
  {
   "cell_type": "code",
   "execution_count": 403,
   "metadata": {
    "slideshow": {
     "slide_type": "skip"
    }
   },
   "outputs": [
    {
     "data": {
      "text/html": [
       "<div>\n",
       "<style scoped>\n",
       "    .dataframe tbody tr th:only-of-type {\n",
       "        vertical-align: middle;\n",
       "    }\n",
       "\n",
       "    .dataframe tbody tr th {\n",
       "        vertical-align: top;\n",
       "    }\n",
       "\n",
       "    .dataframe thead th {\n",
       "        text-align: right;\n",
       "    }\n",
       "</style>\n",
       "<table border=\"1\" class=\"dataframe\">\n",
       "  <thead>\n",
       "    <tr style=\"text-align: right;\">\n",
       "      <th></th>\n",
       "      <th>Confirmed</th>\n",
       "      <th>Deaths</th>\n",
       "      <th>Recovered</th>\n",
       "      <th>Date</th>\n",
       "    </tr>\n",
       "    <tr>\n",
       "      <th>Date</th>\n",
       "      <th></th>\n",
       "      <th></th>\n",
       "      <th></th>\n",
       "      <th></th>\n",
       "    </tr>\n",
       "  </thead>\n",
       "  <tbody>\n",
       "    <tr>\n",
       "      <td>2020-01-22</td>\n",
       "      <td>555</td>\n",
       "      <td>17</td>\n",
       "      <td>28</td>\n",
       "      <td>2020-01-22</td>\n",
       "    </tr>\n",
       "    <tr>\n",
       "      <td>2020-01-23</td>\n",
       "      <td>653</td>\n",
       "      <td>18</td>\n",
       "      <td>30</td>\n",
       "      <td>2020-01-23</td>\n",
       "    </tr>\n",
       "    <tr>\n",
       "      <td>2020-01-24</td>\n",
       "      <td>941</td>\n",
       "      <td>26</td>\n",
       "      <td>36</td>\n",
       "      <td>2020-01-24</td>\n",
       "    </tr>\n",
       "    <tr>\n",
       "      <td>2020-01-25</td>\n",
       "      <td>1438</td>\n",
       "      <td>42</td>\n",
       "      <td>39</td>\n",
       "      <td>2020-01-25</td>\n",
       "    </tr>\n",
       "    <tr>\n",
       "      <td>2020-01-26</td>\n",
       "      <td>2118</td>\n",
       "      <td>56</td>\n",
       "      <td>52</td>\n",
       "      <td>2020-01-26</td>\n",
       "    </tr>\n",
       "  </tbody>\n",
       "</table>\n",
       "</div>"
      ],
      "text/plain": [
       "            Confirmed  Deaths  Recovered        Date\n",
       "Date                                                \n",
       "2020-01-22        555      17         28  2020-01-22\n",
       "2020-01-23        653      18         30  2020-01-23\n",
       "2020-01-24        941      26         36  2020-01-24\n",
       "2020-01-25       1438      42         39  2020-01-25\n",
       "2020-01-26       2118      56         52  2020-01-26"
      ]
     },
     "execution_count": 403,
     "metadata": {},
     "output_type": "execute_result"
    }
   ],
   "source": [
    "df_date.head()"
   ]
  },
  {
   "cell_type": "code",
   "execution_count": 404,
   "metadata": {
    "slideshow": {
     "slide_type": "slide"
    }
   },
   "outputs": [
    {
     "data": {
      "application/vnd.plotly.v1+json": {
       "config": {
        "plotlyServerURL": "https://plot.ly"
       },
       "data": [
        {
         "hoverlabel": {
          "namelength": 0
         },
         "hovertemplate": "variable=Confirmed<br>Date=%{x}<br>value=%{y}",
         "legendgroup": "Confirmed",
         "line": {
          "color": "#636efa",
          "dash": "solid"
         },
         "mode": "lines",
         "name": "Confirmed",
         "showlegend": true,
         "type": "scatter",
         "x": [
          "2020-01-22",
          "2020-01-23",
          "2020-01-24",
          "2020-01-25",
          "2020-01-26",
          "2020-01-27",
          "2020-01-28",
          "2020-01-29",
          "2020-01-30",
          "2020-01-31",
          "2020-02-01",
          "2020-02-02",
          "2020-02-03",
          "2020-02-04",
          "2020-02-05",
          "2020-02-06",
          "2020-02-07",
          "2020-02-08",
          "2020-02-09",
          "2020-02-10",
          "2020-02-11",
          "2020-02-12",
          "2020-02-13",
          "2020-02-14",
          "2020-02-15",
          "2020-02-16",
          "2020-02-17",
          "2020-02-18",
          "2020-02-19",
          "2020-02-20",
          "2020-02-21",
          "2020-02-22",
          "2020-02-23",
          "2020-02-24",
          "2020-02-25",
          "2020-02-26",
          "2020-02-27",
          "2020-02-28"
         ],
         "xaxis": "x",
         "y": [
          555,
          653,
          941,
          1438,
          2118,
          2927,
          5578,
          6165,
          8235,
          9925,
          12038,
          16787,
          19881,
          23892,
          27636,
          30818,
          34392,
          37121,
          40151,
          42763,
          44803,
          45222,
          60370,
          66887,
          69032,
          71226,
          73260,
          75138,
          75641,
          76199,
          76843,
          78599,
          78985,
          79570,
          80415,
          81397,
          82756,
          84124
         ],
         "yaxis": "y"
        },
        {
         "hoverlabel": {
          "namelength": 0
         },
         "hovertemplate": "variable=Deaths<br>Date=%{x}<br>value=%{y}",
         "legendgroup": "Deaths",
         "line": {
          "color": "#EF553B",
          "dash": "solid"
         },
         "mode": "lines",
         "name": "Deaths",
         "showlegend": true,
         "type": "scatter",
         "x": [
          "2020-01-22",
          "2020-01-23",
          "2020-01-24",
          "2020-01-25",
          "2020-01-26",
          "2020-01-27",
          "2020-01-28",
          "2020-01-29",
          "2020-01-30",
          "2020-01-31",
          "2020-02-01",
          "2020-02-02",
          "2020-02-03",
          "2020-02-04",
          "2020-02-05",
          "2020-02-06",
          "2020-02-07",
          "2020-02-08",
          "2020-02-09",
          "2020-02-10",
          "2020-02-11",
          "2020-02-12",
          "2020-02-13",
          "2020-02-14",
          "2020-02-15",
          "2020-02-16",
          "2020-02-17",
          "2020-02-18",
          "2020-02-19",
          "2020-02-20",
          "2020-02-21",
          "2020-02-22",
          "2020-02-23",
          "2020-02-24",
          "2020-02-25",
          "2020-02-26",
          "2020-02-27",
          "2020-02-28"
         ],
         "xaxis": "x",
         "y": [
          17,
          18,
          26,
          42,
          56,
          82,
          131,
          133,
          171,
          213,
          259,
          362,
          426,
          492,
          564,
          634,
          719,
          806,
          906,
          1013,
          1113,
          1118,
          1371,
          1523,
          1666,
          1770,
          1868,
          2007,
          2122,
          2247,
          2251,
          2458,
          2469,
          2629,
          2708,
          2770,
          2814,
          2867
         ],
         "yaxis": "y"
        },
        {
         "hoverlabel": {
          "namelength": 0
         },
         "hovertemplate": "variable=Recovered<br>Date=%{x}<br>value=%{y}",
         "legendgroup": "Recovered",
         "line": {
          "color": "#00cc96",
          "dash": "solid"
         },
         "mode": "lines",
         "name": "Recovered",
         "showlegend": true,
         "type": "scatter",
         "x": [
          "2020-01-22",
          "2020-01-23",
          "2020-01-24",
          "2020-01-25",
          "2020-01-26",
          "2020-01-27",
          "2020-01-28",
          "2020-01-29",
          "2020-01-30",
          "2020-01-31",
          "2020-02-01",
          "2020-02-02",
          "2020-02-03",
          "2020-02-04",
          "2020-02-05",
          "2020-02-06",
          "2020-02-07",
          "2020-02-08",
          "2020-02-09",
          "2020-02-10",
          "2020-02-11",
          "2020-02-12",
          "2020-02-13",
          "2020-02-14",
          "2020-02-15",
          "2020-02-16",
          "2020-02-17",
          "2020-02-18",
          "2020-02-19",
          "2020-02-20",
          "2020-02-21",
          "2020-02-22",
          "2020-02-23",
          "2020-02-24",
          "2020-02-25",
          "2020-02-26",
          "2020-02-27",
          "2020-02-28"
         ],
         "xaxis": "x",
         "y": [
          28,
          30,
          36,
          39,
          52,
          61,
          107,
          126,
          143,
          222,
          284,
          472,
          623,
          852,
          1124,
          1487,
          2011,
          2616,
          3244,
          3946,
          4683,
          5150,
          6295,
          8058,
          9395,
          10865,
          12583,
          14352,
          16121,
          18177,
          18890,
          22886,
          23394,
          25227,
          27905,
          30384,
          33277,
          36711
         ],
         "yaxis": "y"
        }
       ],
       "layout": {
        "legend": {
         "title": {
          "text": "variable"
         },
         "tracegroupgap": 0
        },
        "margin": {
         "t": 60
        },
        "template": {
         "data": {
          "bar": [
           {
            "error_x": {
             "color": "#2a3f5f"
            },
            "error_y": {
             "color": "#2a3f5f"
            },
            "marker": {
             "line": {
              "color": "#E5ECF6",
              "width": 0.5
             }
            },
            "type": "bar"
           }
          ],
          "barpolar": [
           {
            "marker": {
             "line": {
              "color": "#E5ECF6",
              "width": 0.5
             }
            },
            "type": "barpolar"
           }
          ],
          "carpet": [
           {
            "aaxis": {
             "endlinecolor": "#2a3f5f",
             "gridcolor": "white",
             "linecolor": "white",
             "minorgridcolor": "white",
             "startlinecolor": "#2a3f5f"
            },
            "baxis": {
             "endlinecolor": "#2a3f5f",
             "gridcolor": "white",
             "linecolor": "white",
             "minorgridcolor": "white",
             "startlinecolor": "#2a3f5f"
            },
            "type": "carpet"
           }
          ],
          "choropleth": [
           {
            "colorbar": {
             "outlinewidth": 0,
             "ticks": ""
            },
            "type": "choropleth"
           }
          ],
          "contour": [
           {
            "colorbar": {
             "outlinewidth": 0,
             "ticks": ""
            },
            "colorscale": [
             [
              0,
              "#0d0887"
             ],
             [
              0.1111111111111111,
              "#46039f"
             ],
             [
              0.2222222222222222,
              "#7201a8"
             ],
             [
              0.3333333333333333,
              "#9c179e"
             ],
             [
              0.4444444444444444,
              "#bd3786"
             ],
             [
              0.5555555555555556,
              "#d8576b"
             ],
             [
              0.6666666666666666,
              "#ed7953"
             ],
             [
              0.7777777777777778,
              "#fb9f3a"
             ],
             [
              0.8888888888888888,
              "#fdca26"
             ],
             [
              1,
              "#f0f921"
             ]
            ],
            "type": "contour"
           }
          ],
          "contourcarpet": [
           {
            "colorbar": {
             "outlinewidth": 0,
             "ticks": ""
            },
            "type": "contourcarpet"
           }
          ],
          "heatmap": [
           {
            "colorbar": {
             "outlinewidth": 0,
             "ticks": ""
            },
            "colorscale": [
             [
              0,
              "#0d0887"
             ],
             [
              0.1111111111111111,
              "#46039f"
             ],
             [
              0.2222222222222222,
              "#7201a8"
             ],
             [
              0.3333333333333333,
              "#9c179e"
             ],
             [
              0.4444444444444444,
              "#bd3786"
             ],
             [
              0.5555555555555556,
              "#d8576b"
             ],
             [
              0.6666666666666666,
              "#ed7953"
             ],
             [
              0.7777777777777778,
              "#fb9f3a"
             ],
             [
              0.8888888888888888,
              "#fdca26"
             ],
             [
              1,
              "#f0f921"
             ]
            ],
            "type": "heatmap"
           }
          ],
          "heatmapgl": [
           {
            "colorbar": {
             "outlinewidth": 0,
             "ticks": ""
            },
            "colorscale": [
             [
              0,
              "#0d0887"
             ],
             [
              0.1111111111111111,
              "#46039f"
             ],
             [
              0.2222222222222222,
              "#7201a8"
             ],
             [
              0.3333333333333333,
              "#9c179e"
             ],
             [
              0.4444444444444444,
              "#bd3786"
             ],
             [
              0.5555555555555556,
              "#d8576b"
             ],
             [
              0.6666666666666666,
              "#ed7953"
             ],
             [
              0.7777777777777778,
              "#fb9f3a"
             ],
             [
              0.8888888888888888,
              "#fdca26"
             ],
             [
              1,
              "#f0f921"
             ]
            ],
            "type": "heatmapgl"
           }
          ],
          "histogram": [
           {
            "marker": {
             "colorbar": {
              "outlinewidth": 0,
              "ticks": ""
             }
            },
            "type": "histogram"
           }
          ],
          "histogram2d": [
           {
            "colorbar": {
             "outlinewidth": 0,
             "ticks": ""
            },
            "colorscale": [
             [
              0,
              "#0d0887"
             ],
             [
              0.1111111111111111,
              "#46039f"
             ],
             [
              0.2222222222222222,
              "#7201a8"
             ],
             [
              0.3333333333333333,
              "#9c179e"
             ],
             [
              0.4444444444444444,
              "#bd3786"
             ],
             [
              0.5555555555555556,
              "#d8576b"
             ],
             [
              0.6666666666666666,
              "#ed7953"
             ],
             [
              0.7777777777777778,
              "#fb9f3a"
             ],
             [
              0.8888888888888888,
              "#fdca26"
             ],
             [
              1,
              "#f0f921"
             ]
            ],
            "type": "histogram2d"
           }
          ],
          "histogram2dcontour": [
           {
            "colorbar": {
             "outlinewidth": 0,
             "ticks": ""
            },
            "colorscale": [
             [
              0,
              "#0d0887"
             ],
             [
              0.1111111111111111,
              "#46039f"
             ],
             [
              0.2222222222222222,
              "#7201a8"
             ],
             [
              0.3333333333333333,
              "#9c179e"
             ],
             [
              0.4444444444444444,
              "#bd3786"
             ],
             [
              0.5555555555555556,
              "#d8576b"
             ],
             [
              0.6666666666666666,
              "#ed7953"
             ],
             [
              0.7777777777777778,
              "#fb9f3a"
             ],
             [
              0.8888888888888888,
              "#fdca26"
             ],
             [
              1,
              "#f0f921"
             ]
            ],
            "type": "histogram2dcontour"
           }
          ],
          "mesh3d": [
           {
            "colorbar": {
             "outlinewidth": 0,
             "ticks": ""
            },
            "type": "mesh3d"
           }
          ],
          "parcoords": [
           {
            "line": {
             "colorbar": {
              "outlinewidth": 0,
              "ticks": ""
             }
            },
            "type": "parcoords"
           }
          ],
          "pie": [
           {
            "automargin": true,
            "type": "pie"
           }
          ],
          "scatter": [
           {
            "marker": {
             "colorbar": {
              "outlinewidth": 0,
              "ticks": ""
             }
            },
            "type": "scatter"
           }
          ],
          "scatter3d": [
           {
            "line": {
             "colorbar": {
              "outlinewidth": 0,
              "ticks": ""
             }
            },
            "marker": {
             "colorbar": {
              "outlinewidth": 0,
              "ticks": ""
             }
            },
            "type": "scatter3d"
           }
          ],
          "scattercarpet": [
           {
            "marker": {
             "colorbar": {
              "outlinewidth": 0,
              "ticks": ""
             }
            },
            "type": "scattercarpet"
           }
          ],
          "scattergeo": [
           {
            "marker": {
             "colorbar": {
              "outlinewidth": 0,
              "ticks": ""
             }
            },
            "type": "scattergeo"
           }
          ],
          "scattergl": [
           {
            "marker": {
             "colorbar": {
              "outlinewidth": 0,
              "ticks": ""
             }
            },
            "type": "scattergl"
           }
          ],
          "scattermapbox": [
           {
            "marker": {
             "colorbar": {
              "outlinewidth": 0,
              "ticks": ""
             }
            },
            "type": "scattermapbox"
           }
          ],
          "scatterpolar": [
           {
            "marker": {
             "colorbar": {
              "outlinewidth": 0,
              "ticks": ""
             }
            },
            "type": "scatterpolar"
           }
          ],
          "scatterpolargl": [
           {
            "marker": {
             "colorbar": {
              "outlinewidth": 0,
              "ticks": ""
             }
            },
            "type": "scatterpolargl"
           }
          ],
          "scatterternary": [
           {
            "marker": {
             "colorbar": {
              "outlinewidth": 0,
              "ticks": ""
             }
            },
            "type": "scatterternary"
           }
          ],
          "surface": [
           {
            "colorbar": {
             "outlinewidth": 0,
             "ticks": ""
            },
            "colorscale": [
             [
              0,
              "#0d0887"
             ],
             [
              0.1111111111111111,
              "#46039f"
             ],
             [
              0.2222222222222222,
              "#7201a8"
             ],
             [
              0.3333333333333333,
              "#9c179e"
             ],
             [
              0.4444444444444444,
              "#bd3786"
             ],
             [
              0.5555555555555556,
              "#d8576b"
             ],
             [
              0.6666666666666666,
              "#ed7953"
             ],
             [
              0.7777777777777778,
              "#fb9f3a"
             ],
             [
              0.8888888888888888,
              "#fdca26"
             ],
             [
              1,
              "#f0f921"
             ]
            ],
            "type": "surface"
           }
          ],
          "table": [
           {
            "cells": {
             "fill": {
              "color": "#EBF0F8"
             },
             "line": {
              "color": "white"
             }
            },
            "header": {
             "fill": {
              "color": "#C8D4E3"
             },
             "line": {
              "color": "white"
             }
            },
            "type": "table"
           }
          ]
         },
         "layout": {
          "annotationdefaults": {
           "arrowcolor": "#2a3f5f",
           "arrowhead": 0,
           "arrowwidth": 1
          },
          "coloraxis": {
           "colorbar": {
            "outlinewidth": 0,
            "ticks": ""
           }
          },
          "colorscale": {
           "diverging": [
            [
             0,
             "#8e0152"
            ],
            [
             0.1,
             "#c51b7d"
            ],
            [
             0.2,
             "#de77ae"
            ],
            [
             0.3,
             "#f1b6da"
            ],
            [
             0.4,
             "#fde0ef"
            ],
            [
             0.5,
             "#f7f7f7"
            ],
            [
             0.6,
             "#e6f5d0"
            ],
            [
             0.7,
             "#b8e186"
            ],
            [
             0.8,
             "#7fbc41"
            ],
            [
             0.9,
             "#4d9221"
            ],
            [
             1,
             "#276419"
            ]
           ],
           "sequential": [
            [
             0,
             "#0d0887"
            ],
            [
             0.1111111111111111,
             "#46039f"
            ],
            [
             0.2222222222222222,
             "#7201a8"
            ],
            [
             0.3333333333333333,
             "#9c179e"
            ],
            [
             0.4444444444444444,
             "#bd3786"
            ],
            [
             0.5555555555555556,
             "#d8576b"
            ],
            [
             0.6666666666666666,
             "#ed7953"
            ],
            [
             0.7777777777777778,
             "#fb9f3a"
            ],
            [
             0.8888888888888888,
             "#fdca26"
            ],
            [
             1,
             "#f0f921"
            ]
           ],
           "sequentialminus": [
            [
             0,
             "#0d0887"
            ],
            [
             0.1111111111111111,
             "#46039f"
            ],
            [
             0.2222222222222222,
             "#7201a8"
            ],
            [
             0.3333333333333333,
             "#9c179e"
            ],
            [
             0.4444444444444444,
             "#bd3786"
            ],
            [
             0.5555555555555556,
             "#d8576b"
            ],
            [
             0.6666666666666666,
             "#ed7953"
            ],
            [
             0.7777777777777778,
             "#fb9f3a"
            ],
            [
             0.8888888888888888,
             "#fdca26"
            ],
            [
             1,
             "#f0f921"
            ]
           ]
          },
          "colorway": [
           "#636efa",
           "#EF553B",
           "#00cc96",
           "#ab63fa",
           "#FFA15A",
           "#19d3f3",
           "#FF6692",
           "#B6E880",
           "#FF97FF",
           "#FECB52"
          ],
          "font": {
           "color": "#2a3f5f"
          },
          "geo": {
           "bgcolor": "white",
           "lakecolor": "white",
           "landcolor": "#E5ECF6",
           "showlakes": true,
           "showland": true,
           "subunitcolor": "white"
          },
          "hoverlabel": {
           "align": "left"
          },
          "hovermode": "closest",
          "mapbox": {
           "style": "light"
          },
          "paper_bgcolor": "white",
          "plot_bgcolor": "#E5ECF6",
          "polar": {
           "angularaxis": {
            "gridcolor": "white",
            "linecolor": "white",
            "ticks": ""
           },
           "bgcolor": "#E5ECF6",
           "radialaxis": {
            "gridcolor": "white",
            "linecolor": "white",
            "ticks": ""
           }
          },
          "scene": {
           "xaxis": {
            "backgroundcolor": "#E5ECF6",
            "gridcolor": "white",
            "gridwidth": 2,
            "linecolor": "white",
            "showbackground": true,
            "ticks": "",
            "zerolinecolor": "white"
           },
           "yaxis": {
            "backgroundcolor": "#E5ECF6",
            "gridcolor": "white",
            "gridwidth": 2,
            "linecolor": "white",
            "showbackground": true,
            "ticks": "",
            "zerolinecolor": "white"
           },
           "zaxis": {
            "backgroundcolor": "#E5ECF6",
            "gridcolor": "white",
            "gridwidth": 2,
            "linecolor": "white",
            "showbackground": true,
            "ticks": "",
            "zerolinecolor": "white"
           }
          },
          "shapedefaults": {
           "line": {
            "color": "#2a3f5f"
           }
          },
          "ternary": {
           "aaxis": {
            "gridcolor": "white",
            "linecolor": "white",
            "ticks": ""
           },
           "baxis": {
            "gridcolor": "white",
            "linecolor": "white",
            "ticks": ""
           },
           "bgcolor": "#E5ECF6",
           "caxis": {
            "gridcolor": "white",
            "linecolor": "white",
            "ticks": ""
           }
          },
          "title": {
           "x": 0.05
          },
          "xaxis": {
           "automargin": true,
           "gridcolor": "white",
           "linecolor": "white",
           "ticks": "",
           "title": {
            "standoff": 15
           },
           "zerolinecolor": "white",
           "zerolinewidth": 2
          },
          "yaxis": {
           "automargin": true,
           "gridcolor": "white",
           "linecolor": "white",
           "ticks": "",
           "title": {
            "standoff": 15
           },
           "zerolinecolor": "white",
           "zerolinewidth": 2
          }
         }
        },
        "xaxis": {
         "anchor": "y",
         "domain": [
          0,
          1
         ],
         "title": {
          "text": "Date"
         }
        },
        "yaxis": {
         "anchor": "x",
         "domain": [
          0,
          1
         ],
         "title": {
          "text": "value"
         }
        }
       }
      },
      "text/html": [
       "<div>\n",
       "        \n",
       "        \n",
       "            <div id=\"886752f1-be3e-466d-87aa-ab3fc7113ffb\" class=\"plotly-graph-div\" style=\"height:525px; width:100%;\"></div>\n",
       "            <script type=\"text/javascript\">\n",
       "                require([\"plotly\"], function(Plotly) {\n",
       "                    window.PLOTLYENV=window.PLOTLYENV || {};\n",
       "                    \n",
       "                if (document.getElementById(\"886752f1-be3e-466d-87aa-ab3fc7113ffb\")) {\n",
       "                    Plotly.newPlot(\n",
       "                        '886752f1-be3e-466d-87aa-ab3fc7113ffb',\n",
       "                        [{\"hoverlabel\": {\"namelength\": 0}, \"hovertemplate\": \"variable=Confirmed<br>Date=%{x}<br>value=%{y}\", \"legendgroup\": \"Confirmed\", \"line\": {\"color\": \"#636efa\", \"dash\": \"solid\"}, \"mode\": \"lines\", \"name\": \"Confirmed\", \"showlegend\": true, \"type\": \"scatter\", \"x\": [\"2020-01-22\", \"2020-01-23\", \"2020-01-24\", \"2020-01-25\", \"2020-01-26\", \"2020-01-27\", \"2020-01-28\", \"2020-01-29\", \"2020-01-30\", \"2020-01-31\", \"2020-02-01\", \"2020-02-02\", \"2020-02-03\", \"2020-02-04\", \"2020-02-05\", \"2020-02-06\", \"2020-02-07\", \"2020-02-08\", \"2020-02-09\", \"2020-02-10\", \"2020-02-11\", \"2020-02-12\", \"2020-02-13\", \"2020-02-14\", \"2020-02-15\", \"2020-02-16\", \"2020-02-17\", \"2020-02-18\", \"2020-02-19\", \"2020-02-20\", \"2020-02-21\", \"2020-02-22\", \"2020-02-23\", \"2020-02-24\", \"2020-02-25\", \"2020-02-26\", \"2020-02-27\", \"2020-02-28\"], \"xaxis\": \"x\", \"y\": [555, 653, 941, 1438, 2118, 2927, 5578, 6165, 8235, 9925, 12038, 16787, 19881, 23892, 27636, 30818, 34392, 37121, 40151, 42763, 44803, 45222, 60370, 66887, 69032, 71226, 73260, 75138, 75641, 76199, 76843, 78599, 78985, 79570, 80415, 81397, 82756, 84124], \"yaxis\": \"y\"}, {\"hoverlabel\": {\"namelength\": 0}, \"hovertemplate\": \"variable=Deaths<br>Date=%{x}<br>value=%{y}\", \"legendgroup\": \"Deaths\", \"line\": {\"color\": \"#EF553B\", \"dash\": \"solid\"}, \"mode\": \"lines\", \"name\": \"Deaths\", \"showlegend\": true, \"type\": \"scatter\", \"x\": [\"2020-01-22\", \"2020-01-23\", \"2020-01-24\", \"2020-01-25\", \"2020-01-26\", \"2020-01-27\", \"2020-01-28\", \"2020-01-29\", \"2020-01-30\", \"2020-01-31\", \"2020-02-01\", \"2020-02-02\", \"2020-02-03\", \"2020-02-04\", \"2020-02-05\", \"2020-02-06\", \"2020-02-07\", \"2020-02-08\", \"2020-02-09\", \"2020-02-10\", \"2020-02-11\", \"2020-02-12\", \"2020-02-13\", \"2020-02-14\", \"2020-02-15\", \"2020-02-16\", \"2020-02-17\", \"2020-02-18\", \"2020-02-19\", \"2020-02-20\", \"2020-02-21\", \"2020-02-22\", \"2020-02-23\", \"2020-02-24\", \"2020-02-25\", \"2020-02-26\", \"2020-02-27\", \"2020-02-28\"], \"xaxis\": \"x\", \"y\": [17, 18, 26, 42, 56, 82, 131, 133, 171, 213, 259, 362, 426, 492, 564, 634, 719, 806, 906, 1013, 1113, 1118, 1371, 1523, 1666, 1770, 1868, 2007, 2122, 2247, 2251, 2458, 2469, 2629, 2708, 2770, 2814, 2867], \"yaxis\": \"y\"}, {\"hoverlabel\": {\"namelength\": 0}, \"hovertemplate\": \"variable=Recovered<br>Date=%{x}<br>value=%{y}\", \"legendgroup\": \"Recovered\", \"line\": {\"color\": \"#00cc96\", \"dash\": \"solid\"}, \"mode\": \"lines\", \"name\": \"Recovered\", \"showlegend\": true, \"type\": \"scatter\", \"x\": [\"2020-01-22\", \"2020-01-23\", \"2020-01-24\", \"2020-01-25\", \"2020-01-26\", \"2020-01-27\", \"2020-01-28\", \"2020-01-29\", \"2020-01-30\", \"2020-01-31\", \"2020-02-01\", \"2020-02-02\", \"2020-02-03\", \"2020-02-04\", \"2020-02-05\", \"2020-02-06\", \"2020-02-07\", \"2020-02-08\", \"2020-02-09\", \"2020-02-10\", \"2020-02-11\", \"2020-02-12\", \"2020-02-13\", \"2020-02-14\", \"2020-02-15\", \"2020-02-16\", \"2020-02-17\", \"2020-02-18\", \"2020-02-19\", \"2020-02-20\", \"2020-02-21\", \"2020-02-22\", \"2020-02-23\", \"2020-02-24\", \"2020-02-25\", \"2020-02-26\", \"2020-02-27\", \"2020-02-28\"], \"xaxis\": \"x\", \"y\": [28, 30, 36, 39, 52, 61, 107, 126, 143, 222, 284, 472, 623, 852, 1124, 1487, 2011, 2616, 3244, 3946, 4683, 5150, 6295, 8058, 9395, 10865, 12583, 14352, 16121, 18177, 18890, 22886, 23394, 25227, 27905, 30384, 33277, 36711], \"yaxis\": \"y\"}],\n",
       "                        {\"legend\": {\"title\": {\"text\": \"variable\"}, \"tracegroupgap\": 0}, \"margin\": {\"t\": 60}, \"template\": {\"data\": {\"bar\": [{\"error_x\": {\"color\": \"#2a3f5f\"}, \"error_y\": {\"color\": \"#2a3f5f\"}, \"marker\": {\"line\": {\"color\": \"#E5ECF6\", \"width\": 0.5}}, \"type\": \"bar\"}], \"barpolar\": [{\"marker\": {\"line\": {\"color\": \"#E5ECF6\", \"width\": 0.5}}, \"type\": \"barpolar\"}], \"carpet\": [{\"aaxis\": {\"endlinecolor\": \"#2a3f5f\", \"gridcolor\": \"white\", \"linecolor\": \"white\", \"minorgridcolor\": \"white\", \"startlinecolor\": \"#2a3f5f\"}, \"baxis\": {\"endlinecolor\": \"#2a3f5f\", \"gridcolor\": \"white\", \"linecolor\": \"white\", \"minorgridcolor\": \"white\", \"startlinecolor\": \"#2a3f5f\"}, \"type\": \"carpet\"}], \"choropleth\": [{\"colorbar\": {\"outlinewidth\": 0, \"ticks\": \"\"}, \"type\": \"choropleth\"}], \"contour\": [{\"colorbar\": {\"outlinewidth\": 0, \"ticks\": \"\"}, \"colorscale\": [[0.0, \"#0d0887\"], [0.1111111111111111, \"#46039f\"], [0.2222222222222222, \"#7201a8\"], [0.3333333333333333, \"#9c179e\"], [0.4444444444444444, \"#bd3786\"], [0.5555555555555556, \"#d8576b\"], [0.6666666666666666, \"#ed7953\"], [0.7777777777777778, \"#fb9f3a\"], [0.8888888888888888, \"#fdca26\"], [1.0, \"#f0f921\"]], \"type\": \"contour\"}], \"contourcarpet\": [{\"colorbar\": {\"outlinewidth\": 0, \"ticks\": \"\"}, \"type\": \"contourcarpet\"}], \"heatmap\": [{\"colorbar\": {\"outlinewidth\": 0, \"ticks\": \"\"}, \"colorscale\": [[0.0, \"#0d0887\"], [0.1111111111111111, \"#46039f\"], [0.2222222222222222, \"#7201a8\"], [0.3333333333333333, \"#9c179e\"], [0.4444444444444444, \"#bd3786\"], [0.5555555555555556, \"#d8576b\"], [0.6666666666666666, \"#ed7953\"], [0.7777777777777778, \"#fb9f3a\"], [0.8888888888888888, \"#fdca26\"], [1.0, \"#f0f921\"]], \"type\": \"heatmap\"}], \"heatmapgl\": [{\"colorbar\": {\"outlinewidth\": 0, \"ticks\": \"\"}, \"colorscale\": [[0.0, \"#0d0887\"], [0.1111111111111111, \"#46039f\"], [0.2222222222222222, \"#7201a8\"], [0.3333333333333333, \"#9c179e\"], [0.4444444444444444, \"#bd3786\"], [0.5555555555555556, \"#d8576b\"], [0.6666666666666666, \"#ed7953\"], [0.7777777777777778, \"#fb9f3a\"], [0.8888888888888888, \"#fdca26\"], [1.0, \"#f0f921\"]], \"type\": \"heatmapgl\"}], \"histogram\": [{\"marker\": {\"colorbar\": {\"outlinewidth\": 0, \"ticks\": \"\"}}, \"type\": \"histogram\"}], \"histogram2d\": [{\"colorbar\": {\"outlinewidth\": 0, \"ticks\": \"\"}, \"colorscale\": [[0.0, \"#0d0887\"], [0.1111111111111111, \"#46039f\"], [0.2222222222222222, \"#7201a8\"], [0.3333333333333333, \"#9c179e\"], [0.4444444444444444, \"#bd3786\"], [0.5555555555555556, \"#d8576b\"], [0.6666666666666666, \"#ed7953\"], [0.7777777777777778, \"#fb9f3a\"], [0.8888888888888888, \"#fdca26\"], [1.0, \"#f0f921\"]], \"type\": \"histogram2d\"}], \"histogram2dcontour\": [{\"colorbar\": {\"outlinewidth\": 0, \"ticks\": \"\"}, \"colorscale\": [[0.0, \"#0d0887\"], [0.1111111111111111, \"#46039f\"], [0.2222222222222222, \"#7201a8\"], [0.3333333333333333, \"#9c179e\"], [0.4444444444444444, \"#bd3786\"], [0.5555555555555556, \"#d8576b\"], [0.6666666666666666, \"#ed7953\"], [0.7777777777777778, \"#fb9f3a\"], [0.8888888888888888, \"#fdca26\"], [1.0, \"#f0f921\"]], \"type\": \"histogram2dcontour\"}], \"mesh3d\": [{\"colorbar\": {\"outlinewidth\": 0, \"ticks\": \"\"}, \"type\": \"mesh3d\"}], \"parcoords\": [{\"line\": {\"colorbar\": {\"outlinewidth\": 0, \"ticks\": \"\"}}, \"type\": \"parcoords\"}], \"pie\": [{\"automargin\": true, \"type\": \"pie\"}], \"scatter\": [{\"marker\": {\"colorbar\": {\"outlinewidth\": 0, \"ticks\": \"\"}}, \"type\": \"scatter\"}], \"scatter3d\": [{\"line\": {\"colorbar\": {\"outlinewidth\": 0, \"ticks\": \"\"}}, \"marker\": {\"colorbar\": {\"outlinewidth\": 0, \"ticks\": \"\"}}, \"type\": \"scatter3d\"}], \"scattercarpet\": [{\"marker\": {\"colorbar\": {\"outlinewidth\": 0, \"ticks\": \"\"}}, \"type\": \"scattercarpet\"}], \"scattergeo\": [{\"marker\": {\"colorbar\": {\"outlinewidth\": 0, \"ticks\": \"\"}}, \"type\": \"scattergeo\"}], \"scattergl\": [{\"marker\": {\"colorbar\": {\"outlinewidth\": 0, \"ticks\": \"\"}}, \"type\": \"scattergl\"}], \"scattermapbox\": [{\"marker\": {\"colorbar\": {\"outlinewidth\": 0, \"ticks\": \"\"}}, \"type\": \"scattermapbox\"}], \"scatterpolar\": [{\"marker\": {\"colorbar\": {\"outlinewidth\": 0, \"ticks\": \"\"}}, \"type\": \"scatterpolar\"}], \"scatterpolargl\": [{\"marker\": {\"colorbar\": {\"outlinewidth\": 0, \"ticks\": \"\"}}, \"type\": \"scatterpolargl\"}], \"scatterternary\": [{\"marker\": {\"colorbar\": {\"outlinewidth\": 0, \"ticks\": \"\"}}, \"type\": \"scatterternary\"}], \"surface\": [{\"colorbar\": {\"outlinewidth\": 0, \"ticks\": \"\"}, \"colorscale\": [[0.0, \"#0d0887\"], [0.1111111111111111, \"#46039f\"], [0.2222222222222222, \"#7201a8\"], [0.3333333333333333, \"#9c179e\"], [0.4444444444444444, \"#bd3786\"], [0.5555555555555556, \"#d8576b\"], [0.6666666666666666, \"#ed7953\"], [0.7777777777777778, \"#fb9f3a\"], [0.8888888888888888, \"#fdca26\"], [1.0, \"#f0f921\"]], \"type\": \"surface\"}], \"table\": [{\"cells\": {\"fill\": {\"color\": \"#EBF0F8\"}, \"line\": {\"color\": \"white\"}}, \"header\": {\"fill\": {\"color\": \"#C8D4E3\"}, \"line\": {\"color\": \"white\"}}, \"type\": \"table\"}]}, \"layout\": {\"annotationdefaults\": {\"arrowcolor\": \"#2a3f5f\", \"arrowhead\": 0, \"arrowwidth\": 1}, \"coloraxis\": {\"colorbar\": {\"outlinewidth\": 0, \"ticks\": \"\"}}, \"colorscale\": {\"diverging\": [[0, \"#8e0152\"], [0.1, \"#c51b7d\"], [0.2, \"#de77ae\"], [0.3, \"#f1b6da\"], [0.4, \"#fde0ef\"], [0.5, \"#f7f7f7\"], [0.6, \"#e6f5d0\"], [0.7, \"#b8e186\"], [0.8, \"#7fbc41\"], [0.9, \"#4d9221\"], [1, \"#276419\"]], \"sequential\": [[0.0, \"#0d0887\"], [0.1111111111111111, \"#46039f\"], [0.2222222222222222, \"#7201a8\"], [0.3333333333333333, \"#9c179e\"], [0.4444444444444444, \"#bd3786\"], [0.5555555555555556, \"#d8576b\"], [0.6666666666666666, \"#ed7953\"], [0.7777777777777778, \"#fb9f3a\"], [0.8888888888888888, \"#fdca26\"], [1.0, \"#f0f921\"]], \"sequentialminus\": [[0.0, \"#0d0887\"], [0.1111111111111111, \"#46039f\"], [0.2222222222222222, \"#7201a8\"], [0.3333333333333333, \"#9c179e\"], [0.4444444444444444, \"#bd3786\"], [0.5555555555555556, \"#d8576b\"], [0.6666666666666666, \"#ed7953\"], [0.7777777777777778, \"#fb9f3a\"], [0.8888888888888888, \"#fdca26\"], [1.0, \"#f0f921\"]]}, \"colorway\": [\"#636efa\", \"#EF553B\", \"#00cc96\", \"#ab63fa\", \"#FFA15A\", \"#19d3f3\", \"#FF6692\", \"#B6E880\", \"#FF97FF\", \"#FECB52\"], \"font\": {\"color\": \"#2a3f5f\"}, \"geo\": {\"bgcolor\": \"white\", \"lakecolor\": \"white\", \"landcolor\": \"#E5ECF6\", \"showlakes\": true, \"showland\": true, \"subunitcolor\": \"white\"}, \"hoverlabel\": {\"align\": \"left\"}, \"hovermode\": \"closest\", \"mapbox\": {\"style\": \"light\"}, \"paper_bgcolor\": \"white\", \"plot_bgcolor\": \"#E5ECF6\", \"polar\": {\"angularaxis\": {\"gridcolor\": \"white\", \"linecolor\": \"white\", \"ticks\": \"\"}, \"bgcolor\": \"#E5ECF6\", \"radialaxis\": {\"gridcolor\": \"white\", \"linecolor\": \"white\", \"ticks\": \"\"}}, \"scene\": {\"xaxis\": {\"backgroundcolor\": \"#E5ECF6\", \"gridcolor\": \"white\", \"gridwidth\": 2, \"linecolor\": \"white\", \"showbackground\": true, \"ticks\": \"\", \"zerolinecolor\": \"white\"}, \"yaxis\": {\"backgroundcolor\": \"#E5ECF6\", \"gridcolor\": \"white\", \"gridwidth\": 2, \"linecolor\": \"white\", \"showbackground\": true, \"ticks\": \"\", \"zerolinecolor\": \"white\"}, \"zaxis\": {\"backgroundcolor\": \"#E5ECF6\", \"gridcolor\": \"white\", \"gridwidth\": 2, \"linecolor\": \"white\", \"showbackground\": true, \"ticks\": \"\", \"zerolinecolor\": \"white\"}}, \"shapedefaults\": {\"line\": {\"color\": \"#2a3f5f\"}}, \"ternary\": {\"aaxis\": {\"gridcolor\": \"white\", \"linecolor\": \"white\", \"ticks\": \"\"}, \"baxis\": {\"gridcolor\": \"white\", \"linecolor\": \"white\", \"ticks\": \"\"}, \"bgcolor\": \"#E5ECF6\", \"caxis\": {\"gridcolor\": \"white\", \"linecolor\": \"white\", \"ticks\": \"\"}}, \"title\": {\"x\": 0.05}, \"xaxis\": {\"automargin\": true, \"gridcolor\": \"white\", \"linecolor\": \"white\", \"ticks\": \"\", \"title\": {\"standoff\": 15}, \"zerolinecolor\": \"white\", \"zerolinewidth\": 2}, \"yaxis\": {\"automargin\": true, \"gridcolor\": \"white\", \"linecolor\": \"white\", \"ticks\": \"\", \"title\": {\"standoff\": 15}, \"zerolinecolor\": \"white\", \"zerolinewidth\": 2}}}, \"xaxis\": {\"anchor\": \"y\", \"domain\": [0.0, 1.0], \"title\": {\"text\": \"Date\"}}, \"yaxis\": {\"anchor\": \"x\", \"domain\": [0.0, 1.0], \"title\": {\"text\": \"value\"}}},\n",
       "                        {\"responsive\": true}\n",
       "                    ).then(function(){\n",
       "                            \n",
       "var gd = document.getElementById('886752f1-be3e-466d-87aa-ab3fc7113ffb');\n",
       "var x = new MutationObserver(function (mutations, observer) {{\n",
       "        var display = window.getComputedStyle(gd).display;\n",
       "        if (!display || display === 'none') {{\n",
       "            console.log([gd, 'removed!']);\n",
       "            Plotly.purge(gd);\n",
       "            observer.disconnect();\n",
       "        }}\n",
       "}});\n",
       "\n",
       "// Listen for the removal of the full notebook cells\n",
       "var notebookContainer = gd.closest('#notebook-container');\n",
       "if (notebookContainer) {{\n",
       "    x.observe(notebookContainer, {childList: true});\n",
       "}}\n",
       "\n",
       "// Listen for the clearing of the current output cell\n",
       "var outputEl = gd.closest('.output');\n",
       "if (outputEl) {{\n",
       "    x.observe(outputEl, {childList: true});\n",
       "}}\n",
       "\n",
       "                        })\n",
       "                };\n",
       "                });\n",
       "            </script>\n",
       "        </div>"
      ]
     },
     "metadata": {},
     "output_type": "display_data"
    }
   ],
   "source": [
    "import plotly.express as px\n",
    "fig = px.line(melted_data, x=\"Date\",y='value', color='variable')\n",
    "fig.show()"
   ]
  },
  {
   "cell_type": "code",
   "execution_count": 405,
   "metadata": {
    "slideshow": {
     "slide_type": "skip"
    }
   },
   "outputs": [],
   "source": [
    "# Because our dataset is cumulativ, we should take the max.\n",
    "latest_data=df[(df.Date==max(df[\"Date\"]))]"
   ]
  },
  {
   "cell_type": "code",
   "execution_count": 406,
   "metadata": {
    "slideshow": {
     "slide_type": "skip"
    }
   },
   "outputs": [],
   "source": [
    "data_each_country = pd.DataFrame(latest_data.groupby(by='Country/Region').sum())\n",
    "if 'SNo' in data_each_country:\n",
    "    data_each_country=data_each_country.drop('SNo',axis=1)\n",
    "data_each_country['country']=data_each_country.index\n",
    "\n"
   ]
  },
  {
   "cell_type": "code",
   "execution_count": 407,
   "metadata": {
    "slideshow": {
     "slide_type": "skip"
    }
   },
   "outputs": [
    {
     "name": "stdout",
     "output_type": "stream",
     "text": [
      "Total number of confirmed cases over these days is 84124\n"
     ]
    }
   ],
   "source": [
    "print('Total number of confirmed cases over these days is',sum(data_each_country['Confirmed']))"
   ]
  },
  {
   "cell_type": "code",
   "execution_count": 408,
   "metadata": {
    "slideshow": {
     "slide_type": "skip"
    }
   },
   "outputs": [
    {
     "data": {
      "text/html": [
       "<div>\n",
       "<style scoped>\n",
       "    .dataframe tbody tr th:only-of-type {\n",
       "        vertical-align: middle;\n",
       "    }\n",
       "\n",
       "    .dataframe tbody tr th {\n",
       "        vertical-align: top;\n",
       "    }\n",
       "\n",
       "    .dataframe thead th {\n",
       "        text-align: right;\n",
       "    }\n",
       "</style>\n",
       "<table border=\"1\" class=\"dataframe\">\n",
       "  <thead>\n",
       "    <tr style=\"text-align: right;\">\n",
       "      <th></th>\n",
       "      <th>Confirmed</th>\n",
       "      <th>Deaths</th>\n",
       "      <th>Recovered</th>\n",
       "      <th>country</th>\n",
       "    </tr>\n",
       "    <tr>\n",
       "      <th>Country/Region</th>\n",
       "      <th></th>\n",
       "      <th></th>\n",
       "      <th></th>\n",
       "      <th></th>\n",
       "    </tr>\n",
       "  </thead>\n",
       "  <tbody>\n",
       "    <tr>\n",
       "      <td>Mainland China</td>\n",
       "      <td>78824</td>\n",
       "      <td>2788</td>\n",
       "      <td>36291</td>\n",
       "      <td>Mainland China</td>\n",
       "    </tr>\n",
       "    <tr>\n",
       "      <td>South Korea</td>\n",
       "      <td>2337</td>\n",
       "      <td>13</td>\n",
       "      <td>22</td>\n",
       "      <td>South Korea</td>\n",
       "    </tr>\n",
       "    <tr>\n",
       "      <td>Italy</td>\n",
       "      <td>888</td>\n",
       "      <td>21</td>\n",
       "      <td>46</td>\n",
       "      <td>Italy</td>\n",
       "    </tr>\n",
       "    <tr>\n",
       "      <td>Others</td>\n",
       "      <td>705</td>\n",
       "      <td>1</td>\n",
       "      <td>10</td>\n",
       "      <td>Others</td>\n",
       "    </tr>\n",
       "    <tr>\n",
       "      <td>Iran</td>\n",
       "      <td>388</td>\n",
       "      <td>34</td>\n",
       "      <td>73</td>\n",
       "      <td>Iran</td>\n",
       "    </tr>\n",
       "    <tr>\n",
       "      <td>...</td>\n",
       "      <td>...</td>\n",
       "      <td>...</td>\n",
       "      <td>...</td>\n",
       "      <td>...</td>\n",
       "    </tr>\n",
       "    <tr>\n",
       "      <td>New Zealand</td>\n",
       "      <td>1</td>\n",
       "      <td>0</td>\n",
       "      <td>0</td>\n",
       "      <td>New Zealand</td>\n",
       "    </tr>\n",
       "    <tr>\n",
       "      <td>Nigeria</td>\n",
       "      <td>1</td>\n",
       "      <td>0</td>\n",
       "      <td>0</td>\n",
       "      <td>Nigeria</td>\n",
       "    </tr>\n",
       "    <tr>\n",
       "      <td>North Ireland</td>\n",
       "      <td>1</td>\n",
       "      <td>0</td>\n",
       "      <td>0</td>\n",
       "      <td>North Ireland</td>\n",
       "    </tr>\n",
       "    <tr>\n",
       "      <td>North Macedonia</td>\n",
       "      <td>1</td>\n",
       "      <td>0</td>\n",
       "      <td>0</td>\n",
       "      <td>North Macedonia</td>\n",
       "    </tr>\n",
       "    <tr>\n",
       "      <td>San Marino</td>\n",
       "      <td>1</td>\n",
       "      <td>0</td>\n",
       "      <td>0</td>\n",
       "      <td>San Marino</td>\n",
       "    </tr>\n",
       "  </tbody>\n",
       "</table>\n",
       "<p>61 rows × 4 columns</p>\n",
       "</div>"
      ],
      "text/plain": [
       "                 Confirmed  Deaths  Recovered          country\n",
       "Country/Region                                                \n",
       "Mainland China       78824    2788      36291   Mainland China\n",
       "South Korea           2337      13         22      South Korea\n",
       "Italy                  888      21         46            Italy\n",
       "Others                 705       1         10           Others\n",
       "Iran                   388      34         73             Iran\n",
       "...                    ...     ...        ...              ...\n",
       "New Zealand              1       0          0      New Zealand\n",
       "Nigeria                  1       0          0          Nigeria\n",
       "North Ireland            1       0          0    North Ireland\n",
       "North Macedonia          1       0          0  North Macedonia\n",
       "San Marino               1       0          0       San Marino\n",
       "\n",
       "[61 rows x 4 columns]"
      ]
     },
     "execution_count": 408,
     "metadata": {},
     "output_type": "execute_result"
    }
   ],
   "source": [
    "data_each_country.sort_values(['Confirmed','Deaths','Recovered'], ascending=[False,False,False])"
   ]
  },
  {
   "cell_type": "code",
   "execution_count": 409,
   "metadata": {
    "slideshow": {
     "slide_type": "skip"
    }
   },
   "outputs": [],
   "source": [
    "# sns.catplot(y=\"Country/Region\", x=\"Confirmed\", data=df['Country/Region'],kind='boxen',height=9,aspect=1.4);"
   ]
  },
  {
   "cell_type": "code",
   "execution_count": 410,
   "metadata": {
    "slideshow": {
     "slide_type": "skip"
    }
   },
   "outputs": [],
   "source": [
    "# geo_df[\"country\"].replace({\"Azerbaijan\":\"Europe\",\n",
    "#                                       \"Belarus\":\"Europe\",\n",
    "#                                       \"Estonia\": \"Europe\",\n",
    "#                                       \"Georgia\": \"Europe\",\n",
    "#                                       \"Lithuania\": \"Europe\",\n",
    "#                                       \"North Ireland\": \"Europe\",\n",
    "#                                       \"North Macedonia\": \"Europe\",\n",
    "#                                       \"San Marino\": \"Europe\",\n",
    "#                                       \"United Arab Emirates\": \"Asia\",\n",
    "#                                       \"Mainland China\": \"Asia\",\n",
    "#                                       \"Hong Kong\":\"Asia\",\n",
    "#                                       \"South Korea\":\"Asia\",\n",
    "#                                       \"UK\":\"Europe\",\n",
    "#                                       \"US\":\"Amercas\",\n",
    "#                                       \"Macau\" :\"China\"\n",
    "#                                    }, inplace=True)\n",
    "\n",
    "# geo_df[geo_df['country'] == \"Azerbaijan\", 'continent'] = \"Europe\"\n",
    "# geo_df\n"
   ]
  },
  {
   "cell_type": "code",
   "execution_count": 411,
   "metadata": {
    "slideshow": {
     "slide_type": "skip"
    }
   },
   "outputs": [
    {
     "data": {
      "text/html": [
       "<div>\n",
       "<style scoped>\n",
       "    .dataframe tbody tr th:only-of-type {\n",
       "        vertical-align: middle;\n",
       "    }\n",
       "\n",
       "    .dataframe tbody tr th {\n",
       "        vertical-align: top;\n",
       "    }\n",
       "\n",
       "    .dataframe thead th {\n",
       "        text-align: right;\n",
       "    }\n",
       "</style>\n",
       "<table border=\"1\" class=\"dataframe\">\n",
       "  <thead>\n",
       "    <tr style=\"text-align: right;\">\n",
       "      <th></th>\n",
       "      <th>Confirmed</th>\n",
       "      <th>Deaths</th>\n",
       "      <th>Recovered</th>\n",
       "      <th>country</th>\n",
       "      <th>continent</th>\n",
       "      <th>year</th>\n",
       "      <th>lifeExp</th>\n",
       "      <th>pop</th>\n",
       "      <th>gdpPercap</th>\n",
       "      <th>iso_alpha</th>\n",
       "      <th>iso_num</th>\n",
       "    </tr>\n",
       "  </thead>\n",
       "  <tbody>\n",
       "    <tr>\n",
       "      <td>0</td>\n",
       "      <td>1</td>\n",
       "      <td>0</td>\n",
       "      <td>0</td>\n",
       "      <td>Azerbaijan</td>\n",
       "      <td>NaN</td>\n",
       "      <td>NaN</td>\n",
       "      <td>NaN</td>\n",
       "      <td>NaN</td>\n",
       "      <td>NaN</td>\n",
       "      <td>NaN</td>\n",
       "      <td>NaN</td>\n",
       "    </tr>\n",
       "    <tr>\n",
       "      <td>1</td>\n",
       "      <td>1</td>\n",
       "      <td>0</td>\n",
       "      <td>0</td>\n",
       "      <td>Afghanistan</td>\n",
       "      <td>Asia</td>\n",
       "      <td>2007.0</td>\n",
       "      <td>43.828</td>\n",
       "      <td>31889923.0</td>\n",
       "      <td>974.580338</td>\n",
       "      <td>AFG</td>\n",
       "      <td>4.0</td>\n",
       "    </tr>\n",
       "    <tr>\n",
       "      <td>2</td>\n",
       "      <td>1</td>\n",
       "      <td>0</td>\n",
       "      <td>0</td>\n",
       "      <td>Algeria</td>\n",
       "      <td>Africa</td>\n",
       "      <td>2007.0</td>\n",
       "      <td>72.301</td>\n",
       "      <td>33333216.0</td>\n",
       "      <td>6223.367465</td>\n",
       "      <td>DZA</td>\n",
       "      <td>12.0</td>\n",
       "    </tr>\n",
       "    <tr>\n",
       "      <td>3</td>\n",
       "      <td>23</td>\n",
       "      <td>0</td>\n",
       "      <td>11</td>\n",
       "      <td>Australia</td>\n",
       "      <td>Oceania</td>\n",
       "      <td>2007.0</td>\n",
       "      <td>81.235</td>\n",
       "      <td>20434176.0</td>\n",
       "      <td>34435.367440</td>\n",
       "      <td>AUS</td>\n",
       "      <td>36.0</td>\n",
       "    </tr>\n",
       "    <tr>\n",
       "      <td>4</td>\n",
       "      <td>3</td>\n",
       "      <td>0</td>\n",
       "      <td>0</td>\n",
       "      <td>Austria</td>\n",
       "      <td>Europe</td>\n",
       "      <td>2007.0</td>\n",
       "      <td>79.829</td>\n",
       "      <td>8199783.0</td>\n",
       "      <td>36126.492700</td>\n",
       "      <td>AUT</td>\n",
       "      <td>40.0</td>\n",
       "    </tr>\n",
       "    <tr>\n",
       "      <td>...</td>\n",
       "      <td>...</td>\n",
       "      <td>...</td>\n",
       "      <td>...</td>\n",
       "      <td>...</td>\n",
       "      <td>...</td>\n",
       "      <td>...</td>\n",
       "      <td>...</td>\n",
       "      <td>...</td>\n",
       "      <td>...</td>\n",
       "      <td>...</td>\n",
       "      <td>...</td>\n",
       "    </tr>\n",
       "    <tr>\n",
       "      <td>56</td>\n",
       "      <td>41</td>\n",
       "      <td>0</td>\n",
       "      <td>28</td>\n",
       "      <td>Thailand</td>\n",
       "      <td>Asia</td>\n",
       "      <td>2007.0</td>\n",
       "      <td>70.616</td>\n",
       "      <td>65068149.0</td>\n",
       "      <td>7458.396327</td>\n",
       "      <td>THA</td>\n",
       "      <td>764.0</td>\n",
       "    </tr>\n",
       "    <tr>\n",
       "      <td>57</td>\n",
       "      <td>20</td>\n",
       "      <td>0</td>\n",
       "      <td>8</td>\n",
       "      <td>UK</td>\n",
       "      <td>NaN</td>\n",
       "      <td>NaN</td>\n",
       "      <td>NaN</td>\n",
       "      <td>NaN</td>\n",
       "      <td>NaN</td>\n",
       "      <td>NaN</td>\n",
       "      <td>NaN</td>\n",
       "    </tr>\n",
       "    <tr>\n",
       "      <td>58</td>\n",
       "      <td>62</td>\n",
       "      <td>0</td>\n",
       "      <td>7</td>\n",
       "      <td>US</td>\n",
       "      <td>NaN</td>\n",
       "      <td>NaN</td>\n",
       "      <td>NaN</td>\n",
       "      <td>NaN</td>\n",
       "      <td>NaN</td>\n",
       "      <td>NaN</td>\n",
       "      <td>NaN</td>\n",
       "    </tr>\n",
       "    <tr>\n",
       "      <td>59</td>\n",
       "      <td>19</td>\n",
       "      <td>0</td>\n",
       "      <td>5</td>\n",
       "      <td>United Arab Emirates</td>\n",
       "      <td>NaN</td>\n",
       "      <td>NaN</td>\n",
       "      <td>NaN</td>\n",
       "      <td>NaN</td>\n",
       "      <td>NaN</td>\n",
       "      <td>NaN</td>\n",
       "      <td>NaN</td>\n",
       "    </tr>\n",
       "    <tr>\n",
       "      <td>60</td>\n",
       "      <td>16</td>\n",
       "      <td>0</td>\n",
       "      <td>16</td>\n",
       "      <td>Vietnam</td>\n",
       "      <td>Asia</td>\n",
       "      <td>2007.0</td>\n",
       "      <td>74.249</td>\n",
       "      <td>85262356.0</td>\n",
       "      <td>2441.576404</td>\n",
       "      <td>VNM</td>\n",
       "      <td>704.0</td>\n",
       "    </tr>\n",
       "  </tbody>\n",
       "</table>\n",
       "<p>61 rows × 11 columns</p>\n",
       "</div>"
      ],
      "text/plain": [
       "    Confirmed  Deaths  Recovered               country continent    year  \\\n",
       "0           1       0          0            Azerbaijan       NaN     NaN   \n",
       "1           1       0          0           Afghanistan      Asia  2007.0   \n",
       "2           1       0          0               Algeria    Africa  2007.0   \n",
       "3          23       0         11             Australia   Oceania  2007.0   \n",
       "4           3       0          0               Austria    Europe  2007.0   \n",
       "..        ...     ...        ...                   ...       ...     ...   \n",
       "56         41       0         28              Thailand      Asia  2007.0   \n",
       "57         20       0          8                    UK       NaN     NaN   \n",
       "58         62       0          7                    US       NaN     NaN   \n",
       "59         19       0          5  United Arab Emirates       NaN     NaN   \n",
       "60         16       0         16               Vietnam      Asia  2007.0   \n",
       "\n",
       "    lifeExp         pop     gdpPercap iso_alpha  iso_num  \n",
       "0       NaN         NaN           NaN       NaN      NaN  \n",
       "1    43.828  31889923.0    974.580338       AFG      4.0  \n",
       "2    72.301  33333216.0   6223.367465       DZA     12.0  \n",
       "3    81.235  20434176.0  34435.367440       AUS     36.0  \n",
       "4    79.829   8199783.0  36126.492700       AUT     40.0  \n",
       "..      ...         ...           ...       ...      ...  \n",
       "56   70.616  65068149.0   7458.396327       THA    764.0  \n",
       "57      NaN         NaN           NaN       NaN      NaN  \n",
       "58      NaN         NaN           NaN       NaN      NaN  \n",
       "59      NaN         NaN           NaN       NaN      NaN  \n",
       "60   74.249  85262356.0   2441.576404       VNM    704.0  \n",
       "\n",
       "[61 rows x 11 columns]"
      ]
     },
     "execution_count": 411,
     "metadata": {},
     "output_type": "execute_result"
    }
   ],
   "source": [
    "graph_df = px.data.gapminder().query(\"year == 2007\")\n",
    "geo_df = pd.merge(data_each_country, graph_df, how='left', on='country')\n",
    "geo_df"
   ]
  },
  {
   "cell_type": "code",
   "execution_count": 412,
   "metadata": {
    "slideshow": {
     "slide_type": "skip"
    }
   },
   "outputs": [
    {
     "data": {
      "text/html": [
       "<div>\n",
       "<style scoped>\n",
       "    .dataframe tbody tr th:only-of-type {\n",
       "        vertical-align: middle;\n",
       "    }\n",
       "\n",
       "    .dataframe tbody tr th {\n",
       "        vertical-align: top;\n",
       "    }\n",
       "\n",
       "    .dataframe thead th {\n",
       "        text-align: right;\n",
       "    }\n",
       "</style>\n",
       "<table border=\"1\" class=\"dataframe\">\n",
       "  <thead>\n",
       "    <tr style=\"text-align: right;\">\n",
       "      <th></th>\n",
       "      <th>Confirmed</th>\n",
       "      <th>Deaths</th>\n",
       "      <th>Recovered</th>\n",
       "      <th>country</th>\n",
       "      <th>continent</th>\n",
       "      <th>year</th>\n",
       "      <th>lifeExp</th>\n",
       "      <th>pop</th>\n",
       "      <th>gdpPercap</th>\n",
       "      <th>iso_alpha</th>\n",
       "      <th>iso_num</th>\n",
       "    </tr>\n",
       "  </thead>\n",
       "  <tbody>\n",
       "    <tr>\n",
       "      <td>0</td>\n",
       "      <td>1</td>\n",
       "      <td>0</td>\n",
       "      <td>0</td>\n",
       "      <td>Azerbaijan</td>\n",
       "      <td>NaN</td>\n",
       "      <td>NaN</td>\n",
       "      <td>NaN</td>\n",
       "      <td>NaN</td>\n",
       "      <td>NaN</td>\n",
       "      <td>NaN</td>\n",
       "      <td>NaN</td>\n",
       "    </tr>\n",
       "    <tr>\n",
       "      <td>6</td>\n",
       "      <td>1</td>\n",
       "      <td>0</td>\n",
       "      <td>0</td>\n",
       "      <td>Belarus</td>\n",
       "      <td>NaN</td>\n",
       "      <td>NaN</td>\n",
       "      <td>NaN</td>\n",
       "      <td>NaN</td>\n",
       "      <td>NaN</td>\n",
       "      <td>NaN</td>\n",
       "      <td>NaN</td>\n",
       "    </tr>\n",
       "    <tr>\n",
       "      <td>14</td>\n",
       "      <td>1</td>\n",
       "      <td>0</td>\n",
       "      <td>0</td>\n",
       "      <td>Estonia</td>\n",
       "      <td>NaN</td>\n",
       "      <td>NaN</td>\n",
       "      <td>NaN</td>\n",
       "      <td>NaN</td>\n",
       "      <td>NaN</td>\n",
       "      <td>NaN</td>\n",
       "      <td>NaN</td>\n",
       "    </tr>\n",
       "    <tr>\n",
       "      <td>17</td>\n",
       "      <td>1</td>\n",
       "      <td>0</td>\n",
       "      <td>0</td>\n",
       "      <td>Georgia</td>\n",
       "      <td>NaN</td>\n",
       "      <td>NaN</td>\n",
       "      <td>NaN</td>\n",
       "      <td>NaN</td>\n",
       "      <td>NaN</td>\n",
       "      <td>NaN</td>\n",
       "      <td>NaN</td>\n",
       "    </tr>\n",
       "    <tr>\n",
       "      <td>20</td>\n",
       "      <td>94</td>\n",
       "      <td>2</td>\n",
       "      <td>30</td>\n",
       "      <td>Hong Kong</td>\n",
       "      <td>NaN</td>\n",
       "      <td>NaN</td>\n",
       "      <td>NaN</td>\n",
       "      <td>NaN</td>\n",
       "      <td>NaN</td>\n",
       "      <td>NaN</td>\n",
       "      <td>NaN</td>\n",
       "    </tr>\n",
       "    <tr>\n",
       "      <td>30</td>\n",
       "      <td>1</td>\n",
       "      <td>0</td>\n",
       "      <td>0</td>\n",
       "      <td>Lithuania</td>\n",
       "      <td>NaN</td>\n",
       "      <td>NaN</td>\n",
       "      <td>NaN</td>\n",
       "      <td>NaN</td>\n",
       "      <td>NaN</td>\n",
       "      <td>NaN</td>\n",
       "      <td>NaN</td>\n",
       "    </tr>\n",
       "    <tr>\n",
       "      <td>31</td>\n",
       "      <td>10</td>\n",
       "      <td>0</td>\n",
       "      <td>8</td>\n",
       "      <td>Macau</td>\n",
       "      <td>NaN</td>\n",
       "      <td>NaN</td>\n",
       "      <td>NaN</td>\n",
       "      <td>NaN</td>\n",
       "      <td>NaN</td>\n",
       "      <td>NaN</td>\n",
       "      <td>NaN</td>\n",
       "    </tr>\n",
       "    <tr>\n",
       "      <td>32</td>\n",
       "      <td>78824</td>\n",
       "      <td>2788</td>\n",
       "      <td>36291</td>\n",
       "      <td>Mainland China</td>\n",
       "      <td>NaN</td>\n",
       "      <td>NaN</td>\n",
       "      <td>NaN</td>\n",
       "      <td>NaN</td>\n",
       "      <td>NaN</td>\n",
       "      <td>NaN</td>\n",
       "      <td>NaN</td>\n",
       "    </tr>\n",
       "    <tr>\n",
       "      <td>39</td>\n",
       "      <td>1</td>\n",
       "      <td>0</td>\n",
       "      <td>0</td>\n",
       "      <td>North Ireland</td>\n",
       "      <td>NaN</td>\n",
       "      <td>NaN</td>\n",
       "      <td>NaN</td>\n",
       "      <td>NaN</td>\n",
       "      <td>NaN</td>\n",
       "      <td>NaN</td>\n",
       "      <td>NaN</td>\n",
       "    </tr>\n",
       "    <tr>\n",
       "      <td>40</td>\n",
       "      <td>1</td>\n",
       "      <td>0</td>\n",
       "      <td>0</td>\n",
       "      <td>North Macedonia</td>\n",
       "      <td>NaN</td>\n",
       "      <td>NaN</td>\n",
       "      <td>NaN</td>\n",
       "      <td>NaN</td>\n",
       "      <td>NaN</td>\n",
       "      <td>NaN</td>\n",
       "      <td>NaN</td>\n",
       "    </tr>\n",
       "    <tr>\n",
       "      <td>43</td>\n",
       "      <td>705</td>\n",
       "      <td>1</td>\n",
       "      <td>10</td>\n",
       "      <td>Others</td>\n",
       "      <td>NaN</td>\n",
       "      <td>NaN</td>\n",
       "      <td>NaN</td>\n",
       "      <td>NaN</td>\n",
       "      <td>NaN</td>\n",
       "      <td>NaN</td>\n",
       "      <td>NaN</td>\n",
       "    </tr>\n",
       "    <tr>\n",
       "      <td>47</td>\n",
       "      <td>2</td>\n",
       "      <td>0</td>\n",
       "      <td>2</td>\n",
       "      <td>Russia</td>\n",
       "      <td>NaN</td>\n",
       "      <td>NaN</td>\n",
       "      <td>NaN</td>\n",
       "      <td>NaN</td>\n",
       "      <td>NaN</td>\n",
       "      <td>NaN</td>\n",
       "      <td>NaN</td>\n",
       "    </tr>\n",
       "    <tr>\n",
       "      <td>48</td>\n",
       "      <td>1</td>\n",
       "      <td>0</td>\n",
       "      <td>0</td>\n",
       "      <td>San Marino</td>\n",
       "      <td>NaN</td>\n",
       "      <td>NaN</td>\n",
       "      <td>NaN</td>\n",
       "      <td>NaN</td>\n",
       "      <td>NaN</td>\n",
       "      <td>NaN</td>\n",
       "      <td>NaN</td>\n",
       "    </tr>\n",
       "    <tr>\n",
       "      <td>50</td>\n",
       "      <td>2337</td>\n",
       "      <td>13</td>\n",
       "      <td>22</td>\n",
       "      <td>South Korea</td>\n",
       "      <td>NaN</td>\n",
       "      <td>NaN</td>\n",
       "      <td>NaN</td>\n",
       "      <td>NaN</td>\n",
       "      <td>NaN</td>\n",
       "      <td>NaN</td>\n",
       "      <td>NaN</td>\n",
       "    </tr>\n",
       "    <tr>\n",
       "      <td>57</td>\n",
       "      <td>20</td>\n",
       "      <td>0</td>\n",
       "      <td>8</td>\n",
       "      <td>UK</td>\n",
       "      <td>NaN</td>\n",
       "      <td>NaN</td>\n",
       "      <td>NaN</td>\n",
       "      <td>NaN</td>\n",
       "      <td>NaN</td>\n",
       "      <td>NaN</td>\n",
       "      <td>NaN</td>\n",
       "    </tr>\n",
       "    <tr>\n",
       "      <td>58</td>\n",
       "      <td>62</td>\n",
       "      <td>0</td>\n",
       "      <td>7</td>\n",
       "      <td>US</td>\n",
       "      <td>NaN</td>\n",
       "      <td>NaN</td>\n",
       "      <td>NaN</td>\n",
       "      <td>NaN</td>\n",
       "      <td>NaN</td>\n",
       "      <td>NaN</td>\n",
       "      <td>NaN</td>\n",
       "    </tr>\n",
       "    <tr>\n",
       "      <td>59</td>\n",
       "      <td>19</td>\n",
       "      <td>0</td>\n",
       "      <td>5</td>\n",
       "      <td>United Arab Emirates</td>\n",
       "      <td>NaN</td>\n",
       "      <td>NaN</td>\n",
       "      <td>NaN</td>\n",
       "      <td>NaN</td>\n",
       "      <td>NaN</td>\n",
       "      <td>NaN</td>\n",
       "      <td>NaN</td>\n",
       "    </tr>\n",
       "  </tbody>\n",
       "</table>\n",
       "</div>"
      ],
      "text/plain": [
       "    Confirmed  Deaths  Recovered               country continent  year  \\\n",
       "0           1       0          0            Azerbaijan       NaN   NaN   \n",
       "6           1       0          0               Belarus       NaN   NaN   \n",
       "14          1       0          0               Estonia       NaN   NaN   \n",
       "17          1       0          0               Georgia       NaN   NaN   \n",
       "20         94       2         30             Hong Kong       NaN   NaN   \n",
       "30          1       0          0             Lithuania       NaN   NaN   \n",
       "31         10       0          8                 Macau       NaN   NaN   \n",
       "32      78824    2788      36291        Mainland China       NaN   NaN   \n",
       "39          1       0          0         North Ireland       NaN   NaN   \n",
       "40          1       0          0       North Macedonia       NaN   NaN   \n",
       "43        705       1         10                Others       NaN   NaN   \n",
       "47          2       0          2                Russia       NaN   NaN   \n",
       "48          1       0          0            San Marino       NaN   NaN   \n",
       "50       2337      13         22           South Korea       NaN   NaN   \n",
       "57         20       0          8                    UK       NaN   NaN   \n",
       "58         62       0          7                    US       NaN   NaN   \n",
       "59         19       0          5  United Arab Emirates       NaN   NaN   \n",
       "\n",
       "    lifeExp  pop  gdpPercap iso_alpha  iso_num  \n",
       "0       NaN  NaN        NaN       NaN      NaN  \n",
       "6       NaN  NaN        NaN       NaN      NaN  \n",
       "14      NaN  NaN        NaN       NaN      NaN  \n",
       "17      NaN  NaN        NaN       NaN      NaN  \n",
       "20      NaN  NaN        NaN       NaN      NaN  \n",
       "30      NaN  NaN        NaN       NaN      NaN  \n",
       "31      NaN  NaN        NaN       NaN      NaN  \n",
       "32      NaN  NaN        NaN       NaN      NaN  \n",
       "39      NaN  NaN        NaN       NaN      NaN  \n",
       "40      NaN  NaN        NaN       NaN      NaN  \n",
       "43      NaN  NaN        NaN       NaN      NaN  \n",
       "47      NaN  NaN        NaN       NaN      NaN  \n",
       "48      NaN  NaN        NaN       NaN      NaN  \n",
       "50      NaN  NaN        NaN       NaN      NaN  \n",
       "57      NaN  NaN        NaN       NaN      NaN  \n",
       "58      NaN  NaN        NaN       NaN      NaN  \n",
       "59      NaN  NaN        NaN       NaN      NaN  "
      ]
     },
     "execution_count": 412,
     "metadata": {},
     "output_type": "execute_result"
    }
   ],
   "source": [
    "geo_df.loc[geo_df.continent.isnull()]\n"
   ]
  },
  {
   "cell_type": "markdown",
   "metadata": {
    "slideshow": {
     "slide_type": "slide"
    }
   },
   "source": [
    "### How does the virus spread to other countries?"
   ]
  },
  {
   "cell_type": "code",
   "execution_count": 413,
   "metadata": {
    "slideshow": {
     "slide_type": "skip"
    }
   },
   "outputs": [],
   "source": [
    "geo_df = geo_df.dropna(how='any')\n",
    "geo_df = geo_df.drop(['year','lifeExp','pop','gdpPercap'],axis=1)"
   ]
  },
  {
   "cell_type": "code",
   "execution_count": 414,
   "metadata": {
    "scrolled": true,
    "slideshow": {
     "slide_type": "fragment"
    }
   },
   "outputs": [
    {
     "data": {
      "application/vnd.plotly.v1+json": {
       "config": {
        "plotlyServerURL": "https://plot.ly"
       },
       "data": [
        {
         "geo": "geo",
         "hoverlabel": {
          "namelength": 0
         },
         "hovertemplate": "<b>%{hovertext}</b><br><br>continent=Asia<br>Confirmed=%{marker.size}<br>iso_alpha=%{location}",
         "hovertext": [
          "Afghanistan",
          "Bahrain",
          "Cambodia",
          "India",
          "Iran",
          "Iraq",
          "Israel",
          "Japan",
          "Kuwait",
          "Lebanon",
          "Malaysia",
          "Nepal",
          "Oman",
          "Pakistan",
          "Philippines",
          "Singapore",
          "Sri Lanka",
          "Taiwan",
          "Thailand",
          "Vietnam"
         ],
         "legendgroup": "Asia",
         "locations": [
          "AFG",
          "BHR",
          "KHM",
          "IND",
          "IRN",
          "IRQ",
          "ISR",
          "JPN",
          "KWT",
          "LBN",
          "MYS",
          "NPL",
          "OMN",
          "PAK",
          "PHL",
          "SGP",
          "LKA",
          "TWN",
          "THA",
          "VNM"
         ],
         "marker": {
          "color": "#636efa",
          "size": [
           1,
           36,
           1,
           3,
           388,
           7,
           4,
           228,
           45,
           2,
           23,
           1,
           4,
           2,
           3,
           93,
           1,
           34,
           41,
           16
          ],
          "sizemode": "area",
          "sizeref": 2.22
         },
         "name": "Asia",
         "showlegend": true,
         "type": "scattergeo"
        },
        {
         "geo": "geo",
         "hoverlabel": {
          "namelength": 0
         },
         "hovertemplate": "<b>%{hovertext}</b><br><br>continent=Africa<br>Confirmed=%{marker.size}<br>iso_alpha=%{location}",
         "hovertext": [
          "Algeria",
          "Egypt",
          "Nigeria"
         ],
         "legendgroup": "Africa",
         "locations": [
          "DZA",
          "EGY",
          "NGA"
         ],
         "marker": {
          "color": "#EF553B",
          "size": [
           1,
           1,
           1
          ],
          "sizemode": "area",
          "sizeref": 2.22
         },
         "name": "Africa",
         "showlegend": true,
         "type": "scattergeo"
        },
        {
         "geo": "geo",
         "hoverlabel": {
          "namelength": 0
         },
         "hovertemplate": "<b>%{hovertext}</b><br><br>continent=Oceania<br>Confirmed=%{marker.size}<br>iso_alpha=%{location}",
         "hovertext": [
          "Australia",
          "New Zealand"
         ],
         "legendgroup": "Oceania",
         "locations": [
          "AUS",
          "NZL"
         ],
         "marker": {
          "color": "#00cc96",
          "size": [
           23,
           1
          ],
          "sizemode": "area",
          "sizeref": 2.22
         },
         "name": "Oceania",
         "showlegend": true,
         "type": "scattergeo"
        },
        {
         "geo": "geo",
         "hoverlabel": {
          "namelength": 0
         },
         "hovertemplate": "<b>%{hovertext}</b><br><br>continent=Europe<br>Confirmed=%{marker.size}<br>iso_alpha=%{location}",
         "hovertext": [
          "Austria",
          "Belgium",
          "Croatia",
          "Denmark",
          "Finland",
          "France",
          "Germany",
          "Greece",
          "Iceland",
          "Italy",
          "Netherlands",
          "Norway",
          "Romania",
          "Spain",
          "Sweden",
          "Switzerland"
         ],
         "legendgroup": "Europe",
         "locations": [
          "AUT",
          "BEL",
          "HRV",
          "DNK",
          "FIN",
          "FRA",
          "DEU",
          "GRC",
          "ISL",
          "ITA",
          "NLD",
          "NOR",
          "ROU",
          "ESP",
          "SWE",
          "CHE"
         ],
         "marker": {
          "color": "#ab63fa",
          "size": [
           3,
           1,
           5,
           1,
           2,
           57,
           48,
           4,
           1,
           888,
           1,
           6,
           3,
           32,
           7,
           8
          ],
          "sizemode": "area",
          "sizeref": 2.22
         },
         "name": "Europe",
         "showlegend": true,
         "type": "scattergeo"
        },
        {
         "geo": "geo",
         "hoverlabel": {
          "namelength": 0
         },
         "hovertemplate": "<b>%{hovertext}</b><br><br>continent=Americas<br>Confirmed=%{marker.size}<br>iso_alpha=%{location}",
         "hovertext": [
          "Brazil",
          "Canada",
          "Mexico"
         ],
         "legendgroup": "Americas",
         "locations": [
          "BRA",
          "CAN",
          "MEX"
         ],
         "marker": {
          "color": "#FFA15A",
          "size": [
           1,
           14,
           1
          ],
          "sizemode": "area",
          "sizeref": 2.22
         },
         "name": "Americas",
         "showlegend": true,
         "type": "scattergeo"
        }
       ],
       "layout": {
        "geo": {
         "center": {},
         "domain": {
          "x": [
           0,
           1
          ],
          "y": [
           0,
           1
          ]
         },
         "projection": {
          "type": "natural earth"
         }
        },
        "legend": {
         "itemsizing": "constant",
         "title": {
          "text": "continent"
         },
         "tracegroupgap": 0
        },
        "margin": {
         "t": 60
        },
        "template": {
         "data": {
          "bar": [
           {
            "error_x": {
             "color": "#2a3f5f"
            },
            "error_y": {
             "color": "#2a3f5f"
            },
            "marker": {
             "line": {
              "color": "#E5ECF6",
              "width": 0.5
             }
            },
            "type": "bar"
           }
          ],
          "barpolar": [
           {
            "marker": {
             "line": {
              "color": "#E5ECF6",
              "width": 0.5
             }
            },
            "type": "barpolar"
           }
          ],
          "carpet": [
           {
            "aaxis": {
             "endlinecolor": "#2a3f5f",
             "gridcolor": "white",
             "linecolor": "white",
             "minorgridcolor": "white",
             "startlinecolor": "#2a3f5f"
            },
            "baxis": {
             "endlinecolor": "#2a3f5f",
             "gridcolor": "white",
             "linecolor": "white",
             "minorgridcolor": "white",
             "startlinecolor": "#2a3f5f"
            },
            "type": "carpet"
           }
          ],
          "choropleth": [
           {
            "colorbar": {
             "outlinewidth": 0,
             "ticks": ""
            },
            "type": "choropleth"
           }
          ],
          "contour": [
           {
            "colorbar": {
             "outlinewidth": 0,
             "ticks": ""
            },
            "colorscale": [
             [
              0,
              "#0d0887"
             ],
             [
              0.1111111111111111,
              "#46039f"
             ],
             [
              0.2222222222222222,
              "#7201a8"
             ],
             [
              0.3333333333333333,
              "#9c179e"
             ],
             [
              0.4444444444444444,
              "#bd3786"
             ],
             [
              0.5555555555555556,
              "#d8576b"
             ],
             [
              0.6666666666666666,
              "#ed7953"
             ],
             [
              0.7777777777777778,
              "#fb9f3a"
             ],
             [
              0.8888888888888888,
              "#fdca26"
             ],
             [
              1,
              "#f0f921"
             ]
            ],
            "type": "contour"
           }
          ],
          "contourcarpet": [
           {
            "colorbar": {
             "outlinewidth": 0,
             "ticks": ""
            },
            "type": "contourcarpet"
           }
          ],
          "heatmap": [
           {
            "colorbar": {
             "outlinewidth": 0,
             "ticks": ""
            },
            "colorscale": [
             [
              0,
              "#0d0887"
             ],
             [
              0.1111111111111111,
              "#46039f"
             ],
             [
              0.2222222222222222,
              "#7201a8"
             ],
             [
              0.3333333333333333,
              "#9c179e"
             ],
             [
              0.4444444444444444,
              "#bd3786"
             ],
             [
              0.5555555555555556,
              "#d8576b"
             ],
             [
              0.6666666666666666,
              "#ed7953"
             ],
             [
              0.7777777777777778,
              "#fb9f3a"
             ],
             [
              0.8888888888888888,
              "#fdca26"
             ],
             [
              1,
              "#f0f921"
             ]
            ],
            "type": "heatmap"
           }
          ],
          "heatmapgl": [
           {
            "colorbar": {
             "outlinewidth": 0,
             "ticks": ""
            },
            "colorscale": [
             [
              0,
              "#0d0887"
             ],
             [
              0.1111111111111111,
              "#46039f"
             ],
             [
              0.2222222222222222,
              "#7201a8"
             ],
             [
              0.3333333333333333,
              "#9c179e"
             ],
             [
              0.4444444444444444,
              "#bd3786"
             ],
             [
              0.5555555555555556,
              "#d8576b"
             ],
             [
              0.6666666666666666,
              "#ed7953"
             ],
             [
              0.7777777777777778,
              "#fb9f3a"
             ],
             [
              0.8888888888888888,
              "#fdca26"
             ],
             [
              1,
              "#f0f921"
             ]
            ],
            "type": "heatmapgl"
           }
          ],
          "histogram": [
           {
            "marker": {
             "colorbar": {
              "outlinewidth": 0,
              "ticks": ""
             }
            },
            "type": "histogram"
           }
          ],
          "histogram2d": [
           {
            "colorbar": {
             "outlinewidth": 0,
             "ticks": ""
            },
            "colorscale": [
             [
              0,
              "#0d0887"
             ],
             [
              0.1111111111111111,
              "#46039f"
             ],
             [
              0.2222222222222222,
              "#7201a8"
             ],
             [
              0.3333333333333333,
              "#9c179e"
             ],
             [
              0.4444444444444444,
              "#bd3786"
             ],
             [
              0.5555555555555556,
              "#d8576b"
             ],
             [
              0.6666666666666666,
              "#ed7953"
             ],
             [
              0.7777777777777778,
              "#fb9f3a"
             ],
             [
              0.8888888888888888,
              "#fdca26"
             ],
             [
              1,
              "#f0f921"
             ]
            ],
            "type": "histogram2d"
           }
          ],
          "histogram2dcontour": [
           {
            "colorbar": {
             "outlinewidth": 0,
             "ticks": ""
            },
            "colorscale": [
             [
              0,
              "#0d0887"
             ],
             [
              0.1111111111111111,
              "#46039f"
             ],
             [
              0.2222222222222222,
              "#7201a8"
             ],
             [
              0.3333333333333333,
              "#9c179e"
             ],
             [
              0.4444444444444444,
              "#bd3786"
             ],
             [
              0.5555555555555556,
              "#d8576b"
             ],
             [
              0.6666666666666666,
              "#ed7953"
             ],
             [
              0.7777777777777778,
              "#fb9f3a"
             ],
             [
              0.8888888888888888,
              "#fdca26"
             ],
             [
              1,
              "#f0f921"
             ]
            ],
            "type": "histogram2dcontour"
           }
          ],
          "mesh3d": [
           {
            "colorbar": {
             "outlinewidth": 0,
             "ticks": ""
            },
            "type": "mesh3d"
           }
          ],
          "parcoords": [
           {
            "line": {
             "colorbar": {
              "outlinewidth": 0,
              "ticks": ""
             }
            },
            "type": "parcoords"
           }
          ],
          "pie": [
           {
            "automargin": true,
            "type": "pie"
           }
          ],
          "scatter": [
           {
            "marker": {
             "colorbar": {
              "outlinewidth": 0,
              "ticks": ""
             }
            },
            "type": "scatter"
           }
          ],
          "scatter3d": [
           {
            "line": {
             "colorbar": {
              "outlinewidth": 0,
              "ticks": ""
             }
            },
            "marker": {
             "colorbar": {
              "outlinewidth": 0,
              "ticks": ""
             }
            },
            "type": "scatter3d"
           }
          ],
          "scattercarpet": [
           {
            "marker": {
             "colorbar": {
              "outlinewidth": 0,
              "ticks": ""
             }
            },
            "type": "scattercarpet"
           }
          ],
          "scattergeo": [
           {
            "marker": {
             "colorbar": {
              "outlinewidth": 0,
              "ticks": ""
             }
            },
            "type": "scattergeo"
           }
          ],
          "scattergl": [
           {
            "marker": {
             "colorbar": {
              "outlinewidth": 0,
              "ticks": ""
             }
            },
            "type": "scattergl"
           }
          ],
          "scattermapbox": [
           {
            "marker": {
             "colorbar": {
              "outlinewidth": 0,
              "ticks": ""
             }
            },
            "type": "scattermapbox"
           }
          ],
          "scatterpolar": [
           {
            "marker": {
             "colorbar": {
              "outlinewidth": 0,
              "ticks": ""
             }
            },
            "type": "scatterpolar"
           }
          ],
          "scatterpolargl": [
           {
            "marker": {
             "colorbar": {
              "outlinewidth": 0,
              "ticks": ""
             }
            },
            "type": "scatterpolargl"
           }
          ],
          "scatterternary": [
           {
            "marker": {
             "colorbar": {
              "outlinewidth": 0,
              "ticks": ""
             }
            },
            "type": "scatterternary"
           }
          ],
          "surface": [
           {
            "colorbar": {
             "outlinewidth": 0,
             "ticks": ""
            },
            "colorscale": [
             [
              0,
              "#0d0887"
             ],
             [
              0.1111111111111111,
              "#46039f"
             ],
             [
              0.2222222222222222,
              "#7201a8"
             ],
             [
              0.3333333333333333,
              "#9c179e"
             ],
             [
              0.4444444444444444,
              "#bd3786"
             ],
             [
              0.5555555555555556,
              "#d8576b"
             ],
             [
              0.6666666666666666,
              "#ed7953"
             ],
             [
              0.7777777777777778,
              "#fb9f3a"
             ],
             [
              0.8888888888888888,
              "#fdca26"
             ],
             [
              1,
              "#f0f921"
             ]
            ],
            "type": "surface"
           }
          ],
          "table": [
           {
            "cells": {
             "fill": {
              "color": "#EBF0F8"
             },
             "line": {
              "color": "white"
             }
            },
            "header": {
             "fill": {
              "color": "#C8D4E3"
             },
             "line": {
              "color": "white"
             }
            },
            "type": "table"
           }
          ]
         },
         "layout": {
          "annotationdefaults": {
           "arrowcolor": "#2a3f5f",
           "arrowhead": 0,
           "arrowwidth": 1
          },
          "coloraxis": {
           "colorbar": {
            "outlinewidth": 0,
            "ticks": ""
           }
          },
          "colorscale": {
           "diverging": [
            [
             0,
             "#8e0152"
            ],
            [
             0.1,
             "#c51b7d"
            ],
            [
             0.2,
             "#de77ae"
            ],
            [
             0.3,
             "#f1b6da"
            ],
            [
             0.4,
             "#fde0ef"
            ],
            [
             0.5,
             "#f7f7f7"
            ],
            [
             0.6,
             "#e6f5d0"
            ],
            [
             0.7,
             "#b8e186"
            ],
            [
             0.8,
             "#7fbc41"
            ],
            [
             0.9,
             "#4d9221"
            ],
            [
             1,
             "#276419"
            ]
           ],
           "sequential": [
            [
             0,
             "#0d0887"
            ],
            [
             0.1111111111111111,
             "#46039f"
            ],
            [
             0.2222222222222222,
             "#7201a8"
            ],
            [
             0.3333333333333333,
             "#9c179e"
            ],
            [
             0.4444444444444444,
             "#bd3786"
            ],
            [
             0.5555555555555556,
             "#d8576b"
            ],
            [
             0.6666666666666666,
             "#ed7953"
            ],
            [
             0.7777777777777778,
             "#fb9f3a"
            ],
            [
             0.8888888888888888,
             "#fdca26"
            ],
            [
             1,
             "#f0f921"
            ]
           ],
           "sequentialminus": [
            [
             0,
             "#0d0887"
            ],
            [
             0.1111111111111111,
             "#46039f"
            ],
            [
             0.2222222222222222,
             "#7201a8"
            ],
            [
             0.3333333333333333,
             "#9c179e"
            ],
            [
             0.4444444444444444,
             "#bd3786"
            ],
            [
             0.5555555555555556,
             "#d8576b"
            ],
            [
             0.6666666666666666,
             "#ed7953"
            ],
            [
             0.7777777777777778,
             "#fb9f3a"
            ],
            [
             0.8888888888888888,
             "#fdca26"
            ],
            [
             1,
             "#f0f921"
            ]
           ]
          },
          "colorway": [
           "#636efa",
           "#EF553B",
           "#00cc96",
           "#ab63fa",
           "#FFA15A",
           "#19d3f3",
           "#FF6692",
           "#B6E880",
           "#FF97FF",
           "#FECB52"
          ],
          "font": {
           "color": "#2a3f5f"
          },
          "geo": {
           "bgcolor": "white",
           "lakecolor": "white",
           "landcolor": "#E5ECF6",
           "showlakes": true,
           "showland": true,
           "subunitcolor": "white"
          },
          "hoverlabel": {
           "align": "left"
          },
          "hovermode": "closest",
          "mapbox": {
           "style": "light"
          },
          "paper_bgcolor": "white",
          "plot_bgcolor": "#E5ECF6",
          "polar": {
           "angularaxis": {
            "gridcolor": "white",
            "linecolor": "white",
            "ticks": ""
           },
           "bgcolor": "#E5ECF6",
           "radialaxis": {
            "gridcolor": "white",
            "linecolor": "white",
            "ticks": ""
           }
          },
          "scene": {
           "xaxis": {
            "backgroundcolor": "#E5ECF6",
            "gridcolor": "white",
            "gridwidth": 2,
            "linecolor": "white",
            "showbackground": true,
            "ticks": "",
            "zerolinecolor": "white"
           },
           "yaxis": {
            "backgroundcolor": "#E5ECF6",
            "gridcolor": "white",
            "gridwidth": 2,
            "linecolor": "white",
            "showbackground": true,
            "ticks": "",
            "zerolinecolor": "white"
           },
           "zaxis": {
            "backgroundcolor": "#E5ECF6",
            "gridcolor": "white",
            "gridwidth": 2,
            "linecolor": "white",
            "showbackground": true,
            "ticks": "",
            "zerolinecolor": "white"
           }
          },
          "shapedefaults": {
           "line": {
            "color": "#2a3f5f"
           }
          },
          "ternary": {
           "aaxis": {
            "gridcolor": "white",
            "linecolor": "white",
            "ticks": ""
           },
           "baxis": {
            "gridcolor": "white",
            "linecolor": "white",
            "ticks": ""
           },
           "bgcolor": "#E5ECF6",
           "caxis": {
            "gridcolor": "white",
            "linecolor": "white",
            "ticks": ""
           }
          },
          "title": {
           "x": 0.05
          },
          "xaxis": {
           "automargin": true,
           "gridcolor": "white",
           "linecolor": "white",
           "ticks": "",
           "title": {
            "standoff": 15
           },
           "zerolinecolor": "white",
           "zerolinewidth": 2
          },
          "yaxis": {
           "automargin": true,
           "gridcolor": "white",
           "linecolor": "white",
           "ticks": "",
           "title": {
            "standoff": 15
           },
           "zerolinecolor": "white",
           "zerolinewidth": 2
          }
         }
        }
       }
      },
      "text/html": [
       "<div>\n",
       "        \n",
       "        \n",
       "            <div id=\"8237e5a2-ca6a-4cf8-8772-e8b17d509e66\" class=\"plotly-graph-div\" style=\"height:525px; width:100%;\"></div>\n",
       "            <script type=\"text/javascript\">\n",
       "                require([\"plotly\"], function(Plotly) {\n",
       "                    window.PLOTLYENV=window.PLOTLYENV || {};\n",
       "                    \n",
       "                if (document.getElementById(\"8237e5a2-ca6a-4cf8-8772-e8b17d509e66\")) {\n",
       "                    Plotly.newPlot(\n",
       "                        '8237e5a2-ca6a-4cf8-8772-e8b17d509e66',\n",
       "                        [{\"geo\": \"geo\", \"hoverlabel\": {\"namelength\": 0}, \"hovertemplate\": \"<b>%{hovertext}</b><br><br>continent=Asia<br>Confirmed=%{marker.size}<br>iso_alpha=%{location}\", \"hovertext\": [\"Afghanistan\", \"Bahrain\", \"Cambodia\", \"India\", \"Iran\", \"Iraq\", \"Israel\", \"Japan\", \"Kuwait\", \"Lebanon\", \"Malaysia\", \"Nepal\", \"Oman\", \"Pakistan\", \"Philippines\", \"Singapore\", \"Sri Lanka\", \"Taiwan\", \"Thailand\", \"Vietnam\"], \"legendgroup\": \"Asia\", \"locations\": [\"AFG\", \"BHR\", \"KHM\", \"IND\", \"IRN\", \"IRQ\", \"ISR\", \"JPN\", \"KWT\", \"LBN\", \"MYS\", \"NPL\", \"OMN\", \"PAK\", \"PHL\", \"SGP\", \"LKA\", \"TWN\", \"THA\", \"VNM\"], \"marker\": {\"color\": \"#636efa\", \"size\": [1, 36, 1, 3, 388, 7, 4, 228, 45, 2, 23, 1, 4, 2, 3, 93, 1, 34, 41, 16], \"sizemode\": \"area\", \"sizeref\": 2.22}, \"name\": \"Asia\", \"showlegend\": true, \"type\": \"scattergeo\"}, {\"geo\": \"geo\", \"hoverlabel\": {\"namelength\": 0}, \"hovertemplate\": \"<b>%{hovertext}</b><br><br>continent=Africa<br>Confirmed=%{marker.size}<br>iso_alpha=%{location}\", \"hovertext\": [\"Algeria\", \"Egypt\", \"Nigeria\"], \"legendgroup\": \"Africa\", \"locations\": [\"DZA\", \"EGY\", \"NGA\"], \"marker\": {\"color\": \"#EF553B\", \"size\": [1, 1, 1], \"sizemode\": \"area\", \"sizeref\": 2.22}, \"name\": \"Africa\", \"showlegend\": true, \"type\": \"scattergeo\"}, {\"geo\": \"geo\", \"hoverlabel\": {\"namelength\": 0}, \"hovertemplate\": \"<b>%{hovertext}</b><br><br>continent=Oceania<br>Confirmed=%{marker.size}<br>iso_alpha=%{location}\", \"hovertext\": [\"Australia\", \"New Zealand\"], \"legendgroup\": \"Oceania\", \"locations\": [\"AUS\", \"NZL\"], \"marker\": {\"color\": \"#00cc96\", \"size\": [23, 1], \"sizemode\": \"area\", \"sizeref\": 2.22}, \"name\": \"Oceania\", \"showlegend\": true, \"type\": \"scattergeo\"}, {\"geo\": \"geo\", \"hoverlabel\": {\"namelength\": 0}, \"hovertemplate\": \"<b>%{hovertext}</b><br><br>continent=Europe<br>Confirmed=%{marker.size}<br>iso_alpha=%{location}\", \"hovertext\": [\"Austria\", \"Belgium\", \"Croatia\", \"Denmark\", \"Finland\", \"France\", \"Germany\", \"Greece\", \"Iceland\", \"Italy\", \"Netherlands\", \"Norway\", \"Romania\", \"Spain\", \"Sweden\", \"Switzerland\"], \"legendgroup\": \"Europe\", \"locations\": [\"AUT\", \"BEL\", \"HRV\", \"DNK\", \"FIN\", \"FRA\", \"DEU\", \"GRC\", \"ISL\", \"ITA\", \"NLD\", \"NOR\", \"ROU\", \"ESP\", \"SWE\", \"CHE\"], \"marker\": {\"color\": \"#ab63fa\", \"size\": [3, 1, 5, 1, 2, 57, 48, 4, 1, 888, 1, 6, 3, 32, 7, 8], \"sizemode\": \"area\", \"sizeref\": 2.22}, \"name\": \"Europe\", \"showlegend\": true, \"type\": \"scattergeo\"}, {\"geo\": \"geo\", \"hoverlabel\": {\"namelength\": 0}, \"hovertemplate\": \"<b>%{hovertext}</b><br><br>continent=Americas<br>Confirmed=%{marker.size}<br>iso_alpha=%{location}\", \"hovertext\": [\"Brazil\", \"Canada\", \"Mexico\"], \"legendgroup\": \"Americas\", \"locations\": [\"BRA\", \"CAN\", \"MEX\"], \"marker\": {\"color\": \"#FFA15A\", \"size\": [1, 14, 1], \"sizemode\": \"area\", \"sizeref\": 2.22}, \"name\": \"Americas\", \"showlegend\": true, \"type\": \"scattergeo\"}],\n",
       "                        {\"geo\": {\"center\": {}, \"domain\": {\"x\": [0.0, 1.0], \"y\": [0.0, 1.0]}, \"projection\": {\"type\": \"natural earth\"}}, \"legend\": {\"itemsizing\": \"constant\", \"title\": {\"text\": \"continent\"}, \"tracegroupgap\": 0}, \"margin\": {\"t\": 60}, \"template\": {\"data\": {\"bar\": [{\"error_x\": {\"color\": \"#2a3f5f\"}, \"error_y\": {\"color\": \"#2a3f5f\"}, \"marker\": {\"line\": {\"color\": \"#E5ECF6\", \"width\": 0.5}}, \"type\": \"bar\"}], \"barpolar\": [{\"marker\": {\"line\": {\"color\": \"#E5ECF6\", \"width\": 0.5}}, \"type\": \"barpolar\"}], \"carpet\": [{\"aaxis\": {\"endlinecolor\": \"#2a3f5f\", \"gridcolor\": \"white\", \"linecolor\": \"white\", \"minorgridcolor\": \"white\", \"startlinecolor\": \"#2a3f5f\"}, \"baxis\": {\"endlinecolor\": \"#2a3f5f\", \"gridcolor\": \"white\", \"linecolor\": \"white\", \"minorgridcolor\": \"white\", \"startlinecolor\": \"#2a3f5f\"}, \"type\": \"carpet\"}], \"choropleth\": [{\"colorbar\": {\"outlinewidth\": 0, \"ticks\": \"\"}, \"type\": \"choropleth\"}], \"contour\": [{\"colorbar\": {\"outlinewidth\": 0, \"ticks\": \"\"}, \"colorscale\": [[0.0, \"#0d0887\"], [0.1111111111111111, \"#46039f\"], [0.2222222222222222, \"#7201a8\"], [0.3333333333333333, \"#9c179e\"], [0.4444444444444444, \"#bd3786\"], [0.5555555555555556, \"#d8576b\"], [0.6666666666666666, \"#ed7953\"], [0.7777777777777778, \"#fb9f3a\"], [0.8888888888888888, \"#fdca26\"], [1.0, \"#f0f921\"]], \"type\": \"contour\"}], \"contourcarpet\": [{\"colorbar\": {\"outlinewidth\": 0, \"ticks\": \"\"}, \"type\": \"contourcarpet\"}], \"heatmap\": [{\"colorbar\": {\"outlinewidth\": 0, \"ticks\": \"\"}, \"colorscale\": [[0.0, \"#0d0887\"], [0.1111111111111111, \"#46039f\"], [0.2222222222222222, \"#7201a8\"], [0.3333333333333333, \"#9c179e\"], [0.4444444444444444, \"#bd3786\"], [0.5555555555555556, \"#d8576b\"], [0.6666666666666666, \"#ed7953\"], [0.7777777777777778, \"#fb9f3a\"], [0.8888888888888888, \"#fdca26\"], [1.0, \"#f0f921\"]], \"type\": \"heatmap\"}], \"heatmapgl\": [{\"colorbar\": {\"outlinewidth\": 0, \"ticks\": \"\"}, \"colorscale\": [[0.0, \"#0d0887\"], [0.1111111111111111, \"#46039f\"], [0.2222222222222222, \"#7201a8\"], [0.3333333333333333, \"#9c179e\"], [0.4444444444444444, \"#bd3786\"], [0.5555555555555556, \"#d8576b\"], [0.6666666666666666, \"#ed7953\"], [0.7777777777777778, \"#fb9f3a\"], [0.8888888888888888, \"#fdca26\"], [1.0, \"#f0f921\"]], \"type\": \"heatmapgl\"}], \"histogram\": [{\"marker\": {\"colorbar\": {\"outlinewidth\": 0, \"ticks\": \"\"}}, \"type\": \"histogram\"}], \"histogram2d\": [{\"colorbar\": {\"outlinewidth\": 0, \"ticks\": \"\"}, \"colorscale\": [[0.0, \"#0d0887\"], [0.1111111111111111, \"#46039f\"], [0.2222222222222222, \"#7201a8\"], [0.3333333333333333, \"#9c179e\"], [0.4444444444444444, \"#bd3786\"], [0.5555555555555556, \"#d8576b\"], [0.6666666666666666, \"#ed7953\"], [0.7777777777777778, \"#fb9f3a\"], [0.8888888888888888, \"#fdca26\"], [1.0, \"#f0f921\"]], \"type\": \"histogram2d\"}], \"histogram2dcontour\": [{\"colorbar\": {\"outlinewidth\": 0, \"ticks\": \"\"}, \"colorscale\": [[0.0, \"#0d0887\"], [0.1111111111111111, \"#46039f\"], [0.2222222222222222, \"#7201a8\"], [0.3333333333333333, \"#9c179e\"], [0.4444444444444444, \"#bd3786\"], [0.5555555555555556, \"#d8576b\"], [0.6666666666666666, \"#ed7953\"], [0.7777777777777778, \"#fb9f3a\"], [0.8888888888888888, \"#fdca26\"], [1.0, \"#f0f921\"]], \"type\": \"histogram2dcontour\"}], \"mesh3d\": [{\"colorbar\": {\"outlinewidth\": 0, \"ticks\": \"\"}, \"type\": \"mesh3d\"}], \"parcoords\": [{\"line\": {\"colorbar\": {\"outlinewidth\": 0, \"ticks\": \"\"}}, \"type\": \"parcoords\"}], \"pie\": [{\"automargin\": true, \"type\": \"pie\"}], \"scatter\": [{\"marker\": {\"colorbar\": {\"outlinewidth\": 0, \"ticks\": \"\"}}, \"type\": \"scatter\"}], \"scatter3d\": [{\"line\": {\"colorbar\": {\"outlinewidth\": 0, \"ticks\": \"\"}}, \"marker\": {\"colorbar\": {\"outlinewidth\": 0, \"ticks\": \"\"}}, \"type\": \"scatter3d\"}], \"scattercarpet\": [{\"marker\": {\"colorbar\": {\"outlinewidth\": 0, \"ticks\": \"\"}}, \"type\": \"scattercarpet\"}], \"scattergeo\": [{\"marker\": {\"colorbar\": {\"outlinewidth\": 0, \"ticks\": \"\"}}, \"type\": \"scattergeo\"}], \"scattergl\": [{\"marker\": {\"colorbar\": {\"outlinewidth\": 0, \"ticks\": \"\"}}, \"type\": \"scattergl\"}], \"scattermapbox\": [{\"marker\": {\"colorbar\": {\"outlinewidth\": 0, \"ticks\": \"\"}}, \"type\": \"scattermapbox\"}], \"scatterpolar\": [{\"marker\": {\"colorbar\": {\"outlinewidth\": 0, \"ticks\": \"\"}}, \"type\": \"scatterpolar\"}], \"scatterpolargl\": [{\"marker\": {\"colorbar\": {\"outlinewidth\": 0, \"ticks\": \"\"}}, \"type\": \"scatterpolargl\"}], \"scatterternary\": [{\"marker\": {\"colorbar\": {\"outlinewidth\": 0, \"ticks\": \"\"}}, \"type\": \"scatterternary\"}], \"surface\": [{\"colorbar\": {\"outlinewidth\": 0, \"ticks\": \"\"}, \"colorscale\": [[0.0, \"#0d0887\"], [0.1111111111111111, \"#46039f\"], [0.2222222222222222, \"#7201a8\"], [0.3333333333333333, \"#9c179e\"], [0.4444444444444444, \"#bd3786\"], [0.5555555555555556, \"#d8576b\"], [0.6666666666666666, \"#ed7953\"], [0.7777777777777778, \"#fb9f3a\"], [0.8888888888888888, \"#fdca26\"], [1.0, \"#f0f921\"]], \"type\": \"surface\"}], \"table\": [{\"cells\": {\"fill\": {\"color\": \"#EBF0F8\"}, \"line\": {\"color\": \"white\"}}, \"header\": {\"fill\": {\"color\": \"#C8D4E3\"}, \"line\": {\"color\": \"white\"}}, \"type\": \"table\"}]}, \"layout\": {\"annotationdefaults\": {\"arrowcolor\": \"#2a3f5f\", \"arrowhead\": 0, \"arrowwidth\": 1}, \"coloraxis\": {\"colorbar\": {\"outlinewidth\": 0, \"ticks\": \"\"}}, \"colorscale\": {\"diverging\": [[0, \"#8e0152\"], [0.1, \"#c51b7d\"], [0.2, \"#de77ae\"], [0.3, \"#f1b6da\"], [0.4, \"#fde0ef\"], [0.5, \"#f7f7f7\"], [0.6, \"#e6f5d0\"], [0.7, \"#b8e186\"], [0.8, \"#7fbc41\"], [0.9, \"#4d9221\"], [1, \"#276419\"]], \"sequential\": [[0.0, \"#0d0887\"], [0.1111111111111111, \"#46039f\"], [0.2222222222222222, \"#7201a8\"], [0.3333333333333333, \"#9c179e\"], [0.4444444444444444, \"#bd3786\"], [0.5555555555555556, \"#d8576b\"], [0.6666666666666666, \"#ed7953\"], [0.7777777777777778, \"#fb9f3a\"], [0.8888888888888888, \"#fdca26\"], [1.0, \"#f0f921\"]], \"sequentialminus\": [[0.0, \"#0d0887\"], [0.1111111111111111, \"#46039f\"], [0.2222222222222222, \"#7201a8\"], [0.3333333333333333, \"#9c179e\"], [0.4444444444444444, \"#bd3786\"], [0.5555555555555556, \"#d8576b\"], [0.6666666666666666, \"#ed7953\"], [0.7777777777777778, \"#fb9f3a\"], [0.8888888888888888, \"#fdca26\"], [1.0, \"#f0f921\"]]}, \"colorway\": [\"#636efa\", \"#EF553B\", \"#00cc96\", \"#ab63fa\", \"#FFA15A\", \"#19d3f3\", \"#FF6692\", \"#B6E880\", \"#FF97FF\", \"#FECB52\"], \"font\": {\"color\": \"#2a3f5f\"}, \"geo\": {\"bgcolor\": \"white\", \"lakecolor\": \"white\", \"landcolor\": \"#E5ECF6\", \"showlakes\": true, \"showland\": true, \"subunitcolor\": \"white\"}, \"hoverlabel\": {\"align\": \"left\"}, \"hovermode\": \"closest\", \"mapbox\": {\"style\": \"light\"}, \"paper_bgcolor\": \"white\", \"plot_bgcolor\": \"#E5ECF6\", \"polar\": {\"angularaxis\": {\"gridcolor\": \"white\", \"linecolor\": \"white\", \"ticks\": \"\"}, \"bgcolor\": \"#E5ECF6\", \"radialaxis\": {\"gridcolor\": \"white\", \"linecolor\": \"white\", \"ticks\": \"\"}}, \"scene\": {\"xaxis\": {\"backgroundcolor\": \"#E5ECF6\", \"gridcolor\": \"white\", \"gridwidth\": 2, \"linecolor\": \"white\", \"showbackground\": true, \"ticks\": \"\", \"zerolinecolor\": \"white\"}, \"yaxis\": {\"backgroundcolor\": \"#E5ECF6\", \"gridcolor\": \"white\", \"gridwidth\": 2, \"linecolor\": \"white\", \"showbackground\": true, \"ticks\": \"\", \"zerolinecolor\": \"white\"}, \"zaxis\": {\"backgroundcolor\": \"#E5ECF6\", \"gridcolor\": \"white\", \"gridwidth\": 2, \"linecolor\": \"white\", \"showbackground\": true, \"ticks\": \"\", \"zerolinecolor\": \"white\"}}, \"shapedefaults\": {\"line\": {\"color\": \"#2a3f5f\"}}, \"ternary\": {\"aaxis\": {\"gridcolor\": \"white\", \"linecolor\": \"white\", \"ticks\": \"\"}, \"baxis\": {\"gridcolor\": \"white\", \"linecolor\": \"white\", \"ticks\": \"\"}, \"bgcolor\": \"#E5ECF6\", \"caxis\": {\"gridcolor\": \"white\", \"linecolor\": \"white\", \"ticks\": \"\"}}, \"title\": {\"x\": 0.05}, \"xaxis\": {\"automargin\": true, \"gridcolor\": \"white\", \"linecolor\": \"white\", \"ticks\": \"\", \"title\": {\"standoff\": 15}, \"zerolinecolor\": \"white\", \"zerolinewidth\": 2}, \"yaxis\": {\"automargin\": true, \"gridcolor\": \"white\", \"linecolor\": \"white\", \"ticks\": \"\", \"title\": {\"standoff\": 15}, \"zerolinecolor\": \"white\", \"zerolinewidth\": 2}}}},\n",
       "                        {\"responsive\": true}\n",
       "                    ).then(function(){\n",
       "                            \n",
       "var gd = document.getElementById('8237e5a2-ca6a-4cf8-8772-e8b17d509e66');\n",
       "var x = new MutationObserver(function (mutations, observer) {{\n",
       "        var display = window.getComputedStyle(gd).display;\n",
       "        if (!display || display === 'none') {{\n",
       "            console.log([gd, 'removed!']);\n",
       "            Plotly.purge(gd);\n",
       "            observer.disconnect();\n",
       "        }}\n",
       "}});\n",
       "\n",
       "// Listen for the removal of the full notebook cells\n",
       "var notebookContainer = gd.closest('#notebook-container');\n",
       "if (notebookContainer) {{\n",
       "    x.observe(notebookContainer, {childList: true});\n",
       "}}\n",
       "\n",
       "// Listen for the clearing of the current output cell\n",
       "var outputEl = gd.closest('.output');\n",
       "if (outputEl) {{\n",
       "    x.observe(outputEl, {childList: true});\n",
       "}}\n",
       "\n",
       "                        })\n",
       "                };\n",
       "                });\n",
       "            </script>\n",
       "        </div>"
      ]
     },
     "metadata": {},
     "output_type": "display_data"
    }
   ],
   "source": [
    "fig = px.scatter_geo(geo_df[geo_df['country'] != 'China'], locations=\"iso_alpha\",\n",
    "                     size=\"Confirmed\", \n",
    "                     color=\"continent\",\n",
    "                     hover_name=\"country\",\n",
    "                     projection=\"natural earth\",\n",
    "                     )\n",
    "fig.show()"
   ]
  },
  {
   "cell_type": "code",
   "execution_count": 420,
   "metadata": {
    "slideshow": {
     "slide_type": "skip"
    }
   },
   "outputs": [],
   "source": [
    "import datetime as dt\n",
    "\n",
    "df_countrybydate = df.groupby(['Country/Region', 'Last Update', 'Date']).sum().reset_index().sort_values('Last Update', ascending=False)\n",
    "df_countrybydate = df_countrybydate.groupby(['Country/Region', 'Date']).max().reset_index().sort_values('Last Update')\n",
    "df_countrybydate[\"Size\"] = np.where(df_countrybydate['Country/Region']=='Mainland China', df_countrybydate['Confirmed'], df_countrybydate['Confirmed']*200)\n",
    "# df_countrybydate['UpDate'] = df_countrybydate['Date'].apply(lambda x: dt.datetime(x.year,x.month,x.day))\n",
    "# df_countrybydate['Date'] = pd.to_datetime(df_countrybydate['Date']).apply(lambda x: x.date())\n",
    "# df_countrybydate['Date']= pd.to_datetime(df_countrybydate['Date']) \n",
    "df_countrybydate['Date'] = pd.to_datetime(df_countrybydate['Date'], dayfirst=True).dt.strftime('%Y-%m-%d')\n",
    "\n"
   ]
  },
  {
   "cell_type": "markdown",
   "metadata": {
    "slideshow": {
     "slide_type": "slide"
    }
   },
   "source": [
    "### How does the virus spread over time?"
   ]
  },
  {
   "cell_type": "code",
   "execution_count": 428,
   "metadata": {
    "slideshow": {
     "slide_type": "fragment"
    }
   },
   "outputs": [
    {
     "data": {
      "application/vnd.plotly.v1+json": {
       "config": {
        "plotlyServerURL": "https://plot.ly"
       },
       "data": [
        {
         "geo": "geo",
         "hoverlabel": {
          "namelength": 0
         },
         "hovertemplate": "<b>%{hovertext}</b><br><br>Date=2020-01-22<br>Size=%{marker.size}<br>Country/Region=%{location}<br>Confirmed=%{marker.color}",
         "hovertext": [
          "Taiwan",
          "South Korea",
          "Japan",
          "US",
          "Mainland China",
          "Hong Kong",
          "Thailand",
          "Macau"
         ],
         "legendgroup": "",
         "locationmode": "country names",
         "locations": [
          "Taiwan",
          "South Korea",
          "Japan",
          "US",
          "Mainland China",
          "Hong Kong",
          "Thailand",
          "Macau"
         ],
         "marker": {
          "color": [
           1,
           1,
           2,
           1,
           547,
           0,
           2,
           1
          ],
          "coloraxis": "coloraxis",
          "size": [
           200,
           200,
           400,
           200,
           547,
           0,
           400,
           200
          ],
          "sizemode": "area",
          "sizeref": 1168.5
         },
         "name": "",
         "showlegend": false,
         "type": "scattergeo"
        }
       ],
       "frames": [
        {
         "data": [
          {
           "geo": "geo",
           "hoverlabel": {
            "namelength": 0
           },
           "hovertemplate": "<b>%{hovertext}</b><br><br>Date=2020-01-22<br>Size=%{marker.size}<br>Country/Region=%{location}<br>Confirmed=%{marker.color}",
           "hovertext": [
            "Taiwan",
            "South Korea",
            "Japan",
            "US",
            "Mainland China",
            "Hong Kong",
            "Thailand",
            "Macau"
           ],
           "legendgroup": "",
           "locationmode": "country names",
           "locations": [
            "Taiwan",
            "South Korea",
            "Japan",
            "US",
            "Mainland China",
            "Hong Kong",
            "Thailand",
            "Macau"
           ],
           "marker": {
            "color": [
             1,
             1,
             2,
             1,
             547,
             0,
             2,
             1
            ],
            "coloraxis": "coloraxis",
            "size": [
             200,
             200,
             400,
             200,
             547,
             0,
             400,
             200
            ],
            "sizemode": "area",
            "sizeref": 1168.5
           },
           "name": "",
           "showlegend": false,
           "type": "scattergeo"
          }
         ],
         "name": "2020-01-22"
        },
        {
         "data": [
          {
           "geo": "geo",
           "hoverlabel": {
            "namelength": 0
           },
           "hovertemplate": "<b>%{hovertext}</b><br><br>Date=2020-01-23<br>Size=%{marker.size}<br>Country/Region=%{location}<br>Confirmed=%{marker.color}",
           "hovertext": [
            "Vietnam",
            "Singapore",
            "South Korea",
            "Mexico",
            "Colombia",
            "Hong Kong",
            "Mainland China",
            "Brazil",
            "Malaysia",
            "Macau",
            "Thailand",
            "Taiwan",
            "Japan",
            "US",
            "Australia",
            "Philippines"
           ],
           "legendgroup": "",
           "locationmode": "country names",
           "locations": [
            "Vietnam",
            "Singapore",
            "South Korea",
            "Mexico",
            "Colombia",
            "Hong Kong",
            "Mainland China",
            "Brazil",
            "Malaysia",
            "Macau",
            "Thailand",
            "Taiwan",
            "Japan",
            "US",
            "Australia",
            "Philippines"
           ],
           "marker": {
            "color": [
             2,
             1,
             1,
             0,
             0,
             2,
             639,
             0,
             0,
             2,
             3,
             1,
             1,
             1,
             0,
             0
            ],
            "coloraxis": "coloraxis",
            "size": [
             400,
             200,
             200,
             0,
             0,
             400,
             639,
             0,
             0,
             400,
             600,
             200,
             200,
             200,
             0,
             0
            ],
            "sizemode": "area",
            "sizeref": 1168.5
           },
           "name": "",
           "showlegend": false,
           "type": "scattergeo"
          }
         ],
         "name": "2020-01-23"
        },
        {
         "data": [
          {
           "geo": "geo",
           "hoverlabel": {
            "namelength": 0
           },
           "hovertemplate": "<b>%{hovertext}</b><br><br>Date=2020-01-24<br>Size=%{marker.size}<br>Country/Region=%{location}<br>Confirmed=%{marker.color}",
           "hovertext": [
            "Japan",
            "Singapore",
            "Macau",
            "France",
            "South Korea",
            "US",
            "Taiwan",
            "Mainland China",
            "Hong Kong",
            "Vietnam",
            "Thailand"
           ],
           "legendgroup": "",
           "locationmode": "country names",
           "locations": [
            "Japan",
            "Singapore",
            "Macau",
            "France",
            "South Korea",
            "US",
            "Taiwan",
            "Mainland China",
            "Hong Kong",
            "Vietnam",
            "Thailand"
           ],
           "marker": {
            "color": [
             2,
             3,
             2,
             2,
             2,
             2,
             3,
             916,
             2,
             2,
             5
            ],
            "coloraxis": "coloraxis",
            "size": [
             400,
             600,
             400,
             400,
             400,
             400,
             600,
             916,
             400,
             400,
             1000
            ],
            "sizemode": "area",
            "sizeref": 1168.5
           },
           "name": "",
           "showlegend": false,
           "type": "scattergeo"
          }
         ],
         "name": "2020-01-24"
        },
        {
         "data": [
          {
           "geo": "geo",
           "hoverlabel": {
            "namelength": 0
           },
           "hovertemplate": "<b>%{hovertext}</b><br><br>Date=2020-01-25<br>Size=%{marker.size}<br>Country/Region=%{location}<br>Confirmed=%{marker.color}",
           "hovertext": [
            "Mainland China",
            "Nepal",
            "Macau",
            "Hong Kong",
            "Australia",
            "Vietnam",
            "South Korea",
            "US",
            "Malaysia",
            "France",
            "Thailand",
            "Taiwan",
            "Japan",
            "Singapore"
           ],
           "legendgroup": "",
           "locationmode": "country names",
           "locations": [
            "Mainland China",
            "Nepal",
            "Macau",
            "Hong Kong",
            "Australia",
            "Vietnam",
            "South Korea",
            "US",
            "Malaysia",
            "France",
            "Thailand",
            "Taiwan",
            "Japan",
            "Singapore"
           ],
           "marker": {
            "color": [
             1399,
             1,
             2,
             5,
             4,
             2,
             2,
             2,
             3,
             3,
             7,
             3,
             2,
             3
            ],
            "coloraxis": "coloraxis",
            "size": [
             1399,
             200,
             400,
             1000,
             800,
             400,
             400,
             400,
             600,
             600,
             1400,
             600,
             400,
             600
            ],
            "sizemode": "area",
            "sizeref": 1168.5
           },
           "name": "",
           "showlegend": false,
           "type": "scattergeo"
          }
         ],
         "name": "2020-01-25"
        },
        {
         "data": [
          {
           "geo": "geo",
           "hoverlabel": {
            "namelength": 0
           },
           "hovertemplate": "<b>%{hovertext}</b><br><br>Date=2020-01-26<br>Size=%{marker.size}<br>Country/Region=%{location}<br>Confirmed=%{marker.color}",
           "hovertext": [
            "Taiwan",
            "Japan",
            "Hong Kong",
            "France",
            "Mainland China",
            "Thailand",
            "US",
            "Vietnam",
            "Australia",
            "Macau",
            "Singapore",
            "Malaysia",
            "Canada",
            "South Korea",
            "Nepal"
           ],
           "legendgroup": "",
           "locationmode": "country names",
           "locations": [
            "Taiwan",
            "Japan",
            "Hong Kong",
            "France",
            "Mainland China",
            "Thailand",
            "US",
            "Vietnam",
            "Australia",
            "Macau",
            "Singapore",
            "Malaysia",
            "Canada",
            "South Korea",
            "Nepal"
           ],
           "marker": {
            "color": [
             4,
             4,
             8,
             3,
             2062,
             8,
             5,
             2,
             4,
             5,
             4,
             4,
             1,
             3,
             1
            ],
            "coloraxis": "coloraxis",
            "size": [
             800,
             800,
             1600,
             600,
             2062,
             1600,
             1000,
             400,
             800,
             1000,
             800,
             800,
             200,
             600,
             200
            ],
            "sizemode": "area",
            "sizeref": 1168.5
           },
           "name": "",
           "showlegend": false,
           "type": "scattergeo"
          }
         ],
         "name": "2020-01-26"
        },
        {
         "data": [
          {
           "geo": "geo",
           "hoverlabel": {
            "namelength": 0
           },
           "hovertemplate": "<b>%{hovertext}</b><br><br>Date=2020-01-27<br>Size=%{marker.size}<br>Country/Region=%{location}<br>Confirmed=%{marker.color}",
           "hovertext": [
            "Nepal",
            "Sri Lanka",
            "Hong Kong",
            "US",
            "Mainland China",
            "Australia",
            "Thailand",
            "Ivory Coast",
            "Singapore",
            "France",
            "South Korea",
            "Canada",
            "Vietnam",
            "Macau",
            "Malaysia",
            "Cambodia",
            "Taiwan",
            "Japan"
           ],
           "legendgroup": "",
           "locationmode": "country names",
           "locations": [
            "Nepal",
            "Sri Lanka",
            "Hong Kong",
            "US",
            "Mainland China",
            "Australia",
            "Thailand",
            "Ivory Coast",
            "Singapore",
            "France",
            "South Korea",
            "Canada",
            "Vietnam",
            "Macau",
            "Malaysia",
            "Cambodia",
            "Taiwan",
            "Japan"
           ],
           "marker": {
            "color": [
             1,
             1,
             8,
             5,
             2863,
             5,
             8,
             1,
             5,
             3,
             4,
             1,
             2,
             6,
             4,
             1,
             5,
             4
            ],
            "coloraxis": "coloraxis",
            "size": [
             200,
             200,
             1600,
             1000,
             2863,
             1000,
             1600,
             200,
             1000,
             600,
             800,
             200,
             400,
             1200,
             800,
             200,
             1000,
             800
            ],
            "sizemode": "area",
            "sizeref": 1168.5
           },
           "name": "",
           "showlegend": false,
           "type": "scattergeo"
          }
         ],
         "name": "2020-01-27"
        },
        {
         "data": [
          {
           "geo": "geo",
           "hoverlabel": {
            "namelength": 0
           },
           "hovertemplate": "<b>%{hovertext}</b><br><br>Date=2020-01-28<br>Size=%{marker.size}<br>Country/Region=%{location}<br>Confirmed=%{marker.color}",
           "hovertext": [
            "France",
            "Hong Kong",
            "Vietnam",
            "US",
            "South Korea",
            "Singapore",
            "Germany",
            "Sri Lanka",
            "Malaysia",
            "Nepal",
            "Canada",
            "Cambodia",
            "Macau",
            "Mainland China",
            "Japan",
            "Australia",
            "Taiwan",
            "Thailand"
           ],
           "legendgroup": "",
           "locationmode": "country names",
           "locations": [
            "France",
            "Hong Kong",
            "Vietnam",
            "US",
            "South Korea",
            "Singapore",
            "Germany",
            "Sri Lanka",
            "Malaysia",
            "Nepal",
            "Canada",
            "Cambodia",
            "Macau",
            "Mainland China",
            "Japan",
            "Australia",
            "Taiwan",
            "Thailand"
           ],
           "marker": {
            "color": [
             4,
             8,
             2,
             5,
             4,
             7,
             4,
             1,
             4,
             1,
             2,
             1,
             7,
             5494,
             7,
             5,
             8,
             14
            ],
            "coloraxis": "coloraxis",
            "size": [
             800,
             1600,
             400,
             1000,
             800,
             1400,
             800,
             200,
             800,
             200,
             400,
             200,
             1400,
             5494,
             1400,
             1000,
             1600,
             2800
            ],
            "sizemode": "area",
            "sizeref": 1168.5
           },
           "name": "",
           "showlegend": false,
           "type": "scattergeo"
          }
         ],
         "name": "2020-01-28"
        },
        {
         "data": [
          {
           "geo": "geo",
           "hoverlabel": {
            "namelength": 0
           },
           "hovertemplate": "<b>%{hovertext}</b><br><br>Date=2020-01-29<br>Size=%{marker.size}<br>Country/Region=%{location}<br>Confirmed=%{marker.color}",
           "hovertext": [
            "Thailand",
            "South Korea",
            "Singapore",
            "Malaysia",
            "France",
            "Taiwan",
            "Cambodia",
            "Hong Kong",
            "Japan",
            "Mainland China",
            "Macau",
            "Nepal",
            "Sri Lanka",
            "Canada",
            "Finland",
            "United Arab Emirates",
            "Australia",
            "US",
            "Germany",
            "Vietnam"
           ],
           "legendgroup": "",
           "locationmode": "country names",
           "locations": [
            "Thailand",
            "South Korea",
            "Singapore",
            "Malaysia",
            "France",
            "Taiwan",
            "Cambodia",
            "Hong Kong",
            "Japan",
            "Mainland China",
            "Macau",
            "Nepal",
            "Sri Lanka",
            "Canada",
            "Finland",
            "United Arab Emirates",
            "Australia",
            "US",
            "Germany",
            "Vietnam"
           ],
           "marker": {
            "color": [
             14,
             4,
             7,
             7,
             5,
             8,
             1,
             10,
             7,
             6070,
             7,
             1,
             1,
             2,
             1,
             4,
             5,
             5,
             4,
             2
            ],
            "coloraxis": "coloraxis",
            "size": [
             2800,
             800,
             1400,
             1400,
             1000,
             1600,
             200,
             2000,
             1400,
             6070,
             1400,
             200,
             200,
             400,
             200,
             800,
             1000,
             1000,
             800,
             400
            ],
            "sizemode": "area",
            "sizeref": 1168.5
           },
           "name": "",
           "showlegend": false,
           "type": "scattergeo"
          }
         ],
         "name": "2020-01-29"
        },
        {
         "data": [
          {
           "geo": "geo",
           "hoverlabel": {
            "namelength": 0
           },
           "hovertemplate": "<b>%{hovertext}</b><br><br>Date=2020-01-30<br>Size=%{marker.size}<br>Country/Region=%{location}<br>Confirmed=%{marker.color}",
           "hovertext": [
            "US",
            "Finland",
            "Hong Kong",
            "Thailand",
            "Taiwan",
            "Vietnam",
            "Philippines",
            "Macau",
            "United Arab Emirates",
            "Mainland China",
            "Sri Lanka",
            "Nepal",
            "Malaysia",
            "Cambodia",
            "Japan",
            "Singapore",
            "Canada",
            "Australia",
            "France",
            "India",
            "Germany",
            "South Korea"
           ],
           "legendgroup": "",
           "locationmode": "country names",
           "locations": [
            "US",
            "Finland",
            "Hong Kong",
            "Thailand",
            "Taiwan",
            "Vietnam",
            "Philippines",
            "Macau",
            "United Arab Emirates",
            "Mainland China",
            "Sri Lanka",
            "Nepal",
            "Malaysia",
            "Cambodia",
            "Japan",
            "Singapore",
            "Canada",
            "Australia",
            "France",
            "India",
            "Germany",
            "South Korea"
           ],
           "marker": {
            "color": [
             5,
             1,
             10,
             14,
             9,
             2,
             1,
             7,
             4,
             8124,
             1,
             1,
             8,
             1,
             11,
             10,
             3,
             9,
             5,
             1,
             4,
             4
            ],
            "coloraxis": "coloraxis",
            "size": [
             1000,
             200,
             2000,
             2800,
             1800,
             400,
             200,
             1400,
             800,
             8124,
             200,
             200,
             1600,
             200,
             2200,
             2000,
             600,
             1800,
             1000,
             200,
             800,
             800
            ],
            "sizemode": "area",
            "sizeref": 1168.5
           },
           "name": "",
           "showlegend": false,
           "type": "scattergeo"
          }
         ],
         "name": "2020-01-30"
        },
        {
         "data": [
          {
           "geo": "geo",
           "hoverlabel": {
            "namelength": 0
           },
           "hovertemplate": "<b>%{hovertext}</b><br><br>Date=2020-02-01<br>Size=%{marker.size}<br>Country/Region=%{location}<br>Confirmed=%{marker.color}",
           "hovertext": [
            "Thailand",
            "Taiwan",
            "Russia",
            "Finland",
            "Nepal",
            "United Arab Emirates",
            "India",
            "Cambodia",
            "Macau",
            "Italy",
            "Sri Lanka",
            "Malaysia",
            "South Korea",
            "Philippines",
            "Canada",
            "Australia",
            "Germany",
            "Japan",
            "US",
            "France",
            "UK",
            "Sweden",
            "Spain",
            "Hong Kong",
            "Singapore",
            "Vietnam",
            "Mainland China"
           ],
           "legendgroup": "",
           "locationmode": "country names",
           "locations": [
            "Thailand",
            "Taiwan",
            "Russia",
            "Finland",
            "Nepal",
            "United Arab Emirates",
            "India",
            "Cambodia",
            "Macau",
            "Italy",
            "Sri Lanka",
            "Malaysia",
            "South Korea",
            "Philippines",
            "Canada",
            "Australia",
            "Germany",
            "Japan",
            "US",
            "France",
            "UK",
            "Sweden",
            "Spain",
            "Hong Kong",
            "Singapore",
            "Vietnam",
            "Mainland China"
           ],
           "marker": {
            "color": [
             19,
             10,
             2,
             1,
             1,
             4,
             1,
             1,
             7,
             2,
             1,
             8,
             12,
             1,
             4,
             12,
             8,
             20,
             5,
             6,
             2,
             1,
             1,
             13,
             16,
             6,
             7153
            ],
            "coloraxis": "coloraxis",
            "size": [
             3800,
             2000,
             400,
             200,
             200,
             800,
             200,
             200,
             1400,
             400,
             200,
             1600,
             2400,
             200,
             800,
             2400,
             1600,
             4000,
             1000,
             1200,
             400,
             200,
             200,
             2600,
             3200,
             1200,
             7153
            ],
            "sizemode": "area",
            "sizeref": 1168.5
           },
           "name": "",
           "showlegend": false,
           "type": "scattergeo"
          }
         ],
         "name": "2020-02-01"
        },
        {
         "data": [
          {
           "geo": "geo",
           "hoverlabel": {
            "namelength": 0
           },
           "hovertemplate": "<b>%{hovertext}</b><br><br>Date=2020-01-31<br>Size=%{marker.size}<br>Country/Region=%{location}<br>Confirmed=%{marker.color}",
           "hovertext": [
            "UK",
            "Italy",
            "Finland",
            "Japan",
            "Nepal",
            "Singapore",
            "Taiwan",
            "Philippines",
            "Thailand",
            "Sweden",
            "Russia",
            "Germany",
            "Sri Lanka",
            "Cambodia",
            "US",
            "South Korea",
            "France",
            "India",
            "Malaysia",
            "Australia",
            "Vietnam",
            "Hong Kong",
            "Mainland China",
            "United Arab Emirates",
            "Macau",
            "Canada"
           ],
           "legendgroup": "",
           "locationmode": "country names",
           "locations": [
            "UK",
            "Italy",
            "Finland",
            "Japan",
            "Nepal",
            "Singapore",
            "Taiwan",
            "Philippines",
            "Thailand",
            "Sweden",
            "Russia",
            "Germany",
            "Sri Lanka",
            "Cambodia",
            "US",
            "South Korea",
            "France",
            "India",
            "Malaysia",
            "Australia",
            "Vietnam",
            "Hong Kong",
            "Mainland China",
            "United Arab Emirates",
            "Macau",
            "Canada"
           ],
           "marker": {
            "color": [
             2,
             2,
             1,
             15,
             1,
             13,
             10,
             1,
             19,
             1,
             2,
             5,
             1,
             1,
             6,
             11,
             5,
             1,
             8,
             9,
             2,
             12,
             9783,
             4,
             7,
             3
            ],
            "coloraxis": "coloraxis",
            "size": [
             400,
             400,
             200,
             3000,
             200,
             2600,
             2000,
             200,
             3800,
             200,
             400,
             1000,
             200,
             200,
             1200,
             2200,
             1000,
             200,
             1600,
             1800,
             400,
             2400,
             9783,
             800,
             1400,
             600
            ],
            "sizemode": "area",
            "sizeref": 1168.5
           },
           "name": "",
           "showlegend": false,
           "type": "scattergeo"
          }
         ],
         "name": "2020-01-31"
        },
        {
         "data": [
          {
           "geo": "geo",
           "hoverlabel": {
            "namelength": 0
           },
           "hovertemplate": "<b>%{hovertext}</b><br><br>Date=2020-02-05<br>Size=%{marker.size}<br>Country/Region=%{location}<br>Confirmed=%{marker.color}",
           "hovertext": [
            "Cambodia",
            "Sri Lanka",
            "Finland",
            "Italy",
            "Nepal",
            "Russia",
            "France",
            "UK",
            "Sweden",
            "Spain",
            "Philippines",
            "United Arab Emirates",
            "Germany",
            "Vietnam",
            "India",
            "Macau",
            "Taiwan",
            "Thailand",
            "Belgium",
            "Japan",
            "Australia",
            "Hong Kong",
            "South Korea",
            "Malaysia",
            "Singapore",
            "Canada",
            "US",
            "Mainland China"
           ],
           "legendgroup": "",
           "locationmode": "country names",
           "locations": [
            "Cambodia",
            "Sri Lanka",
            "Finland",
            "Italy",
            "Nepal",
            "Russia",
            "France",
            "UK",
            "Sweden",
            "Spain",
            "Philippines",
            "United Arab Emirates",
            "Germany",
            "Vietnam",
            "India",
            "Macau",
            "Taiwan",
            "Thailand",
            "Belgium",
            "Japan",
            "Australia",
            "Hong Kong",
            "South Korea",
            "Malaysia",
            "Singapore",
            "Canada",
            "US",
            "Mainland China"
           ],
           "marker": {
            "color": [
             1,
             1,
             1,
             2,
             1,
             2,
             6,
             2,
             1,
             1,
             2,
             5,
             12,
             8,
             3,
             10,
             11,
             25,
             1,
             22,
             8,
             21,
             19,
             12,
             28,
             2,
             5,
             19665
            ],
            "coloraxis": "coloraxis",
            "size": [
             200,
             200,
             200,
             400,
             200,
             400,
             1200,
             400,
             200,
             200,
             400,
             1000,
             2400,
             1600,
             600,
             2000,
             2200,
             5000,
             200,
             4400,
             1600,
             4200,
             3800,
             2400,
             5600,
             400,
             1000,
             19665
            ],
            "sizemode": "area",
            "sizeref": 1168.5
           },
           "name": "",
           "showlegend": false,
           "type": "scattergeo"
          }
         ],
         "name": "2020-02-05"
        },
        {
         "data": [
          {
           "geo": "geo",
           "hoverlabel": {
            "namelength": 0
           },
           "hovertemplate": "<b>%{hovertext}</b><br><br>Date=2020-02-10<br>Size=%{marker.size}<br>Country/Region=%{location}<br>Confirmed=%{marker.color}",
           "hovertext": [
            "Nepal",
            "Cambodia",
            "Finland",
            "Russia",
            "Sweden",
            "India",
            "Belgium",
            "Macau",
            "Canada",
            "Philippines",
            "Italy",
            "Sri Lanka",
            "France",
            "Thailand",
            "Germany",
            "Taiwan",
            "US",
            "Australia",
            "Spain",
            "South Korea",
            "Malaysia",
            "Vietnam",
            "Hong Kong",
            "Others",
            "UK",
            "Singapore",
            "Japan",
            "United Arab Emirates",
            "Mainland China"
           ],
           "legendgroup": "",
           "locationmode": "country names",
           "locations": [
            "Nepal",
            "Cambodia",
            "Finland",
            "Russia",
            "Sweden",
            "India",
            "Belgium",
            "Macau",
            "Canada",
            "Philippines",
            "Italy",
            "Sri Lanka",
            "France",
            "Thailand",
            "Germany",
            "Taiwan",
            "US",
            "Australia",
            "Spain",
            "South Korea",
            "Malaysia",
            "Vietnam",
            "Hong Kong",
            "Others",
            "UK",
            "Singapore",
            "Japan",
            "United Arab Emirates",
            "Mainland China"
           ],
           "marker": {
            "color": [
             1,
             1,
             1,
             2,
             1,
             3,
             1,
             10,
             4,
             3,
             3,
             1,
             11,
             32,
             14,
             18,
             2,
             5,
             2,
             27,
             18,
             14,
             38,
             135,
             8,
             45,
             26,
             8,
             31728
            ],
            "coloraxis": "coloraxis",
            "size": [
             200,
             200,
             200,
             400,
             200,
             600,
             200,
             2000,
             800,
             600,
             600,
             200,
             2200,
             6400,
             2800,
             3600,
             400,
             1000,
             400,
             5400,
             3600,
             2800,
             7600,
             27000,
             1600,
             9000,
             5200,
             1600,
             31728
            ],
            "sizemode": "area",
            "sizeref": 1168.5
           },
           "name": "",
           "showlegend": false,
           "type": "scattergeo"
          }
         ],
         "name": "2020-02-10"
        },
        {
         "data": [
          {
           "geo": "geo",
           "hoverlabel": {
            "namelength": 0
           },
           "hovertemplate": "<b>%{hovertext}</b><br><br>Date=2020-02-11<br>Size=%{marker.size}<br>Country/Region=%{location}<br>Confirmed=%{marker.color}",
           "hovertext": [
            "Nepal",
            "Cambodia",
            "Finland",
            "Russia",
            "Sweden",
            "India",
            "Belgium",
            "Macau",
            "Canada",
            "Philippines",
            "Italy",
            "Sri Lanka",
            "France",
            "Taiwan",
            "Australia",
            "Spain",
            "Others",
            "UK",
            "United Arab Emirates",
            "US",
            "Japan",
            "South Korea",
            "Malaysia",
            "Hong Kong",
            "Singapore",
            "Vietnam",
            "Thailand",
            "Germany",
            "Mainland China"
           ],
           "legendgroup": "",
           "locationmode": "country names",
           "locations": [
            "Nepal",
            "Cambodia",
            "Finland",
            "Russia",
            "Sweden",
            "India",
            "Belgium",
            "Macau",
            "Canada",
            "Philippines",
            "Italy",
            "Sri Lanka",
            "France",
            "Taiwan",
            "Australia",
            "Spain",
            "Others",
            "UK",
            "United Arab Emirates",
            "US",
            "Japan",
            "South Korea",
            "Malaysia",
            "Hong Kong",
            "Singapore",
            "Vietnam",
            "Thailand",
            "Germany",
            "Mainland China"
           ],
           "marker": {
            "color": [
             1,
             1,
             1,
             2,
             1,
             3,
             1,
             10,
             4,
             3,
             3,
             1,
             11,
             18,
             5,
             2,
             135,
             8,
             8,
             2,
             26,
             28,
             18,
             49,
             47,
             15,
             33,
             16,
             33490
            ],
            "coloraxis": "coloraxis",
            "size": [
             200,
             200,
             200,
             400,
             200,
             600,
             200,
             2000,
             800,
             600,
             600,
             200,
             2200,
             3600,
             1000,
             400,
             27000,
             1600,
             1600,
             400,
             5200,
             5600,
             3600,
             9800,
             9400,
             3000,
             6600,
             3200,
             33490
            ],
            "sizemode": "area",
            "sizeref": 1168.5
           },
           "name": "",
           "showlegend": false,
           "type": "scattergeo"
          }
         ],
         "name": "2020-02-11"
        },
        {
         "data": [
          {
           "geo": "geo",
           "hoverlabel": {
            "namelength": 0
           },
           "hovertemplate": "<b>%{hovertext}</b><br><br>Date=2020-02-06<br>Size=%{marker.size}<br>Country/Region=%{location}<br>Confirmed=%{marker.color}",
           "hovertext": [
            "Cambodia",
            "Sri Lanka",
            "Italy",
            "Finland",
            "Nepal",
            "Russia",
            "France",
            "UK",
            "Sweden",
            "Spain",
            "Philippines",
            "United Arab Emirates",
            "Germany",
            "India",
            "Thailand",
            "Belgium",
            "Malaysia",
            "Singapore",
            "Canada",
            "US",
            "Vietnam",
            "Japan",
            "South Korea",
            "Australia",
            "Macau",
            "Hong Kong",
            "Taiwan",
            "Mainland China"
           ],
           "legendgroup": "",
           "locationmode": "country names",
           "locations": [
            "Cambodia",
            "Sri Lanka",
            "Italy",
            "Finland",
            "Nepal",
            "Russia",
            "France",
            "UK",
            "Sweden",
            "Spain",
            "Philippines",
            "United Arab Emirates",
            "Germany",
            "India",
            "Thailand",
            "Belgium",
            "Malaysia",
            "Singapore",
            "Canada",
            "US",
            "Vietnam",
            "Japan",
            "South Korea",
            "Australia",
            "Macau",
            "Hong Kong",
            "Taiwan",
            "Mainland China"
           ],
           "marker": {
            "color": [
             1,
             1,
             2,
             1,
             1,
             2,
             6,
             2,
             1,
             1,
             2,
             5,
             12,
             3,
             25,
             1,
             12,
             28,
             2,
             5,
             10,
             45,
             23,
             4,
             10,
             24,
             16,
             22112
            ],
            "coloraxis": "coloraxis",
            "size": [
             200,
             200,
             400,
             200,
             200,
             400,
             1200,
             400,
             200,
             200,
             400,
             1000,
             2400,
             600,
             5000,
             200,
             2400,
             5600,
             400,
             1000,
             2000,
             9000,
             4600,
             800,
             2000,
             4800,
             3200,
             22112
            ],
            "sizemode": "area",
            "sizeref": 1168.5
           },
           "name": "",
           "showlegend": false,
           "type": "scattergeo"
          }
         ],
         "name": "2020-02-06"
        },
        {
         "data": [
          {
           "geo": "geo",
           "hoverlabel": {
            "namelength": 0
           },
           "hovertemplate": "<b>%{hovertext}</b><br><br>Date=2020-02-02<br>Size=%{marker.size}<br>Country/Region=%{location}<br>Confirmed=%{marker.color}",
           "hovertext": [
            "Cambodia",
            "Sri Lanka",
            "Nepal",
            "Finland",
            "Malaysia",
            "Italy",
            "Thailand",
            "Taiwan",
            "Russia",
            "France",
            "UK",
            "Sweden",
            "Vietnam",
            "Canada",
            "Japan",
            "US",
            "Spain",
            "Singapore",
            "South Korea",
            "Philippines",
            "Macau",
            "United Arab Emirates",
            "India",
            "Germany",
            "Australia",
            "Mainland China",
            "Hong Kong"
           ],
           "legendgroup": "",
           "locationmode": "country names",
           "locations": [
            "Cambodia",
            "Sri Lanka",
            "Nepal",
            "Finland",
            "Malaysia",
            "Italy",
            "Thailand",
            "Taiwan",
            "Russia",
            "France",
            "UK",
            "Sweden",
            "Vietnam",
            "Canada",
            "Japan",
            "US",
            "Spain",
            "Singapore",
            "South Korea",
            "Philippines",
            "Macau",
            "United Arab Emirates",
            "India",
            "Germany",
            "Australia",
            "Mainland China",
            "Hong Kong"
           ],
           "marker": {
            "color": [
             1,
             1,
             1,
             1,
             8,
             2,
             19,
             10,
             2,
             6,
             2,
             1,
             6,
             4,
             20,
             5,
             1,
             18,
             15,
             2,
             8,
             5,
             2,
             10,
             8,
             11228,
             15
            ],
            "coloraxis": "coloraxis",
            "size": [
             200,
             200,
             200,
             200,
             1600,
             400,
             3800,
             2000,
             400,
             1200,
             400,
             200,
             1200,
             800,
             4000,
             1000,
             200,
             3600,
             3000,
             400,
             1600,
             1000,
             400,
             2000,
             1600,
             11228,
             3000
            ],
            "sizemode": "area",
            "sizeref": 1168.5
           },
           "name": "",
           "showlegend": false,
           "type": "scattergeo"
          }
         ],
         "name": "2020-02-02"
        },
        {
         "data": [
          {
           "geo": "geo",
           "hoverlabel": {
            "namelength": 0
           },
           "hovertemplate": "<b>%{hovertext}</b><br><br>Date=2020-02-08<br>Size=%{marker.size}<br>Country/Region=%{location}<br>Confirmed=%{marker.color}",
           "hovertext": [
            "Cambodia",
            "Finland",
            "Nepal",
            "Russia",
            "Sweden",
            "Spain",
            "India",
            "Belgium",
            "US",
            "Macau",
            "Australia",
            "South Korea",
            "Japan",
            "Canada",
            "Germany",
            "Others",
            "Philippines",
            "Italy",
            "UK",
            "Hong Kong",
            "Sri Lanka",
            "Taiwan",
            "United Arab Emirates",
            "Vietnam",
            "France",
            "Malaysia",
            "Thailand",
            "Singapore",
            "Mainland China"
           ],
           "legendgroup": "",
           "locationmode": "country names",
           "locations": [
            "Cambodia",
            "Finland",
            "Nepal",
            "Russia",
            "Sweden",
            "Spain",
            "India",
            "Belgium",
            "US",
            "Macau",
            "Australia",
            "South Korea",
            "Japan",
            "Canada",
            "Germany",
            "Others",
            "Philippines",
            "Italy",
            "UK",
            "Hong Kong",
            "Sri Lanka",
            "Taiwan",
            "United Arab Emirates",
            "Vietnam",
            "France",
            "Malaysia",
            "Thailand",
            "Singapore",
            "Mainland China"
           ],
           "marker": {
            "color": [
             1,
             1,
             1,
             2,
             1,
             1,
             3,
             1,
             5,
             10,
             5,
             24,
             25,
             4,
             13,
             61,
             3,
             3,
             3,
             26,
             1,
             17,
             7,
             13,
             11,
             16,
             32,
             33,
             27100
            ],
            "coloraxis": "coloraxis",
            "size": [
             200,
             200,
             200,
             400,
             200,
             200,
             600,
             200,
             1000,
             2000,
             1000,
             4800,
             5000,
             800,
             2600,
             12200,
             600,
             600,
             600,
             5200,
             200,
             3400,
             1400,
             2600,
             2200,
             3200,
             6400,
             6600,
             27100
            ],
            "sizemode": "area",
            "sizeref": 1168.5
           },
           "name": "",
           "showlegend": false,
           "type": "scattergeo"
          }
         ],
         "name": "2020-02-08"
        },
        {
         "data": [
          {
           "geo": "geo",
           "hoverlabel": {
            "namelength": 0
           },
           "hovertemplate": "<b>%{hovertext}</b><br><br>Date=2020-02-09<br>Size=%{marker.size}<br>Country/Region=%{location}<br>Confirmed=%{marker.color}",
           "hovertext": [
            "Cambodia",
            "Finland",
            "Nepal",
            "Russia",
            "Sweden",
            "India",
            "Belgium",
            "Macau",
            "Canada",
            "Philippines",
            "Italy",
            "UK",
            "Sri Lanka",
            "United Arab Emirates",
            "Vietnam",
            "France",
            "Malaysia",
            "Thailand",
            "South Korea",
            "Singapore",
            "Germany",
            "Japan",
            "Others",
            "Taiwan",
            "Hong Kong",
            "US",
            "Australia",
            "Spain",
            "Mainland China"
           ],
           "legendgroup": "",
           "locationmode": "country names",
           "locations": [
            "Cambodia",
            "Finland",
            "Nepal",
            "Russia",
            "Sweden",
            "India",
            "Belgium",
            "Macau",
            "Canada",
            "Philippines",
            "Italy",
            "UK",
            "Sri Lanka",
            "United Arab Emirates",
            "Vietnam",
            "France",
            "Malaysia",
            "Thailand",
            "South Korea",
            "Singapore",
            "Germany",
            "Japan",
            "Others",
            "Taiwan",
            "Hong Kong",
            "US",
            "Australia",
            "Spain",
            "Mainland China"
           ],
           "marker": {
            "color": [
             1,
             1,
             1,
             2,
             1,
             3,
             1,
             10,
             4,
             3,
             3,
             3,
             1,
             7,
             13,
             11,
             16,
             32,
             25,
             40,
             14,
             26,
             64,
             18,
             29,
             2,
             5,
             2,
             29714
            ],
            "coloraxis": "coloraxis",
            "size": [
             200,
             200,
             200,
             400,
             200,
             600,
             200,
             2000,
             800,
             600,
             600,
             600,
             200,
             1400,
             2600,
             2200,
             3200,
             6400,
             5000,
             8000,
             2800,
             5200,
             12800,
             3600,
             5800,
             400,
             1000,
             400,
             29714
            ],
            "sizemode": "area",
            "sizeref": 1168.5
           },
           "name": "",
           "showlegend": false,
           "type": "scattergeo"
          }
         ],
         "name": "2020-02-09"
        },
        {
         "data": [
          {
           "geo": "geo",
           "hoverlabel": {
            "namelength": 0
           },
           "hovertemplate": "<b>%{hovertext}</b><br><br>Date=2020-02-03<br>Size=%{marker.size}<br>Country/Region=%{location}<br>Confirmed=%{marker.color}",
           "hovertext": [
            "Sri Lanka",
            "Malaysia",
            "Nepal",
            "Cambodia",
            "Finland",
            "Italy",
            "Thailand",
            "Taiwan",
            "Russia",
            "France",
            "UK",
            "Sweden",
            "Canada",
            "Japan",
            "Spain",
            "Singapore",
            "South Korea",
            "Philippines",
            "Macau",
            "United Arab Emirates",
            "Australia",
            "Hong Kong",
            "US",
            "Germany",
            "Vietnam",
            "India",
            "Mainland China"
           ],
           "legendgroup": "",
           "locationmode": "country names",
           "locations": [
            "Sri Lanka",
            "Malaysia",
            "Nepal",
            "Cambodia",
            "Finland",
            "Italy",
            "Thailand",
            "Taiwan",
            "Russia",
            "France",
            "UK",
            "Sweden",
            "Canada",
            "Japan",
            "Spain",
            "Singapore",
            "South Korea",
            "Philippines",
            "Macau",
            "United Arab Emirates",
            "Australia",
            "Hong Kong",
            "US",
            "Germany",
            "Vietnam",
            "India",
            "Mainland China"
           ],
           "marker": {
            "color": [
             1,
             8,
             1,
             1,
             1,
             2,
             19,
             10,
             2,
             6,
             2,
             1,
             4,
             20,
             1,
             18,
             15,
             2,
             8,
             5,
             8,
             15,
             5,
             12,
             8,
             3,
             13639
            ],
            "coloraxis": "coloraxis",
            "size": [
             200,
             1600,
             200,
             200,
             200,
             400,
             3800,
             2000,
             400,
             1200,
             400,
             200,
             800,
             4000,
             200,
             3600,
             3000,
             400,
             1600,
             1000,
             1600,
             3000,
             1000,
             2400,
             1600,
             600,
             13639
            ],
            "sizemode": "area",
            "sizeref": 1168.5
           },
           "name": "",
           "showlegend": false,
           "type": "scattergeo"
          }
         ],
         "name": "2020-02-03"
        },
        {
         "data": [
          {
           "geo": "geo",
           "hoverlabel": {
            "namelength": 0
           },
           "hovertemplate": "<b>%{hovertext}</b><br><br>Date=2020-02-04<br>Size=%{marker.size}<br>Country/Region=%{location}<br>Confirmed=%{marker.color}",
           "hovertext": [
            "Sri Lanka",
            "Nepal",
            "Finland",
            "Italy",
            "Cambodia",
            "Russia",
            "France",
            "UK",
            "Sweden",
            "Spain",
            "Philippines",
            "United Arab Emirates",
            "US",
            "Germany",
            "Vietnam",
            "India",
            "Canada",
            "Macau",
            "Malaysia",
            "Hong Kong",
            "Taiwan",
            "Thailand",
            "Singapore",
            "South Korea",
            "Belgium",
            "Japan",
            "Australia",
            "Mainland China"
           ],
           "legendgroup": "",
           "locationmode": "country names",
           "locations": [
            "Sri Lanka",
            "Nepal",
            "Finland",
            "Italy",
            "Cambodia",
            "Russia",
            "France",
            "UK",
            "Sweden",
            "Spain",
            "Philippines",
            "United Arab Emirates",
            "US",
            "Germany",
            "Vietnam",
            "India",
            "Canada",
            "Macau",
            "Malaysia",
            "Hong Kong",
            "Taiwan",
            "Thailand",
            "Singapore",
            "South Korea",
            "Belgium",
            "Japan",
            "Australia",
            "Mainland China"
           ],
           "marker": {
            "color": [
             1,
             1,
             1,
             2,
             1,
             2,
             6,
             2,
             1,
             1,
             2,
             5,
             5,
             12,
             8,
             3,
             2,
             10,
             10,
             17,
             11,
             25,
             24,
             16,
             1,
             22,
             8,
             17044
            ],
            "coloraxis": "coloraxis",
            "size": [
             200,
             200,
             200,
             400,
             200,
             400,
             1200,
             400,
             200,
             200,
             400,
             1000,
             1000,
             2400,
             1600,
             600,
             400,
             2000,
             2000,
             3400,
             2200,
             5000,
             4800,
             3200,
             200,
             4400,
             1600,
             17044
            ],
            "sizemode": "area",
            "sizeref": 1168.5
           },
           "name": "",
           "showlegend": false,
           "type": "scattergeo"
          }
         ],
         "name": "2020-02-04"
        },
        {
         "data": [
          {
           "geo": "geo",
           "hoverlabel": {
            "namelength": 0
           },
           "hovertemplate": "<b>%{hovertext}</b><br><br>Date=2020-02-07<br>Size=%{marker.size}<br>Country/Region=%{location}<br>Confirmed=%{marker.color}",
           "hovertext": [
            "Sri Lanka",
            "Cambodia",
            "Finland",
            "Nepal",
            "Russia",
            "France",
            "Sweden",
            "Spain",
            "United Arab Emirates",
            "India",
            "Thailand",
            "Belgium",
            "US",
            "Vietnam",
            "Macau",
            "Taiwan",
            "Australia",
            "South Korea",
            "Singapore",
            "Japan",
            "Canada",
            "Malaysia",
            "Hong Kong",
            "Others",
            "Germany",
            "Philippines",
            "Italy",
            "UK",
            "Mainland China"
           ],
           "legendgroup": "",
           "locationmode": "country names",
           "locations": [
            "Sri Lanka",
            "Cambodia",
            "Finland",
            "Nepal",
            "Russia",
            "France",
            "Sweden",
            "Spain",
            "United Arab Emirates",
            "India",
            "Thailand",
            "Belgium",
            "US",
            "Vietnam",
            "Macau",
            "Taiwan",
            "Australia",
            "South Korea",
            "Singapore",
            "Japan",
            "Canada",
            "Malaysia",
            "Hong Kong",
            "Others",
            "Germany",
            "Philippines",
            "Italy",
            "UK",
            "Mainland China"
           ],
           "marker": {
            "color": [
             1,
             1,
             1,
             1,
             2,
             6,
             1,
             1,
             5,
             3,
             25,
             1,
             5,
             10,
             10,
             16,
             5,
             24,
             30,
             25,
             4,
             12,
             25,
             61,
             13,
             3,
             3,
             3,
             25057
            ],
            "coloraxis": "coloraxis",
            "size": [
             200,
             200,
             200,
             200,
             400,
             1200,
             200,
             200,
             1000,
             600,
             5000,
             200,
             1000,
             2000,
             2000,
             3200,
             1000,
             4800,
             6000,
             5000,
             800,
             2400,
             5000,
             12200,
             2600,
             600,
             600,
             600,
             25057
            ],
            "sizemode": "area",
            "sizeref": 1168.5
           },
           "name": "",
           "showlegend": false,
           "type": "scattergeo"
          }
         ],
         "name": "2020-02-07"
        },
        {
         "data": [
          {
           "geo": "geo",
           "hoverlabel": {
            "namelength": 0
           },
           "hovertemplate": "<b>%{hovertext}</b><br><br>Date=2020-02-12<br>Size=%{marker.size}<br>Country/Region=%{location}<br>Confirmed=%{marker.color}",
           "hovertext": [
            "Sweden",
            "India",
            "Belgium",
            "Italy",
            "Sri Lanka",
            "Taiwan",
            "Australia",
            "Spain",
            "US",
            "Malaysia",
            "Vietnam",
            "Thailand",
            "Germany",
            "Finland",
            "United Arab Emirates",
            "Japan",
            "Others",
            "Philippines",
            "Cambodia",
            "Hong Kong",
            "Macau",
            "Nepal",
            "South Korea",
            "Russia",
            "France",
            "Canada",
            "UK",
            "Singapore",
            "Mainland China"
           ],
           "legendgroup": "",
           "locationmode": "country names",
           "locations": [
            "Sweden",
            "India",
            "Belgium",
            "Italy",
            "Sri Lanka",
            "Taiwan",
            "Australia",
            "Spain",
            "US",
            "Malaysia",
            "Vietnam",
            "Thailand",
            "Germany",
            "Finland",
            "United Arab Emirates",
            "Japan",
            "Others",
            "Philippines",
            "Cambodia",
            "Hong Kong",
            "Macau",
            "Nepal",
            "South Korea",
            "Russia",
            "France",
            "Canada",
            "UK",
            "Singapore",
            "Mainland China"
           ],
           "marker": {
            "color": [
             1,
             3,
             1,
             3,
             1,
             18,
             5,
             2,
             2,
             18,
             15,
             33,
             16,
             1,
             8,
             28,
             175,
             3,
             1,
             50,
             10,
             1,
             28,
             2,
             11,
             4,
             9,
             50,
             35659
            ],
            "coloraxis": "coloraxis",
            "size": [
             200,
             600,
             200,
             600,
             200,
             3600,
             1000,
             400,
             400,
             3600,
             3000,
             6600,
             3200,
             200,
             1600,
             5600,
             35000,
             600,
             200,
             10000,
             2000,
             200,
             5600,
             400,
             2200,
             800,
             1800,
             10000,
             35659
            ],
            "sizemode": "area",
            "sizeref": 1168.5
           },
           "name": "",
           "showlegend": false,
           "type": "scattergeo"
          }
         ],
         "name": "2020-02-12"
        },
        {
         "data": [
          {
           "geo": "geo",
           "hoverlabel": {
            "namelength": 0
           },
           "hovertemplate": "<b>%{hovertext}</b><br><br>Date=2020-02-13<br>Size=%{marker.size}<br>Country/Region=%{location}<br>Confirmed=%{marker.color}",
           "hovertext": [
            "Sweden",
            "Belgium",
            "Italy",
            "Sri Lanka",
            "Taiwan",
            "Spain",
            "Finland",
            "United Arab Emirates",
            "Others",
            "Philippines",
            "Cambodia",
            "South Korea",
            "Russia",
            "Nepal",
            "France",
            "Canada",
            "UK",
            "Vietnam",
            "Malaysia",
            "Japan",
            "Macau",
            "Singapore",
            "Hong Kong",
            "Germany",
            "Australia",
            "Thailand",
            "US",
            "India",
            "Mainland China"
           ],
           "legendgroup": "",
           "locationmode": "country names",
           "locations": [
            "Sweden",
            "Belgium",
            "Italy",
            "Sri Lanka",
            "Taiwan",
            "Spain",
            "Finland",
            "United Arab Emirates",
            "Others",
            "Philippines",
            "Cambodia",
            "South Korea",
            "Russia",
            "Nepal",
            "France",
            "Canada",
            "UK",
            "Vietnam",
            "Malaysia",
            "Japan",
            "Macau",
            "Singapore",
            "Hong Kong",
            "Germany",
            "Australia",
            "Thailand",
            "US",
            "India",
            "Mainland China"
           ],
           "marker": {
            "color": [
             1,
             1,
             3,
             1,
             18,
             2,
             1,
             8,
             175,
             3,
             1,
             28,
             2,
             1,
             11,
             4,
             9,
             16,
             19,
             28,
             10,
             58,
             53,
             16,
             8,
             33,
             2,
             3,
             49717
            ],
            "coloraxis": "coloraxis",
            "size": [
             200,
             200,
             600,
             200,
             3600,
             400,
             200,
             1600,
             35000,
             600,
             200,
             5600,
             400,
             200,
             2200,
             800,
             1800,
             3200,
             3800,
             5600,
             2000,
             11600,
             10600,
             3200,
             1600,
             6600,
             400,
             600,
             49717
            ],
            "sizemode": "area",
            "sizeref": 1168.5
           },
           "name": "",
           "showlegend": false,
           "type": "scattergeo"
          }
         ],
         "name": "2020-02-13"
        },
        {
         "data": [
          {
           "geo": "geo",
           "hoverlabel": {
            "namelength": 0
           },
           "hovertemplate": "<b>%{hovertext}</b><br><br>Date=2020-02-16<br>Size=%{marker.size}<br>Country/Region=%{location}<br>Confirmed=%{marker.color}",
           "hovertext": [
            "Sweden",
            "Belgium",
            "Italy",
            "Sri Lanka",
            "Finland",
            "Philippines",
            "Cambodia",
            "Russia",
            "Nepal",
            "Canada",
            "Vietnam",
            "Germany",
            "Australia",
            "US",
            "Egypt",
            "Spain",
            "France",
            "Malaysia",
            "South Korea",
            "Others",
            "India",
            "Hong Kong",
            "Taiwan",
            "Macau",
            "Singapore",
            "UK",
            "Japan",
            "Thailand",
            "United Arab Emirates",
            "Mainland China"
           ],
           "legendgroup": "",
           "locationmode": "country names",
           "locations": [
            "Sweden",
            "Belgium",
            "Italy",
            "Sri Lanka",
            "Finland",
            "Philippines",
            "Cambodia",
            "Russia",
            "Nepal",
            "Canada",
            "Vietnam",
            "Germany",
            "Australia",
            "US",
            "Egypt",
            "Spain",
            "France",
            "Malaysia",
            "South Korea",
            "Others",
            "India",
            "Hong Kong",
            "Taiwan",
            "Macau",
            "Singapore",
            "UK",
            "Japan",
            "Thailand",
            "United Arab Emirates",
            "Mainland China"
           ],
           "marker": {
            "color": [
             1,
             1,
             3,
             1,
             1,
             3,
             1,
             2,
             1,
             4,
             16,
             16,
             8,
             2,
             1,
             2,
             12,
             22,
             29,
             355,
             3,
             57,
             20,
             10,
             75,
             9,
             59,
             34,
             9,
             58862
            ],
            "coloraxis": "coloraxis",
            "size": [
             200,
             200,
             600,
             200,
             200,
             600,
             200,
             400,
             200,
             800,
             3200,
             3200,
             1600,
             400,
             200,
             400,
             2400,
             4400,
             5800,
             71000,
             600,
             11400,
             4000,
             2000,
             15000,
             1800,
             11800,
             6800,
             1800,
             58862
            ],
            "sizemode": "area",
            "sizeref": 1168.5
           },
           "name": "",
           "showlegend": false,
           "type": "scattergeo"
          }
         ],
         "name": "2020-02-16"
        },
        {
         "data": [
          {
           "geo": "geo",
           "hoverlabel": {
            "namelength": 0
           },
           "hovertemplate": "<b>%{hovertext}</b><br><br>Date=2020-02-15<br>Size=%{marker.size}<br>Country/Region=%{location}<br>Confirmed=%{marker.color}",
           "hovertext": [
            "Sweden",
            "Belgium",
            "Italy",
            "Sri Lanka",
            "Finland",
            "Philippines",
            "Cambodia",
            "Nepal",
            "Russia",
            "Canada",
            "UK",
            "Vietnam",
            "Macau",
            "Germany",
            "Australia",
            "Thailand",
            "US",
            "India",
            "Hong Kong",
            "Egypt",
            "Taiwan",
            "United Arab Emirates",
            "Others",
            "Spain",
            "Japan",
            "France",
            "Mainland China",
            "South Korea",
            "Malaysia",
            "Singapore"
           ],
           "legendgroup": "",
           "locationmode": "country names",
           "locations": [
            "Sweden",
            "Belgium",
            "Italy",
            "Sri Lanka",
            "Finland",
            "Philippines",
            "Cambodia",
            "Nepal",
            "Russia",
            "Canada",
            "UK",
            "Vietnam",
            "Macau",
            "Germany",
            "Australia",
            "Thailand",
            "US",
            "India",
            "Hong Kong",
            "Egypt",
            "Taiwan",
            "United Arab Emirates",
            "Others",
            "Spain",
            "Japan",
            "France",
            "Mainland China",
            "South Korea",
            "Malaysia",
            "Singapore"
           ],
           "marker": {
            "color": [
             1,
             1,
             3,
             1,
             1,
             3,
             1,
             1,
             2,
             4,
             9,
             16,
             10,
             16,
             8,
             33,
             2,
             3,
             56,
             1,
             18,
             8,
             285,
             2,
             43,
             12,
             56377,
             28,
             22,
             72
            ],
            "coloraxis": "coloraxis",
            "size": [
             200,
             200,
             600,
             200,
             200,
             600,
             200,
             200,
             400,
             800,
             1800,
             3200,
             2000,
             3200,
             1600,
             6600,
             400,
             600,
             11200,
             200,
             3600,
             1600,
             57000,
             400,
             8600,
             2400,
             56377,
             5600,
             4400,
             14400
            ],
            "sizemode": "area",
            "sizeref": 1168.5
           },
           "name": "",
           "showlegend": false,
           "type": "scattergeo"
          }
         ],
         "name": "2020-02-15"
        },
        {
         "data": [
          {
           "geo": "geo",
           "hoverlabel": {
            "namelength": 0
           },
           "hovertemplate": "<b>%{hovertext}</b><br><br>Date=2020-02-25<br>Size=%{marker.size}<br>Country/Region=%{location}<br>Confirmed=%{marker.color}",
           "hovertext": [
            "Sweden",
            "Sri Lanka",
            "Finland",
            "Philippines",
            "Cambodia",
            "Russia",
            "Nepal",
            "India",
            "Belgium",
            "Egypt",
            "United Arab Emirates",
            "Australia",
            "Lebanon",
            "Israel",
            "Others",
            "UK",
            "Malaysia",
            "Afghanistan",
            "Iraq",
            "Oman",
            "Canada",
            "Taiwan",
            "South Korea",
            "Vietnam",
            "Thailand",
            "Hong Kong",
            "Iran",
            "Japan",
            "Macau",
            "Croatia",
            "Singapore",
            "Austria",
            "Italy",
            "Bahrain",
            "Switzerland",
            "France",
            "US",
            "Spain",
            "Germany",
            "Algeria",
            "Kuwait",
            "Mainland China"
           ],
           "legendgroup": "",
           "locationmode": "country names",
           "locations": [
            "Sweden",
            "Sri Lanka",
            "Finland",
            "Philippines",
            "Cambodia",
            "Russia",
            "Nepal",
            "India",
            "Belgium",
            "Egypt",
            "United Arab Emirates",
            "Australia",
            "Lebanon",
            "Israel",
            "Others",
            "UK",
            "Malaysia",
            "Afghanistan",
            "Iraq",
            "Oman",
            "Canada",
            "Taiwan",
            "South Korea",
            "Vietnam",
            "Thailand",
            "Hong Kong",
            "Iran",
            "Japan",
            "Macau",
            "Croatia",
            "Singapore",
            "Austria",
            "Italy",
            "Bahrain",
            "Switzerland",
            "France",
            "US",
            "Spain",
            "Germany",
            "Algeria",
            "Kuwait",
            "Mainland China"
           ],
           "marker": {
            "color": [
             1,
             1,
             1,
             3,
             1,
             2,
             1,
             3,
             1,
             1,
             13,
             8,
             1,
             1,
             691,
             13,
             22,
             1,
             1,
             2,
             7,
             31,
             977,
             16,
             37,
             84,
             95,
             170,
             10,
             1,
             91,
             2,
             322,
             23,
             1,
             14,
             37,
             6,
             17,
             1,
             11,
             65739
            ],
            "coloraxis": "coloraxis",
            "size": [
             200,
             200,
             200,
             600,
             200,
             400,
             200,
             600,
             200,
             200,
             2600,
             1600,
             200,
             200,
             138200,
             2600,
             4400,
             200,
             200,
             400,
             1400,
             6200,
             195400,
             3200,
             7400,
             16800,
             19000,
             34000,
             2000,
             200,
             18200,
             400,
             64400,
             4600,
             200,
             2800,
             7400,
             1200,
             3400,
             200,
             2200,
             65739
            ],
            "sizemode": "area",
            "sizeref": 1168.5
           },
           "name": "",
           "showlegend": false,
           "type": "scattergeo"
          }
         ],
         "name": "2020-02-25"
        },
        {
         "data": [
          {
           "geo": "geo",
           "hoverlabel": {
            "namelength": 0
           },
           "hovertemplate": "<b>%{hovertext}</b><br><br>Date=2020-02-24<br>Size=%{marker.size}<br>Country/Region=%{location}<br>Confirmed=%{marker.color}",
           "hovertext": [
            "Sweden",
            "Sri Lanka",
            "Finland",
            "Philippines",
            "Cambodia",
            "Russia",
            "Nepal",
            "Spain",
            "France",
            "India",
            "Belgium",
            "Macau",
            "Vietnam",
            "Egypt",
            "Germany",
            "United Arab Emirates",
            "Australia",
            "Israel",
            "Lebanon",
            "Thailand",
            "Singapore",
            "Others",
            "UK",
            "Taiwan",
            "South Korea",
            "Iran",
            "Hong Kong",
            "Malaysia",
            "Japan",
            "Canada",
            "Mainland China",
            "Afghanistan",
            "Kuwait",
            "US",
            "Bahrain",
            "Iraq",
            "Italy",
            "Oman"
           ],
           "legendgroup": "",
           "locationmode": "country names",
           "locations": [
            "Sweden",
            "Sri Lanka",
            "Finland",
            "Philippines",
            "Cambodia",
            "Russia",
            "Nepal",
            "Spain",
            "France",
            "India",
            "Belgium",
            "Macau",
            "Vietnam",
            "Egypt",
            "Germany",
            "United Arab Emirates",
            "Australia",
            "Israel",
            "Lebanon",
            "Thailand",
            "Singapore",
            "Others",
            "UK",
            "Taiwan",
            "South Korea",
            "Iran",
            "Hong Kong",
            "Malaysia",
            "Japan",
            "Canada",
            "Mainland China",
            "Afghanistan",
            "Kuwait",
            "US",
            "Bahrain",
            "Iraq",
            "Italy",
            "Oman"
           ],
           "marker": {
            "color": [
             1,
             1,
             1,
             3,
             1,
             2,
             1,
             2,
             12,
             3,
             1,
             10,
             16,
             1,
             16,
             13,
             8,
             1,
             1,
             35,
             89,
             691,
             13,
             30,
             833,
             61,
             79,
             22,
             159,
             6,
             64287,
             1,
             1,
             36,
             1,
             1,
             229,
             2
            ],
            "coloraxis": "coloraxis",
            "size": [
             200,
             200,
             200,
             600,
             200,
             400,
             200,
             400,
             2400,
             600,
             200,
             2000,
             3200,
             200,
             3200,
             2600,
             1600,
             200,
             200,
             7000,
             17800,
             138200,
             2600,
             6000,
             166600,
             12200,
             15800,
             4400,
             31800,
             1200,
             64287,
             200,
             200,
             7200,
             200,
             200,
             45800,
             400
            ],
            "sizemode": "area",
            "sizeref": 1168.5
           },
           "name": "",
           "showlegend": false,
           "type": "scattergeo"
          }
         ],
         "name": "2020-02-24"
        },
        {
         "data": [
          {
           "geo": "geo",
           "hoverlabel": {
            "namelength": 0
           },
           "hovertemplate": "<b>%{hovertext}</b><br><br>Date=2020-02-23<br>Size=%{marker.size}<br>Country/Region=%{location}<br>Confirmed=%{marker.color}",
           "hovertext": [
            "Sweden",
            "Sri Lanka",
            "Finland",
            "Philippines",
            "Cambodia",
            "Russia",
            "Nepal",
            "Spain",
            "France",
            "India",
            "UK",
            "Belgium",
            "Malaysia",
            "Macau",
            "Canada",
            "Vietnam",
            "Egypt",
            "Germany",
            "United Arab Emirates",
            "Australia",
            "Israel",
            "Lebanon",
            "US",
            "Hong Kong",
            "Taiwan",
            "Thailand",
            "Singapore",
            "Iran",
            "Iraq",
            "Others",
            "Mainland China",
            "Japan",
            "South Korea",
            "Italy"
           ],
           "legendgroup": "",
           "locationmode": "country names",
           "locations": [
            "Sweden",
            "Sri Lanka",
            "Finland",
            "Philippines",
            "Cambodia",
            "Russia",
            "Nepal",
            "Spain",
            "France",
            "India",
            "UK",
            "Belgium",
            "Malaysia",
            "Macau",
            "Canada",
            "Vietnam",
            "Egypt",
            "Germany",
            "United Arab Emirates",
            "Australia",
            "Israel",
            "Lebanon",
            "US",
            "Hong Kong",
            "Taiwan",
            "Thailand",
            "Singapore",
            "Iran",
            "Iraq",
            "Others",
            "Mainland China",
            "Japan",
            "South Korea",
            "Italy"
           ],
           "marker": {
            "color": [
             1,
             1,
             1,
             3,
             1,
             2,
             1,
             2,
             12,
             3,
             9,
             1,
             22,
             10,
             8,
             16,
             1,
             16,
             13,
             8,
             1,
             1,
             11,
             74,
             28,
             35,
             89,
             43,
             0,
             691,
             65149,
             147,
             602,
             155
            ],
            "coloraxis": "coloraxis",
            "size": [
             200,
             200,
             200,
             600,
             200,
             400,
             200,
             400,
             2400,
             600,
             1800,
             200,
             4400,
             2000,
             1600,
             3200,
             200,
             3200,
             2600,
             1600,
             200,
             200,
             2200,
             14800,
             5600,
             7000,
             17800,
             8600,
             0,
             138200,
             65149,
             29400,
             120400,
             31000
            ],
            "sizemode": "area",
            "sizeref": 1168.5
           },
           "name": "",
           "showlegend": false,
           "type": "scattergeo"
          }
         ],
         "name": "2020-02-23"
        },
        {
         "data": [
          {
           "geo": "geo",
           "hoverlabel": {
            "namelength": 0
           },
           "hovertemplate": "<b>%{hovertext}</b><br><br>Date=2020-02-22<br>Size=%{marker.size}<br>Country/Region=%{location}<br>Confirmed=%{marker.color}",
           "hovertext": [
            "Sweden",
            "Sri Lanka",
            "Finland",
            "Philippines",
            "Cambodia",
            "Russia",
            "Nepal",
            "Spain",
            "France",
            "India",
            "UK",
            "Belgium",
            "Malaysia",
            "Macau",
            "Others",
            "Singapore",
            "Canada",
            "Vietnam",
            "Taiwan",
            "Thailand",
            "Egypt",
            "Germany",
            "South Korea",
            "Iran",
            "Hong Kong",
            "United Arab Emirates",
            "Japan",
            "Australia",
            "Lebanon",
            "Israel",
            "US",
            "Italy",
            "Mainland China"
           ],
           "legendgroup": "",
           "locationmode": "country names",
           "locations": [
            "Sweden",
            "Sri Lanka",
            "Finland",
            "Philippines",
            "Cambodia",
            "Russia",
            "Nepal",
            "Spain",
            "France",
            "India",
            "UK",
            "Belgium",
            "Malaysia",
            "Macau",
            "Others",
            "Singapore",
            "Canada",
            "Vietnam",
            "Taiwan",
            "Thailand",
            "Egypt",
            "Germany",
            "South Korea",
            "Iran",
            "Hong Kong",
            "United Arab Emirates",
            "Japan",
            "Australia",
            "Lebanon",
            "Israel",
            "US",
            "Italy",
            "Mainland China"
           ],
           "marker": {
            "color": [
             1,
             1,
             1,
             3,
             1,
             2,
             1,
             2,
             12,
             3,
             9,
             1,
             22,
             10,
             634,
             85,
             8,
             16,
             26,
             35,
             1,
             16,
             433,
             28,
             69,
             13,
             122,
             8,
             1,
             1,
             11,
             62,
             64084
            ],
            "coloraxis": "coloraxis",
            "size": [
             200,
             200,
             200,
             600,
             200,
             400,
             200,
             400,
             2400,
             600,
             1800,
             200,
             4400,
             2000,
             126800,
             17000,
             1600,
             3200,
             5200,
             7000,
             200,
             3200,
             86600,
             5600,
             13800,
             2600,
             24400,
             1600,
             200,
             200,
             2200,
             12400,
             64084
            ],
            "sizemode": "area",
            "sizeref": 1168.5
           },
           "name": "",
           "showlegend": false,
           "type": "scattergeo"
          }
         ],
         "name": "2020-02-22"
        },
        {
         "data": [
          {
           "geo": "geo",
           "hoverlabel": {
            "namelength": 0
           },
           "hovertemplate": "<b>%{hovertext}</b><br><br>Date=2020-02-17<br>Size=%{marker.size}<br>Country/Region=%{location}<br>Confirmed=%{marker.color}",
           "hovertext": [
            "Sweden",
            "Italy",
            "Sri Lanka",
            "Finland",
            "Philippines",
            "Cambodia",
            "Russia",
            "Nepal",
            "Vietnam",
            "Germany",
            "US",
            "Egypt",
            "Spain",
            "France",
            "Malaysia",
            "India",
            "Macau",
            "UK",
            "United Arab Emirates",
            "Belgium",
            "Thailand",
            "Canada",
            "Australia",
            "Japan",
            "Singapore",
            "Others",
            "Taiwan",
            "Hong Kong",
            "South Korea",
            "Mainland China"
           ],
           "legendgroup": "",
           "locationmode": "country names",
           "locations": [
            "Sweden",
            "Italy",
            "Sri Lanka",
            "Finland",
            "Philippines",
            "Cambodia",
            "Russia",
            "Nepal",
            "Vietnam",
            "Germany",
            "US",
            "Egypt",
            "Spain",
            "France",
            "Malaysia",
            "India",
            "Macau",
            "UK",
            "United Arab Emirates",
            "Belgium",
            "Thailand",
            "Canada",
            "Australia",
            "Japan",
            "Singapore",
            "Others",
            "Taiwan",
            "Hong Kong",
            "South Korea",
            "Mainland China"
           ],
           "marker": {
            "color": [
             1,
             3,
             1,
             1,
             3,
             1,
             2,
             1,
             16,
             16,
             2,
             1,
             2,
             12,
             22,
             3,
             10,
             9,
             9,
             1,
             35,
             5,
             8,
             66,
             77,
             454,
             22,
             60,
             30,
             60542
            ],
            "coloraxis": "coloraxis",
            "size": [
             200,
             600,
             200,
             200,
             600,
             200,
             400,
             200,
             3200,
             3200,
             400,
             200,
             400,
             2400,
             4400,
             600,
             2000,
             1800,
             1800,
             200,
             7000,
             1000,
             1600,
             13200,
             15400,
             90800,
             4400,
             12000,
             6000,
             60542
            ],
            "sizemode": "area",
            "sizeref": 1168.5
           },
           "name": "",
           "showlegend": false,
           "type": "scattergeo"
          }
         ],
         "name": "2020-02-17"
        },
        {
         "data": [
          {
           "geo": "geo",
           "hoverlabel": {
            "namelength": 0
           },
           "hovertemplate": "<b>%{hovertext}</b><br><br>Date=2020-02-21<br>Size=%{marker.size}<br>Country/Region=%{location}<br>Confirmed=%{marker.color}",
           "hovertext": [
            "Sweden",
            "Sri Lanka",
            "Finland",
            "Philippines",
            "Cambodia",
            "Russia",
            "Nepal",
            "Spain",
            "France",
            "India",
            "UK",
            "United Arab Emirates",
            "Belgium",
            "Malaysia",
            "Macau",
            "Others",
            "Hong Kong",
            "Singapore",
            "Canada",
            "Vietnam",
            "Taiwan",
            "South Korea",
            "Israel",
            "Lebanon",
            "Thailand",
            "Iran",
            "Egypt",
            "Japan",
            "Australia",
            "Germany",
            "US",
            "Mainland China",
            "Italy"
           ],
           "legendgroup": "",
           "locationmode": "country names",
           "locations": [
            "Sweden",
            "Sri Lanka",
            "Finland",
            "Philippines",
            "Cambodia",
            "Russia",
            "Nepal",
            "Spain",
            "France",
            "India",
            "UK",
            "United Arab Emirates",
            "Belgium",
            "Malaysia",
            "Macau",
            "Others",
            "Hong Kong",
            "Singapore",
            "Canada",
            "Vietnam",
            "Taiwan",
            "South Korea",
            "Israel",
            "Lebanon",
            "Thailand",
            "Iran",
            "Egypt",
            "Japan",
            "Australia",
            "Germany",
            "US",
            "Mainland China",
            "Italy"
           ],
           "marker": {
            "color": [
             1,
             1,
             1,
             3,
             1,
             2,
             1,
             2,
             12,
             3,
             9,
             9,
             1,
             22,
             10,
             634,
             68,
             85,
             8,
             16,
             26,
             204,
             1,
             1,
             35,
             18,
             1,
             105,
             8,
             16,
             18,
             62662,
             20
            ],
            "coloraxis": "coloraxis",
            "size": [
             200,
             200,
             200,
             600,
             200,
             400,
             200,
             400,
             2400,
             600,
             1800,
             1800,
             200,
             4400,
             2000,
             126800,
             13600,
             17000,
             1600,
             3200,
             5200,
             40800,
             200,
             200,
             7000,
             3600,
             200,
             21000,
             1600,
             3200,
             3600,
             62662,
             4000
            ],
            "sizemode": "area",
            "sizeref": 1168.5
           },
           "name": "",
           "showlegend": false,
           "type": "scattergeo"
          }
         ],
         "name": "2020-02-21"
        },
        {
         "data": [
          {
           "geo": "geo",
           "hoverlabel": {
            "namelength": 0
           },
           "hovertemplate": "<b>%{hovertext}</b><br><br>Date=2020-02-18<br>Size=%{marker.size}<br>Country/Region=%{location}<br>Confirmed=%{marker.color}",
           "hovertext": [
            "Sweden",
            "Italy",
            "Sri Lanka",
            "Finland",
            "Philippines",
            "Cambodia",
            "Russia",
            "Nepal",
            "Vietnam",
            "US",
            "Egypt",
            "Spain",
            "France",
            "India",
            "Macau",
            "UK",
            "United Arab Emirates",
            "Belgium",
            "Thailand",
            "Canada",
            "Australia",
            "Taiwan",
            "South Korea",
            "Malaysia",
            "Singapore",
            "Others",
            "Germany",
            "Japan",
            "Hong Kong",
            "Mainland China"
           ],
           "legendgroup": "",
           "locationmode": "country names",
           "locations": [
            "Sweden",
            "Italy",
            "Sri Lanka",
            "Finland",
            "Philippines",
            "Cambodia",
            "Russia",
            "Nepal",
            "Vietnam",
            "US",
            "Egypt",
            "Spain",
            "France",
            "India",
            "Macau",
            "UK",
            "United Arab Emirates",
            "Belgium",
            "Thailand",
            "Canada",
            "Australia",
            "Taiwan",
            "South Korea",
            "Malaysia",
            "Singapore",
            "Others",
            "Germany",
            "Japan",
            "Hong Kong",
            "Mainland China"
           ],
           "marker": {
            "color": [
             1,
             3,
             1,
             1,
             3,
             1,
             2,
             1,
             16,
             2,
             1,
             2,
             12,
             3,
             10,
             9,
             9,
             1,
             35,
             5,
             8,
             22,
             31,
             22,
             81,
             542,
             16,
             74,
             62,
             61682
            ],
            "coloraxis": "coloraxis",
            "size": [
             200,
             600,
             200,
             200,
             600,
             200,
             400,
             200,
             3200,
             400,
             200,
             400,
             2400,
             600,
             2000,
             1800,
             1800,
             200,
             7000,
             1000,
             1600,
             4400,
             6200,
             4400,
             16200,
             108400,
             3200,
             14800,
             12400,
             61682
            ],
            "sizemode": "area",
            "sizeref": 1168.5
           },
           "name": "",
           "showlegend": false,
           "type": "scattergeo"
          }
         ],
         "name": "2020-02-18"
        },
        {
         "data": [
          {
           "geo": "geo",
           "hoverlabel": {
            "namelength": 0
           },
           "hovertemplate": "<b>%{hovertext}</b><br><br>Date=2020-02-20<br>Size=%{marker.size}<br>Country/Region=%{location}<br>Confirmed=%{marker.color}",
           "hovertext": [
            "Sweden",
            "Italy",
            "Sri Lanka",
            "Finland",
            "Philippines",
            "Cambodia",
            "Russia",
            "Nepal",
            "Vietnam",
            "US",
            "Egypt",
            "Spain",
            "France",
            "India",
            "UK",
            "United Arab Emirates",
            "Belgium",
            "Thailand",
            "Canada",
            "Australia",
            "Germany",
            "Malaysia",
            "Singapore",
            "Macau",
            "Taiwan",
            "South Korea",
            "Japan",
            "Others",
            "Iran",
            "Hong Kong",
            "Mainland China"
           ],
           "legendgroup": "",
           "locationmode": "country names",
           "locations": [
            "Sweden",
            "Italy",
            "Sri Lanka",
            "Finland",
            "Philippines",
            "Cambodia",
            "Russia",
            "Nepal",
            "Vietnam",
            "US",
            "Egypt",
            "Spain",
            "France",
            "India",
            "UK",
            "United Arab Emirates",
            "Belgium",
            "Thailand",
            "Canada",
            "Australia",
            "Germany",
            "Malaysia",
            "Singapore",
            "Macau",
            "Taiwan",
            "South Korea",
            "Japan",
            "Others",
            "Iran",
            "Hong Kong",
            "Mainland China"
           ],
           "marker": {
            "color": [
             1,
             3,
             1,
             1,
             3,
             1,
             2,
             1,
             16,
             2,
             1,
             2,
             12,
             3,
             9,
             9,
             1,
             35,
             5,
             8,
             16,
             22,
             84,
             10,
             24,
             104,
             94,
             634,
             5,
             68,
             62442
            ],
            "coloraxis": "coloraxis",
            "size": [
             200,
             600,
             200,
             200,
             600,
             200,
             400,
             200,
             3200,
             400,
             200,
             400,
             2400,
             600,
             1800,
             1800,
             200,
             7000,
             1000,
             1600,
             3200,
             4400,
             16800,
             2000,
             4800,
             20800,
             18800,
             126800,
             1000,
             13600,
             62442
            ],
            "sizemode": "area",
            "sizeref": 1168.5
           },
           "name": "",
           "showlegend": false,
           "type": "scattergeo"
          }
         ],
         "name": "2020-02-20"
        },
        {
         "data": [
          {
           "geo": "geo",
           "hoverlabel": {
            "namelength": 0
           },
           "hovertemplate": "<b>%{hovertext}</b><br><br>Date=2020-02-19<br>Size=%{marker.size}<br>Country/Region=%{location}<br>Confirmed=%{marker.color}",
           "hovertext": [
            "Sweden",
            "Italy",
            "Sri Lanka",
            "Finland",
            "Philippines",
            "Cambodia",
            "Nepal",
            "Russia",
            "Vietnam",
            "US",
            "Egypt",
            "Spain",
            "France",
            "India",
            "Macau",
            "UK",
            "United Arab Emirates",
            "Belgium",
            "Thailand",
            "Canada",
            "Australia",
            "South Korea",
            "Germany",
            "Taiwan",
            "Malaysia",
            "Hong Kong",
            "Japan",
            "Others",
            "Singapore",
            "Iran",
            "Mainland China"
           ],
           "legendgroup": "",
           "locationmode": "country names",
           "locations": [
            "Sweden",
            "Italy",
            "Sri Lanka",
            "Finland",
            "Philippines",
            "Cambodia",
            "Nepal",
            "Russia",
            "Vietnam",
            "US",
            "Egypt",
            "Spain",
            "France",
            "India",
            "Macau",
            "UK",
            "United Arab Emirates",
            "Belgium",
            "Thailand",
            "Canada",
            "Australia",
            "South Korea",
            "Germany",
            "Taiwan",
            "Malaysia",
            "Hong Kong",
            "Japan",
            "Others",
            "Singapore",
            "Iran",
            "Mainland China"
           ],
           "marker": {
            "color": [
             1,
             3,
             1,
             1,
             3,
             1,
             1,
             2,
             16,
             2,
             1,
             2,
             12,
             3,
             10,
             9,
             9,
             1,
             35,
             5,
             8,
             31,
             16,
             23,
             22,
             63,
             84,
             621,
             84,
             2,
             62591
            ],
            "coloraxis": "coloraxis",
            "size": [
             200,
             600,
             200,
             200,
             600,
             200,
             200,
             400,
             3200,
             400,
             200,
             400,
             2400,
             600,
             2000,
             1800,
             1800,
             200,
             7000,
             1000,
             1600,
             6200,
             3200,
             4600,
             4400,
             12600,
             16800,
             124200,
             16800,
             400,
             62591
            ],
            "sizemode": "area",
            "sizeref": 1168.5
           },
           "name": "",
           "showlegend": false,
           "type": "scattergeo"
          }
         ],
         "name": "2020-02-19"
        },
        {
         "data": [
          {
           "geo": "geo",
           "hoverlabel": {
            "namelength": 0
           },
           "hovertemplate": "<b>%{hovertext}</b><br><br>Date=2020-02-14<br>Size=%{marker.size}<br>Country/Region=%{location}<br>Confirmed=%{marker.color}",
           "hovertext": [
            "Sweden",
            "Belgium",
            "Italy",
            "Sri Lanka",
            "Spain",
            "Finland",
            "United Arab Emirates",
            "Philippines",
            "Cambodia",
            "Nepal",
            "Russia",
            "South Korea",
            "France",
            "Canada",
            "UK",
            "Vietnam",
            "Malaysia",
            "Macau",
            "Germany",
            "Thailand",
            "Australia",
            "US",
            "India",
            "Others",
            "Taiwan",
            "Japan",
            "Hong Kong",
            "Singapore",
            "Mainland China",
            "Egypt"
           ],
           "legendgroup": "",
           "locationmode": "country names",
           "locations": [
            "Sweden",
            "Belgium",
            "Italy",
            "Sri Lanka",
            "Spain",
            "Finland",
            "United Arab Emirates",
            "Philippines",
            "Cambodia",
            "Nepal",
            "Russia",
            "South Korea",
            "France",
            "Canada",
            "UK",
            "Vietnam",
            "Malaysia",
            "Macau",
            "Germany",
            "Thailand",
            "Australia",
            "US",
            "India",
            "Others",
            "Taiwan",
            "Japan",
            "Hong Kong",
            "Singapore",
            "Mainland China",
            "Egypt"
           ],
           "marker": {
            "color": [
             1,
             1,
             3,
             1,
             2,
             1,
             8,
             3,
             1,
             1,
             2,
             28,
             11,
             4,
             9,
             16,
             19,
             10,
             16,
             33,
             8,
             2,
             3,
             218,
             18,
             29,
             56,
             67,
             54943,
             1
            ],
            "coloraxis": "coloraxis",
            "size": [
             200,
             200,
             600,
             200,
             400,
             200,
             1600,
             600,
             200,
             200,
             400,
             5600,
             2200,
             800,
             1800,
             3200,
             3800,
             2000,
             3200,
             6600,
             1600,
             400,
             600,
             43600,
             3600,
             5800,
             11200,
             13400,
             54943,
             200
            ],
            "sizemode": "area",
            "sizeref": 1168.5
           },
           "name": "",
           "showlegend": false,
           "type": "scattergeo"
          }
         ],
         "name": "2020-02-14"
        },
        {
         "data": [
          {
           "geo": "geo",
           "hoverlabel": {
            "namelength": 0
           },
           "hovertemplate": "<b>%{hovertext}</b><br><br>Date=2020-02-28<br>Size=%{marker.size}<br>Country/Region=%{location}<br>Confirmed=%{marker.color}",
           "hovertext": [
            "Sri Lanka",
            "Cambodia",
            "Philippines",
            "Russia",
            "Nepal",
            "India",
            "Belgium",
            "Afghanistan",
            "Vietnam",
            "Algeria",
            "Oman",
            "Finland",
            "Lebanon",
            "Singapore",
            "Pakistan",
            "Brazil",
            "Australia",
            "Macau",
            "Austria",
            "Malaysia",
            "Estonia",
            "Denmark",
            "North Macedonia",
            "Georgia",
            "Sweden",
            "San Marino",
            "Iraq",
            "Switzerland",
            "Germany",
            "Netherlands",
            "United Arab Emirates",
            "Egypt",
            "Canada",
            "North Ireland",
            "Taiwan",
            "Thailand",
            "South Korea",
            "Hong Kong",
            "Japan",
            "Mexico",
            " Azerbaijan",
            "Bahrain",
            "Spain",
            "Iceland",
            "Romania",
            "Greece",
            "Croatia",
            "Iran",
            "Israel",
            "Lithuania",
            "Kuwait",
            "Belarus",
            "Nigeria",
            "New Zealand",
            "UK",
            "Italy",
            "France",
            "Others",
            "Norway",
            "US",
            "Mainland China"
           ],
           "legendgroup": "",
           "locationmode": "country names",
           "locations": [
            "Sri Lanka",
            "Cambodia",
            "Philippines",
            "Russia",
            "Nepal",
            "India",
            "Belgium",
            "Afghanistan",
            "Vietnam",
            "Algeria",
            "Oman",
            "Finland",
            "Lebanon",
            "Singapore",
            "Pakistan",
            "Brazil",
            "Australia",
            "Macau",
            "Austria",
            "Malaysia",
            "Estonia",
            "Denmark",
            "North Macedonia",
            "Georgia",
            "Sweden",
            "San Marino",
            "Iraq",
            "Switzerland",
            "Germany",
            "Netherlands",
            "United Arab Emirates",
            "Egypt",
            "Canada",
            "North Ireland",
            "Taiwan",
            "Thailand",
            "South Korea",
            "Hong Kong",
            "Japan",
            "Mexico",
            " Azerbaijan",
            "Bahrain",
            "Spain",
            "Iceland",
            "Romania",
            "Greece",
            "Croatia",
            "Iran",
            "Israel",
            "Lithuania",
            "Kuwait",
            "Belarus",
            "Nigeria",
            "New Zealand",
            "UK",
            "Italy",
            "France",
            "Others",
            "Norway",
            "US",
            "Mainland China"
           ],
           "marker": {
            "color": [
             1,
             1,
             3,
             2,
             1,
             3,
             1,
             1,
             16,
             1,
             4,
             2,
             2,
             93,
             2,
             1,
             8,
             10,
             3,
             23,
             1,
             1,
             1,
             1,
             7,
             1,
             7,
             8,
             48,
             1,
             19,
             1,
             7,
             1,
             34,
             41,
             2337,
             94,
             228,
             1,
             1,
             36,
             32,
             1,
             3,
             4,
             5,
             388,
             4,
             1,
             45,
             1,
             1,
             1,
             20,
             888,
             57,
             705,
             6,
             44,
             65914
            ],
            "coloraxis": "coloraxis",
            "size": [
             200,
             200,
             600,
             400,
             200,
             600,
             200,
             200,
             3200,
             200,
             800,
             400,
             400,
             18600,
             400,
             200,
             1600,
             2000,
             600,
             4600,
             200,
             200,
             200,
             200,
             1400,
             200,
             1400,
             1600,
             9600,
             200,
             3800,
             200,
             1400,
             200,
             6800,
             8200,
             467400,
             18800,
             45600,
             200,
             200,
             7200,
             6400,
             200,
             600,
             800,
             1000,
             77600,
             800,
             200,
             9000,
             200,
             200,
             200,
             4000,
             177600,
             11400,
             141000,
             1200,
             8800,
             65914
            ],
            "sizemode": "area",
            "sizeref": 1168.5
           },
           "name": "",
           "showlegend": false,
           "type": "scattergeo"
          }
         ],
         "name": "2020-02-28"
        },
        {
         "data": [
          {
           "geo": "geo",
           "hoverlabel": {
            "namelength": 0
           },
           "hovertemplate": "<b>%{hovertext}</b><br><br>Date=2020-02-27<br>Size=%{marker.size}<br>Country/Region=%{location}<br>Confirmed=%{marker.color}",
           "hovertext": [
            "Sri Lanka",
            "Philippines",
            "Cambodia",
            "Russia",
            "Nepal",
            "India",
            "Belgium",
            "Egypt",
            "United Arab Emirates",
            "Afghanistan",
            "Vietnam",
            "Algeria",
            "Oman",
            "Thailand",
            "Taiwan",
            "Finland",
            "Others",
            "Lebanon",
            "Singapore",
            "Croatia",
            "Bahrain",
            "Pakistan",
            "Brazil",
            "Australia",
            "Hong Kong",
            "Iran",
            "South Korea",
            "Macau",
            "UK",
            "Spain",
            "Kuwait",
            "Greece",
            "Austria",
            "Israel",
            "Malaysia",
            "Romania",
            "Georgia",
            "Estonia",
            "Norway",
            "Denmark",
            "North Macedonia",
            "US",
            "Sweden",
            "San Marino",
            "Netherlands",
            "France",
            "Iraq",
            "Canada",
            "Switzerland",
            "Germany",
            "Italy",
            "Japan",
            "Mainland China"
           ],
           "legendgroup": "",
           "locationmode": "country names",
           "locations": [
            "Sri Lanka",
            "Philippines",
            "Cambodia",
            "Russia",
            "Nepal",
            "India",
            "Belgium",
            "Egypt",
            "United Arab Emirates",
            "Afghanistan",
            "Vietnam",
            "Algeria",
            "Oman",
            "Thailand",
            "Taiwan",
            "Finland",
            "Others",
            "Lebanon",
            "Singapore",
            "Croatia",
            "Bahrain",
            "Pakistan",
            "Brazil",
            "Australia",
            "Hong Kong",
            "Iran",
            "South Korea",
            "Macau",
            "UK",
            "Spain",
            "Kuwait",
            "Greece",
            "Austria",
            "Israel",
            "Malaysia",
            "Romania",
            "Georgia",
            "Estonia",
            "Norway",
            "Denmark",
            "North Macedonia",
            "US",
            "Sweden",
            "San Marino",
            "Netherlands",
            "France",
            "Iraq",
            "Canada",
            "Switzerland",
            "Germany",
            "Italy",
            "Japan",
            "Mainland China"
           ],
           "marker": {
            "color": [
             1,
             3,
             1,
             2,
             1,
             3,
             1,
             1,
             13,
             1,
             16,
             1,
             4,
             40,
             32,
             2,
             705,
             2,
             93,
             3,
             33,
             2,
             1,
             8,
             92,
             245,
             1766,
             10,
             15,
             15,
             43,
             3,
             3,
             3,
             23,
             1,
             1,
             1,
             1,
             1,
             1,
             42,
             7,
             1,
             1,
             38,
             7,
             7,
             8,
             46,
             655,
             214,
             65596
            ],
            "coloraxis": "coloraxis",
            "size": [
             200,
             600,
             200,
             400,
             200,
             600,
             200,
             200,
             2600,
             200,
             3200,
             200,
             800,
             8000,
             6400,
             400,
             141000,
             400,
             18600,
             600,
             6600,
             400,
             200,
             1600,
             18400,
             49000,
             353200,
             2000,
             3000,
             3000,
             8600,
             600,
             600,
             600,
             4600,
             200,
             200,
             200,
             200,
             200,
             200,
             8400,
             1400,
             200,
             200,
             7600,
             1400,
             1400,
             1600,
             9200,
             131000,
             42800,
             65596
            ],
            "sizemode": "area",
            "sizeref": 1168.5
           },
           "name": "",
           "showlegend": false,
           "type": "scattergeo"
          }
         ],
         "name": "2020-02-27"
        },
        {
         "data": [
          {
           "geo": "geo",
           "hoverlabel": {
            "namelength": 0
           },
           "hovertemplate": "<b>%{hovertext}</b><br><br>Date=2020-02-26<br>Size=%{marker.size}<br>Country/Region=%{location}<br>Confirmed=%{marker.color}",
           "hovertext": [
            "Sri Lanka",
            "Philippines",
            "Cambodia",
            "Russia",
            "Nepal",
            "India",
            "Belgium",
            "Egypt",
            "United Arab Emirates",
            "Australia",
            "UK",
            "Malaysia",
            "Afghanistan",
            "Canada",
            "Vietnam",
            "Macau",
            "Switzerland",
            "Algeria",
            "Austria",
            "Iraq",
            "Oman",
            "Thailand",
            "South Korea",
            "Taiwan",
            "Greece",
            "Sweden",
            "Finland",
            "North Macedonia",
            "Georgia",
            "Kuwait",
            "Lebanon",
            "Singapore",
            "Others",
            "US",
            "Croatia",
            "France",
            "Norway",
            "Israel",
            "Spain",
            "Bahrain",
            "Hong Kong",
            "Italy",
            "Germany",
            "Iran",
            "Japan",
            "Romania",
            "Mainland China",
            "Pakistan",
            "Brazil"
           ],
           "legendgroup": "",
           "locationmode": "country names",
           "locations": [
            "Sri Lanka",
            "Philippines",
            "Cambodia",
            "Russia",
            "Nepal",
            "India",
            "Belgium",
            "Egypt",
            "United Arab Emirates",
            "Australia",
            "UK",
            "Malaysia",
            "Afghanistan",
            "Canada",
            "Vietnam",
            "Macau",
            "Switzerland",
            "Algeria",
            "Austria",
            "Iraq",
            "Oman",
            "Thailand",
            "South Korea",
            "Taiwan",
            "Greece",
            "Sweden",
            "Finland",
            "North Macedonia",
            "Georgia",
            "Kuwait",
            "Lebanon",
            "Singapore",
            "Others",
            "US",
            "Croatia",
            "France",
            "Norway",
            "Israel",
            "Spain",
            "Bahrain",
            "Hong Kong",
            "Italy",
            "Germany",
            "Iran",
            "Japan",
            "Romania",
            "Mainland China",
            "Pakistan",
            "Brazil"
           ],
           "marker": {
            "color": [
             1,
             3,
             1,
             2,
             1,
             3,
             1,
             1,
             13,
             8,
             13,
             22,
             1,
             7,
             16,
             10,
             1,
             1,
             2,
             5,
             4,
             40,
             1261,
             32,
             1,
             2,
             2,
             1,
             1,
             26,
             2,
             93,
             705,
             42,
             3,
             18,
             1,
             2,
             13,
             33,
             91,
             453,
             27,
             139,
             189,
             1,
             66001,
             2,
             1
            ],
            "coloraxis": "coloraxis",
            "size": [
             200,
             600,
             200,
             400,
             200,
             600,
             200,
             200,
             2600,
             1600,
             2600,
             4400,
             200,
             1400,
             3200,
             2000,
             200,
             200,
             400,
             1000,
             800,
             8000,
             252200,
             6400,
             200,
             400,
             400,
             200,
             200,
             5200,
             400,
             18600,
             141000,
             8400,
             600,
             3600,
             200,
             400,
             2600,
             6600,
             18200,
             90600,
             5400,
             27800,
             37800,
             200,
             66001,
             400,
             200
            ],
            "sizemode": "area",
            "sizeref": 1168.5
           },
           "name": "",
           "showlegend": false,
           "type": "scattergeo"
          }
         ],
         "name": "2020-02-26"
        }
       ],
       "layout": {
        "coloraxis": {
         "colorbar": {
          "title": {
           "text": "Confirmed"
          }
         },
         "colorscale": [
          [
           0,
           "#440154"
          ],
          [
           0.1111111111111111,
           "#482878"
          ],
          [
           0.2222222222222222,
           "#3e4989"
          ],
          [
           0.3333333333333333,
           "#31688e"
          ],
          [
           0.4444444444444444,
           "#26828e"
          ],
          [
           0.5555555555555556,
           "#1f9e89"
          ],
          [
           0.6666666666666666,
           "#35b779"
          ],
          [
           0.7777777777777778,
           "#6ece58"
          ],
          [
           0.8888888888888888,
           "#b5de2b"
          ],
          [
           1,
           "#fde725"
          ]
         ]
        },
        "geo": {
         "center": {},
         "domain": {
          "x": [
           0,
           1
          ],
          "y": [
           0,
           1
          ]
         },
         "projection": {
          "type": "natural earth"
         }
        },
        "legend": {
         "itemsizing": "constant",
         "tracegroupgap": 0
        },
        "sliders": [
         {
          "active": 0,
          "currentvalue": {
           "prefix": "Date="
          },
          "len": 0.9,
          "pad": {
           "b": 10,
           "t": 60
          },
          "steps": [
           {
            "args": [
             [
              "2020-01-22"
             ],
             {
              "frame": {
               "duration": 0,
               "redraw": true
              },
              "fromcurrent": true,
              "mode": "immediate",
              "transition": {
               "duration": 0,
               "easing": "linear"
              }
             }
            ],
            "label": "2020-01-22",
            "method": "animate"
           },
           {
            "args": [
             [
              "2020-01-23"
             ],
             {
              "frame": {
               "duration": 0,
               "redraw": true
              },
              "fromcurrent": true,
              "mode": "immediate",
              "transition": {
               "duration": 0,
               "easing": "linear"
              }
             }
            ],
            "label": "2020-01-23",
            "method": "animate"
           },
           {
            "args": [
             [
              "2020-01-24"
             ],
             {
              "frame": {
               "duration": 0,
               "redraw": true
              },
              "fromcurrent": true,
              "mode": "immediate",
              "transition": {
               "duration": 0,
               "easing": "linear"
              }
             }
            ],
            "label": "2020-01-24",
            "method": "animate"
           },
           {
            "args": [
             [
              "2020-01-25"
             ],
             {
              "frame": {
               "duration": 0,
               "redraw": true
              },
              "fromcurrent": true,
              "mode": "immediate",
              "transition": {
               "duration": 0,
               "easing": "linear"
              }
             }
            ],
            "label": "2020-01-25",
            "method": "animate"
           },
           {
            "args": [
             [
              "2020-01-26"
             ],
             {
              "frame": {
               "duration": 0,
               "redraw": true
              },
              "fromcurrent": true,
              "mode": "immediate",
              "transition": {
               "duration": 0,
               "easing": "linear"
              }
             }
            ],
            "label": "2020-01-26",
            "method": "animate"
           },
           {
            "args": [
             [
              "2020-01-27"
             ],
             {
              "frame": {
               "duration": 0,
               "redraw": true
              },
              "fromcurrent": true,
              "mode": "immediate",
              "transition": {
               "duration": 0,
               "easing": "linear"
              }
             }
            ],
            "label": "2020-01-27",
            "method": "animate"
           },
           {
            "args": [
             [
              "2020-01-28"
             ],
             {
              "frame": {
               "duration": 0,
               "redraw": true
              },
              "fromcurrent": true,
              "mode": "immediate",
              "transition": {
               "duration": 0,
               "easing": "linear"
              }
             }
            ],
            "label": "2020-01-28",
            "method": "animate"
           },
           {
            "args": [
             [
              "2020-01-29"
             ],
             {
              "frame": {
               "duration": 0,
               "redraw": true
              },
              "fromcurrent": true,
              "mode": "immediate",
              "transition": {
               "duration": 0,
               "easing": "linear"
              }
             }
            ],
            "label": "2020-01-29",
            "method": "animate"
           },
           {
            "args": [
             [
              "2020-01-30"
             ],
             {
              "frame": {
               "duration": 0,
               "redraw": true
              },
              "fromcurrent": true,
              "mode": "immediate",
              "transition": {
               "duration": 0,
               "easing": "linear"
              }
             }
            ],
            "label": "2020-01-30",
            "method": "animate"
           },
           {
            "args": [
             [
              "2020-02-01"
             ],
             {
              "frame": {
               "duration": 0,
               "redraw": true
              },
              "fromcurrent": true,
              "mode": "immediate",
              "transition": {
               "duration": 0,
               "easing": "linear"
              }
             }
            ],
            "label": "2020-02-01",
            "method": "animate"
           },
           {
            "args": [
             [
              "2020-01-31"
             ],
             {
              "frame": {
               "duration": 0,
               "redraw": true
              },
              "fromcurrent": true,
              "mode": "immediate",
              "transition": {
               "duration": 0,
               "easing": "linear"
              }
             }
            ],
            "label": "2020-01-31",
            "method": "animate"
           },
           {
            "args": [
             [
              "2020-02-05"
             ],
             {
              "frame": {
               "duration": 0,
               "redraw": true
              },
              "fromcurrent": true,
              "mode": "immediate",
              "transition": {
               "duration": 0,
               "easing": "linear"
              }
             }
            ],
            "label": "2020-02-05",
            "method": "animate"
           },
           {
            "args": [
             [
              "2020-02-10"
             ],
             {
              "frame": {
               "duration": 0,
               "redraw": true
              },
              "fromcurrent": true,
              "mode": "immediate",
              "transition": {
               "duration": 0,
               "easing": "linear"
              }
             }
            ],
            "label": "2020-02-10",
            "method": "animate"
           },
           {
            "args": [
             [
              "2020-02-11"
             ],
             {
              "frame": {
               "duration": 0,
               "redraw": true
              },
              "fromcurrent": true,
              "mode": "immediate",
              "transition": {
               "duration": 0,
               "easing": "linear"
              }
             }
            ],
            "label": "2020-02-11",
            "method": "animate"
           },
           {
            "args": [
             [
              "2020-02-06"
             ],
             {
              "frame": {
               "duration": 0,
               "redraw": true
              },
              "fromcurrent": true,
              "mode": "immediate",
              "transition": {
               "duration": 0,
               "easing": "linear"
              }
             }
            ],
            "label": "2020-02-06",
            "method": "animate"
           },
           {
            "args": [
             [
              "2020-02-02"
             ],
             {
              "frame": {
               "duration": 0,
               "redraw": true
              },
              "fromcurrent": true,
              "mode": "immediate",
              "transition": {
               "duration": 0,
               "easing": "linear"
              }
             }
            ],
            "label": "2020-02-02",
            "method": "animate"
           },
           {
            "args": [
             [
              "2020-02-08"
             ],
             {
              "frame": {
               "duration": 0,
               "redraw": true
              },
              "fromcurrent": true,
              "mode": "immediate",
              "transition": {
               "duration": 0,
               "easing": "linear"
              }
             }
            ],
            "label": "2020-02-08",
            "method": "animate"
           },
           {
            "args": [
             [
              "2020-02-09"
             ],
             {
              "frame": {
               "duration": 0,
               "redraw": true
              },
              "fromcurrent": true,
              "mode": "immediate",
              "transition": {
               "duration": 0,
               "easing": "linear"
              }
             }
            ],
            "label": "2020-02-09",
            "method": "animate"
           },
           {
            "args": [
             [
              "2020-02-03"
             ],
             {
              "frame": {
               "duration": 0,
               "redraw": true
              },
              "fromcurrent": true,
              "mode": "immediate",
              "transition": {
               "duration": 0,
               "easing": "linear"
              }
             }
            ],
            "label": "2020-02-03",
            "method": "animate"
           },
           {
            "args": [
             [
              "2020-02-04"
             ],
             {
              "frame": {
               "duration": 0,
               "redraw": true
              },
              "fromcurrent": true,
              "mode": "immediate",
              "transition": {
               "duration": 0,
               "easing": "linear"
              }
             }
            ],
            "label": "2020-02-04",
            "method": "animate"
           },
           {
            "args": [
             [
              "2020-02-07"
             ],
             {
              "frame": {
               "duration": 0,
               "redraw": true
              },
              "fromcurrent": true,
              "mode": "immediate",
              "transition": {
               "duration": 0,
               "easing": "linear"
              }
             }
            ],
            "label": "2020-02-07",
            "method": "animate"
           },
           {
            "args": [
             [
              "2020-02-12"
             ],
             {
              "frame": {
               "duration": 0,
               "redraw": true
              },
              "fromcurrent": true,
              "mode": "immediate",
              "transition": {
               "duration": 0,
               "easing": "linear"
              }
             }
            ],
            "label": "2020-02-12",
            "method": "animate"
           },
           {
            "args": [
             [
              "2020-02-13"
             ],
             {
              "frame": {
               "duration": 0,
               "redraw": true
              },
              "fromcurrent": true,
              "mode": "immediate",
              "transition": {
               "duration": 0,
               "easing": "linear"
              }
             }
            ],
            "label": "2020-02-13",
            "method": "animate"
           },
           {
            "args": [
             [
              "2020-02-16"
             ],
             {
              "frame": {
               "duration": 0,
               "redraw": true
              },
              "fromcurrent": true,
              "mode": "immediate",
              "transition": {
               "duration": 0,
               "easing": "linear"
              }
             }
            ],
            "label": "2020-02-16",
            "method": "animate"
           },
           {
            "args": [
             [
              "2020-02-15"
             ],
             {
              "frame": {
               "duration": 0,
               "redraw": true
              },
              "fromcurrent": true,
              "mode": "immediate",
              "transition": {
               "duration": 0,
               "easing": "linear"
              }
             }
            ],
            "label": "2020-02-15",
            "method": "animate"
           },
           {
            "args": [
             [
              "2020-02-25"
             ],
             {
              "frame": {
               "duration": 0,
               "redraw": true
              },
              "fromcurrent": true,
              "mode": "immediate",
              "transition": {
               "duration": 0,
               "easing": "linear"
              }
             }
            ],
            "label": "2020-02-25",
            "method": "animate"
           },
           {
            "args": [
             [
              "2020-02-24"
             ],
             {
              "frame": {
               "duration": 0,
               "redraw": true
              },
              "fromcurrent": true,
              "mode": "immediate",
              "transition": {
               "duration": 0,
               "easing": "linear"
              }
             }
            ],
            "label": "2020-02-24",
            "method": "animate"
           },
           {
            "args": [
             [
              "2020-02-23"
             ],
             {
              "frame": {
               "duration": 0,
               "redraw": true
              },
              "fromcurrent": true,
              "mode": "immediate",
              "transition": {
               "duration": 0,
               "easing": "linear"
              }
             }
            ],
            "label": "2020-02-23",
            "method": "animate"
           },
           {
            "args": [
             [
              "2020-02-22"
             ],
             {
              "frame": {
               "duration": 0,
               "redraw": true
              },
              "fromcurrent": true,
              "mode": "immediate",
              "transition": {
               "duration": 0,
               "easing": "linear"
              }
             }
            ],
            "label": "2020-02-22",
            "method": "animate"
           },
           {
            "args": [
             [
              "2020-02-17"
             ],
             {
              "frame": {
               "duration": 0,
               "redraw": true
              },
              "fromcurrent": true,
              "mode": "immediate",
              "transition": {
               "duration": 0,
               "easing": "linear"
              }
             }
            ],
            "label": "2020-02-17",
            "method": "animate"
           },
           {
            "args": [
             [
              "2020-02-21"
             ],
             {
              "frame": {
               "duration": 0,
               "redraw": true
              },
              "fromcurrent": true,
              "mode": "immediate",
              "transition": {
               "duration": 0,
               "easing": "linear"
              }
             }
            ],
            "label": "2020-02-21",
            "method": "animate"
           },
           {
            "args": [
             [
              "2020-02-18"
             ],
             {
              "frame": {
               "duration": 0,
               "redraw": true
              },
              "fromcurrent": true,
              "mode": "immediate",
              "transition": {
               "duration": 0,
               "easing": "linear"
              }
             }
            ],
            "label": "2020-02-18",
            "method": "animate"
           },
           {
            "args": [
             [
              "2020-02-20"
             ],
             {
              "frame": {
               "duration": 0,
               "redraw": true
              },
              "fromcurrent": true,
              "mode": "immediate",
              "transition": {
               "duration": 0,
               "easing": "linear"
              }
             }
            ],
            "label": "2020-02-20",
            "method": "animate"
           },
           {
            "args": [
             [
              "2020-02-19"
             ],
             {
              "frame": {
               "duration": 0,
               "redraw": true
              },
              "fromcurrent": true,
              "mode": "immediate",
              "transition": {
               "duration": 0,
               "easing": "linear"
              }
             }
            ],
            "label": "2020-02-19",
            "method": "animate"
           },
           {
            "args": [
             [
              "2020-02-14"
             ],
             {
              "frame": {
               "duration": 0,
               "redraw": true
              },
              "fromcurrent": true,
              "mode": "immediate",
              "transition": {
               "duration": 0,
               "easing": "linear"
              }
             }
            ],
            "label": "2020-02-14",
            "method": "animate"
           },
           {
            "args": [
             [
              "2020-02-28"
             ],
             {
              "frame": {
               "duration": 0,
               "redraw": true
              },
              "fromcurrent": true,
              "mode": "immediate",
              "transition": {
               "duration": 0,
               "easing": "linear"
              }
             }
            ],
            "label": "2020-02-28",
            "method": "animate"
           },
           {
            "args": [
             [
              "2020-02-27"
             ],
             {
              "frame": {
               "duration": 0,
               "redraw": true
              },
              "fromcurrent": true,
              "mode": "immediate",
              "transition": {
               "duration": 0,
               "easing": "linear"
              }
             }
            ],
            "label": "2020-02-27",
            "method": "animate"
           },
           {
            "args": [
             [
              "2020-02-26"
             ],
             {
              "frame": {
               "duration": 0,
               "redraw": true
              },
              "fromcurrent": true,
              "mode": "immediate",
              "transition": {
               "duration": 0,
               "easing": "linear"
              }
             }
            ],
            "label": "2020-02-26",
            "method": "animate"
           }
          ],
          "x": 0.1,
          "xanchor": "left",
          "y": 0,
          "yanchor": "top"
         }
        ],
        "template": {
         "data": {
          "scatter": [
           {
            "type": "scatter"
           }
          ]
         }
        },
        "title": {
         "text": "Progression of Coronavirus in Confirmed Cases in the January 2020"
        },
        "updatemenus": [
         {
          "buttons": [
           {
            "args": [
             null,
             {
              "frame": {
               "duration": 500,
               "redraw": true
              },
              "fromcurrent": true,
              "mode": "immediate",
              "transition": {
               "duration": 500,
               "easing": "linear"
              }
             }
            ],
            "label": "&#9654;",
            "method": "animate"
           },
           {
            "args": [
             [
              null
             ],
             {
              "frame": {
               "duration": 0,
               "redraw": true
              },
              "fromcurrent": true,
              "mode": "immediate",
              "transition": {
               "duration": 0,
               "easing": "linear"
              }
             }
            ],
            "label": "&#9724;",
            "method": "animate"
           }
          ],
          "direction": "left",
          "pad": {
           "r": 10,
           "t": 70
          },
          "showactive": false,
          "type": "buttons",
          "x": 0.1,
          "xanchor": "right",
          "y": 0,
          "yanchor": "top"
         }
        ]
       }
      },
      "text/html": [
       "<div>\n",
       "        \n",
       "        \n",
       "            <div id=\"2d15478c-636e-42e4-9cc7-da1311f04748\" class=\"plotly-graph-div\" style=\"height:525px; width:100%;\"></div>\n",
       "            <script type=\"text/javascript\">\n",
       "                require([\"plotly\"], function(Plotly) {\n",
       "                    window.PLOTLYENV=window.PLOTLYENV || {};\n",
       "                    \n",
       "                if (document.getElementById(\"2d15478c-636e-42e4-9cc7-da1311f04748\")) {\n",
       "                    Plotly.newPlot(\n",
       "                        '2d15478c-636e-42e4-9cc7-da1311f04748',\n",
       "                        [{\"geo\": \"geo\", \"hoverlabel\": {\"namelength\": 0}, \"hovertemplate\": \"<b>%{hovertext}</b><br><br>Date=2020-01-22<br>Size=%{marker.size}<br>Country/Region=%{location}<br>Confirmed=%{marker.color}\", \"hovertext\": [\"Taiwan\", \"South Korea\", \"Japan\", \"US\", \"Mainland China\", \"Hong Kong\", \"Thailand\", \"Macau\"], \"legendgroup\": \"\", \"locationmode\": \"country names\", \"locations\": [\"Taiwan\", \"South Korea\", \"Japan\", \"US\", \"Mainland China\", \"Hong Kong\", \"Thailand\", \"Macau\"], \"marker\": {\"color\": [1, 1, 2, 1, 547, 0, 2, 1], \"coloraxis\": \"coloraxis\", \"size\": [200, 200, 400, 200, 547, 0, 400, 200], \"sizemode\": \"area\", \"sizeref\": 1168.5}, \"name\": \"\", \"showlegend\": false, \"type\": \"scattergeo\"}],\n",
       "                        {\"coloraxis\": {\"colorbar\": {\"title\": {\"text\": \"Confirmed\"}}, \"colorscale\": [[0.0, \"#440154\"], [0.1111111111111111, \"#482878\"], [0.2222222222222222, \"#3e4989\"], [0.3333333333333333, \"#31688e\"], [0.4444444444444444, \"#26828e\"], [0.5555555555555556, \"#1f9e89\"], [0.6666666666666666, \"#35b779\"], [0.7777777777777778, \"#6ece58\"], [0.8888888888888888, \"#b5de2b\"], [1.0, \"#fde725\"]]}, \"geo\": {\"center\": {}, \"domain\": {\"x\": [0.0, 1.0], \"y\": [0.0, 1.0]}, \"projection\": {\"type\": \"natural earth\"}}, \"legend\": {\"itemsizing\": \"constant\", \"tracegroupgap\": 0}, \"sliders\": [{\"active\": 0, \"currentvalue\": {\"prefix\": \"Date=\"}, \"len\": 0.9, \"pad\": {\"b\": 10, \"t\": 60}, \"steps\": [{\"args\": [[\"2020-01-22\"], {\"frame\": {\"duration\": 0, \"redraw\": true}, \"fromcurrent\": true, \"mode\": \"immediate\", \"transition\": {\"duration\": 0, \"easing\": \"linear\"}}], \"label\": \"2020-01-22\", \"method\": \"animate\"}, {\"args\": [[\"2020-01-23\"], {\"frame\": {\"duration\": 0, \"redraw\": true}, \"fromcurrent\": true, \"mode\": \"immediate\", \"transition\": {\"duration\": 0, \"easing\": \"linear\"}}], \"label\": \"2020-01-23\", \"method\": \"animate\"}, {\"args\": [[\"2020-01-24\"], {\"frame\": {\"duration\": 0, \"redraw\": true}, \"fromcurrent\": true, \"mode\": \"immediate\", \"transition\": {\"duration\": 0, \"easing\": \"linear\"}}], \"label\": \"2020-01-24\", \"method\": \"animate\"}, {\"args\": [[\"2020-01-25\"], {\"frame\": {\"duration\": 0, \"redraw\": true}, \"fromcurrent\": true, \"mode\": \"immediate\", \"transition\": {\"duration\": 0, \"easing\": \"linear\"}}], \"label\": \"2020-01-25\", \"method\": \"animate\"}, {\"args\": [[\"2020-01-26\"], {\"frame\": {\"duration\": 0, \"redraw\": true}, \"fromcurrent\": true, \"mode\": \"immediate\", \"transition\": {\"duration\": 0, \"easing\": \"linear\"}}], \"label\": \"2020-01-26\", \"method\": \"animate\"}, {\"args\": [[\"2020-01-27\"], {\"frame\": {\"duration\": 0, \"redraw\": true}, \"fromcurrent\": true, \"mode\": \"immediate\", \"transition\": {\"duration\": 0, \"easing\": \"linear\"}}], \"label\": \"2020-01-27\", \"method\": \"animate\"}, {\"args\": [[\"2020-01-28\"], {\"frame\": {\"duration\": 0, \"redraw\": true}, \"fromcurrent\": true, \"mode\": \"immediate\", \"transition\": {\"duration\": 0, \"easing\": \"linear\"}}], \"label\": \"2020-01-28\", \"method\": \"animate\"}, {\"args\": [[\"2020-01-29\"], {\"frame\": {\"duration\": 0, \"redraw\": true}, \"fromcurrent\": true, \"mode\": \"immediate\", \"transition\": {\"duration\": 0, \"easing\": \"linear\"}}], \"label\": \"2020-01-29\", \"method\": \"animate\"}, {\"args\": [[\"2020-01-30\"], {\"frame\": {\"duration\": 0, \"redraw\": true}, \"fromcurrent\": true, \"mode\": \"immediate\", \"transition\": {\"duration\": 0, \"easing\": \"linear\"}}], \"label\": \"2020-01-30\", \"method\": \"animate\"}, {\"args\": [[\"2020-02-01\"], {\"frame\": {\"duration\": 0, \"redraw\": true}, \"fromcurrent\": true, \"mode\": \"immediate\", \"transition\": {\"duration\": 0, \"easing\": \"linear\"}}], \"label\": \"2020-02-01\", \"method\": \"animate\"}, {\"args\": [[\"2020-01-31\"], {\"frame\": {\"duration\": 0, \"redraw\": true}, \"fromcurrent\": true, \"mode\": \"immediate\", \"transition\": {\"duration\": 0, \"easing\": \"linear\"}}], \"label\": \"2020-01-31\", \"method\": \"animate\"}, {\"args\": [[\"2020-02-05\"], {\"frame\": {\"duration\": 0, \"redraw\": true}, \"fromcurrent\": true, \"mode\": \"immediate\", \"transition\": {\"duration\": 0, \"easing\": \"linear\"}}], \"label\": \"2020-02-05\", \"method\": \"animate\"}, {\"args\": [[\"2020-02-10\"], {\"frame\": {\"duration\": 0, \"redraw\": true}, \"fromcurrent\": true, \"mode\": \"immediate\", \"transition\": {\"duration\": 0, \"easing\": \"linear\"}}], \"label\": \"2020-02-10\", \"method\": \"animate\"}, {\"args\": [[\"2020-02-11\"], {\"frame\": {\"duration\": 0, \"redraw\": true}, \"fromcurrent\": true, \"mode\": \"immediate\", \"transition\": {\"duration\": 0, \"easing\": \"linear\"}}], \"label\": \"2020-02-11\", \"method\": \"animate\"}, {\"args\": [[\"2020-02-06\"], {\"frame\": {\"duration\": 0, \"redraw\": true}, \"fromcurrent\": true, \"mode\": \"immediate\", \"transition\": {\"duration\": 0, \"easing\": \"linear\"}}], \"label\": \"2020-02-06\", \"method\": \"animate\"}, {\"args\": [[\"2020-02-02\"], {\"frame\": {\"duration\": 0, \"redraw\": true}, \"fromcurrent\": true, \"mode\": \"immediate\", \"transition\": {\"duration\": 0, \"easing\": \"linear\"}}], \"label\": \"2020-02-02\", \"method\": \"animate\"}, {\"args\": [[\"2020-02-08\"], {\"frame\": {\"duration\": 0, \"redraw\": true}, \"fromcurrent\": true, \"mode\": \"immediate\", \"transition\": {\"duration\": 0, \"easing\": \"linear\"}}], \"label\": \"2020-02-08\", \"method\": \"animate\"}, {\"args\": [[\"2020-02-09\"], {\"frame\": {\"duration\": 0, \"redraw\": true}, \"fromcurrent\": true, \"mode\": \"immediate\", \"transition\": {\"duration\": 0, \"easing\": \"linear\"}}], \"label\": \"2020-02-09\", \"method\": \"animate\"}, {\"args\": [[\"2020-02-03\"], {\"frame\": {\"duration\": 0, \"redraw\": true}, \"fromcurrent\": true, \"mode\": \"immediate\", \"transition\": {\"duration\": 0, \"easing\": \"linear\"}}], \"label\": \"2020-02-03\", \"method\": \"animate\"}, {\"args\": [[\"2020-02-04\"], {\"frame\": {\"duration\": 0, \"redraw\": true}, \"fromcurrent\": true, \"mode\": \"immediate\", \"transition\": {\"duration\": 0, \"easing\": \"linear\"}}], \"label\": \"2020-02-04\", \"method\": \"animate\"}, {\"args\": [[\"2020-02-07\"], {\"frame\": {\"duration\": 0, \"redraw\": true}, \"fromcurrent\": true, \"mode\": \"immediate\", \"transition\": {\"duration\": 0, \"easing\": \"linear\"}}], \"label\": \"2020-02-07\", \"method\": \"animate\"}, {\"args\": [[\"2020-02-12\"], {\"frame\": {\"duration\": 0, \"redraw\": true}, \"fromcurrent\": true, \"mode\": \"immediate\", \"transition\": {\"duration\": 0, \"easing\": \"linear\"}}], \"label\": \"2020-02-12\", \"method\": \"animate\"}, {\"args\": [[\"2020-02-13\"], {\"frame\": {\"duration\": 0, \"redraw\": true}, \"fromcurrent\": true, \"mode\": \"immediate\", \"transition\": {\"duration\": 0, \"easing\": \"linear\"}}], \"label\": \"2020-02-13\", \"method\": \"animate\"}, {\"args\": [[\"2020-02-16\"], {\"frame\": {\"duration\": 0, \"redraw\": true}, \"fromcurrent\": true, \"mode\": \"immediate\", \"transition\": {\"duration\": 0, \"easing\": \"linear\"}}], \"label\": \"2020-02-16\", \"method\": \"animate\"}, {\"args\": [[\"2020-02-15\"], {\"frame\": {\"duration\": 0, \"redraw\": true}, \"fromcurrent\": true, \"mode\": \"immediate\", \"transition\": {\"duration\": 0, \"easing\": \"linear\"}}], \"label\": \"2020-02-15\", \"method\": \"animate\"}, {\"args\": [[\"2020-02-25\"], {\"frame\": {\"duration\": 0, \"redraw\": true}, \"fromcurrent\": true, \"mode\": \"immediate\", \"transition\": {\"duration\": 0, \"easing\": \"linear\"}}], \"label\": \"2020-02-25\", \"method\": \"animate\"}, {\"args\": [[\"2020-02-24\"], {\"frame\": {\"duration\": 0, \"redraw\": true}, \"fromcurrent\": true, \"mode\": \"immediate\", \"transition\": {\"duration\": 0, \"easing\": \"linear\"}}], \"label\": \"2020-02-24\", \"method\": \"animate\"}, {\"args\": [[\"2020-02-23\"], {\"frame\": {\"duration\": 0, \"redraw\": true}, \"fromcurrent\": true, \"mode\": \"immediate\", \"transition\": {\"duration\": 0, \"easing\": \"linear\"}}], \"label\": \"2020-02-23\", \"method\": \"animate\"}, {\"args\": [[\"2020-02-22\"], {\"frame\": {\"duration\": 0, \"redraw\": true}, \"fromcurrent\": true, \"mode\": \"immediate\", \"transition\": {\"duration\": 0, \"easing\": \"linear\"}}], \"label\": \"2020-02-22\", \"method\": \"animate\"}, {\"args\": [[\"2020-02-17\"], {\"frame\": {\"duration\": 0, \"redraw\": true}, \"fromcurrent\": true, \"mode\": \"immediate\", \"transition\": {\"duration\": 0, \"easing\": \"linear\"}}], \"label\": \"2020-02-17\", \"method\": \"animate\"}, {\"args\": [[\"2020-02-21\"], {\"frame\": {\"duration\": 0, \"redraw\": true}, \"fromcurrent\": true, \"mode\": \"immediate\", \"transition\": {\"duration\": 0, \"easing\": \"linear\"}}], \"label\": \"2020-02-21\", \"method\": \"animate\"}, {\"args\": [[\"2020-02-18\"], {\"frame\": {\"duration\": 0, \"redraw\": true}, \"fromcurrent\": true, \"mode\": \"immediate\", \"transition\": {\"duration\": 0, \"easing\": \"linear\"}}], \"label\": \"2020-02-18\", \"method\": \"animate\"}, {\"args\": [[\"2020-02-20\"], {\"frame\": {\"duration\": 0, \"redraw\": true}, \"fromcurrent\": true, \"mode\": \"immediate\", \"transition\": {\"duration\": 0, \"easing\": \"linear\"}}], \"label\": \"2020-02-20\", \"method\": \"animate\"}, {\"args\": [[\"2020-02-19\"], {\"frame\": {\"duration\": 0, \"redraw\": true}, \"fromcurrent\": true, \"mode\": \"immediate\", \"transition\": {\"duration\": 0, \"easing\": \"linear\"}}], \"label\": \"2020-02-19\", \"method\": \"animate\"}, {\"args\": [[\"2020-02-14\"], {\"frame\": {\"duration\": 0, \"redraw\": true}, \"fromcurrent\": true, \"mode\": \"immediate\", \"transition\": {\"duration\": 0, \"easing\": \"linear\"}}], \"label\": \"2020-02-14\", \"method\": \"animate\"}, {\"args\": [[\"2020-02-28\"], {\"frame\": {\"duration\": 0, \"redraw\": true}, \"fromcurrent\": true, \"mode\": \"immediate\", \"transition\": {\"duration\": 0, \"easing\": \"linear\"}}], \"label\": \"2020-02-28\", \"method\": \"animate\"}, {\"args\": [[\"2020-02-27\"], {\"frame\": {\"duration\": 0, \"redraw\": true}, \"fromcurrent\": true, \"mode\": \"immediate\", \"transition\": {\"duration\": 0, \"easing\": \"linear\"}}], \"label\": \"2020-02-27\", \"method\": \"animate\"}, {\"args\": [[\"2020-02-26\"], {\"frame\": {\"duration\": 0, \"redraw\": true}, \"fromcurrent\": true, \"mode\": \"immediate\", \"transition\": {\"duration\": 0, \"easing\": \"linear\"}}], \"label\": \"2020-02-26\", \"method\": \"animate\"}], \"x\": 0.1, \"xanchor\": \"left\", \"y\": 0, \"yanchor\": \"top\"}], \"template\": {\"data\": {\"scatter\": [{\"type\": \"scatter\"}]}}, \"title\": {\"text\": \"Progression of Coronavirus in Confirmed Cases in the January 2020\"}, \"updatemenus\": [{\"buttons\": [{\"args\": [null, {\"frame\": {\"duration\": 500, \"redraw\": true}, \"fromcurrent\": true, \"mode\": \"immediate\", \"transition\": {\"duration\": 500, \"easing\": \"linear\"}}], \"label\": \"&#9654;\", \"method\": \"animate\"}, {\"args\": [[null], {\"frame\": {\"duration\": 0, \"redraw\": true}, \"fromcurrent\": true, \"mode\": \"immediate\", \"transition\": {\"duration\": 0, \"easing\": \"linear\"}}], \"label\": \"&#9724;\", \"method\": \"animate\"}], \"direction\": \"left\", \"pad\": {\"r\": 10, \"t\": 70}, \"showactive\": false, \"type\": \"buttons\", \"x\": 0.1, \"xanchor\": \"right\", \"y\": 0, \"yanchor\": \"top\"}]},\n",
       "                        {\"responsive\": true}\n",
       "                    ).then(function(){\n",
       "                            Plotly.addFrames('2d15478c-636e-42e4-9cc7-da1311f04748', [{\"data\": [{\"geo\": \"geo\", \"hoverlabel\": {\"namelength\": 0}, \"hovertemplate\": \"<b>%{hovertext}</b><br><br>Date=2020-01-22<br>Size=%{marker.size}<br>Country/Region=%{location}<br>Confirmed=%{marker.color}\", \"hovertext\": [\"Taiwan\", \"South Korea\", \"Japan\", \"US\", \"Mainland China\", \"Hong Kong\", \"Thailand\", \"Macau\"], \"legendgroup\": \"\", \"locationmode\": \"country names\", \"locations\": [\"Taiwan\", \"South Korea\", \"Japan\", \"US\", \"Mainland China\", \"Hong Kong\", \"Thailand\", \"Macau\"], \"marker\": {\"color\": [1, 1, 2, 1, 547, 0, 2, 1], \"coloraxis\": \"coloraxis\", \"size\": [200, 200, 400, 200, 547, 0, 400, 200], \"sizemode\": \"area\", \"sizeref\": 1168.5}, \"name\": \"\", \"showlegend\": false, \"type\": \"scattergeo\"}], \"name\": \"2020-01-22\"}, {\"data\": [{\"geo\": \"geo\", \"hoverlabel\": {\"namelength\": 0}, \"hovertemplate\": \"<b>%{hovertext}</b><br><br>Date=2020-01-23<br>Size=%{marker.size}<br>Country/Region=%{location}<br>Confirmed=%{marker.color}\", \"hovertext\": [\"Vietnam\", \"Singapore\", \"South Korea\", \"Mexico\", \"Colombia\", \"Hong Kong\", \"Mainland China\", \"Brazil\", \"Malaysia\", \"Macau\", \"Thailand\", \"Taiwan\", \"Japan\", \"US\", \"Australia\", \"Philippines\"], \"legendgroup\": \"\", \"locationmode\": \"country names\", \"locations\": [\"Vietnam\", \"Singapore\", \"South Korea\", \"Mexico\", \"Colombia\", \"Hong Kong\", \"Mainland China\", \"Brazil\", \"Malaysia\", \"Macau\", \"Thailand\", \"Taiwan\", \"Japan\", \"US\", \"Australia\", \"Philippines\"], \"marker\": {\"color\": [2, 1, 1, 0, 0, 2, 639, 0, 0, 2, 3, 1, 1, 1, 0, 0], \"coloraxis\": \"coloraxis\", \"size\": [400, 200, 200, 0, 0, 400, 639, 0, 0, 400, 600, 200, 200, 200, 0, 0], \"sizemode\": \"area\", \"sizeref\": 1168.5}, \"name\": \"\", \"showlegend\": false, \"type\": \"scattergeo\"}], \"name\": \"2020-01-23\"}, {\"data\": [{\"geo\": \"geo\", \"hoverlabel\": {\"namelength\": 0}, \"hovertemplate\": \"<b>%{hovertext}</b><br><br>Date=2020-01-24<br>Size=%{marker.size}<br>Country/Region=%{location}<br>Confirmed=%{marker.color}\", \"hovertext\": [\"Japan\", \"Singapore\", \"Macau\", \"France\", \"South Korea\", \"US\", \"Taiwan\", \"Mainland China\", \"Hong Kong\", \"Vietnam\", \"Thailand\"], \"legendgroup\": \"\", \"locationmode\": \"country names\", \"locations\": [\"Japan\", \"Singapore\", \"Macau\", \"France\", \"South Korea\", \"US\", \"Taiwan\", \"Mainland China\", \"Hong Kong\", \"Vietnam\", \"Thailand\"], \"marker\": {\"color\": [2, 3, 2, 2, 2, 2, 3, 916, 2, 2, 5], \"coloraxis\": \"coloraxis\", \"size\": [400, 600, 400, 400, 400, 400, 600, 916, 400, 400, 1000], \"sizemode\": \"area\", \"sizeref\": 1168.5}, \"name\": \"\", \"showlegend\": false, \"type\": \"scattergeo\"}], \"name\": \"2020-01-24\"}, {\"data\": [{\"geo\": \"geo\", \"hoverlabel\": {\"namelength\": 0}, \"hovertemplate\": \"<b>%{hovertext}</b><br><br>Date=2020-01-25<br>Size=%{marker.size}<br>Country/Region=%{location}<br>Confirmed=%{marker.color}\", \"hovertext\": [\"Mainland China\", \"Nepal\", \"Macau\", \"Hong Kong\", \"Australia\", \"Vietnam\", \"South Korea\", \"US\", \"Malaysia\", \"France\", \"Thailand\", \"Taiwan\", \"Japan\", \"Singapore\"], \"legendgroup\": \"\", \"locationmode\": \"country names\", \"locations\": [\"Mainland China\", \"Nepal\", \"Macau\", \"Hong Kong\", \"Australia\", \"Vietnam\", \"South Korea\", \"US\", \"Malaysia\", \"France\", \"Thailand\", \"Taiwan\", \"Japan\", \"Singapore\"], \"marker\": {\"color\": [1399, 1, 2, 5, 4, 2, 2, 2, 3, 3, 7, 3, 2, 3], \"coloraxis\": \"coloraxis\", \"size\": [1399, 200, 400, 1000, 800, 400, 400, 400, 600, 600, 1400, 600, 400, 600], \"sizemode\": \"area\", \"sizeref\": 1168.5}, \"name\": \"\", \"showlegend\": false, \"type\": \"scattergeo\"}], \"name\": \"2020-01-25\"}, {\"data\": [{\"geo\": \"geo\", \"hoverlabel\": {\"namelength\": 0}, \"hovertemplate\": \"<b>%{hovertext}</b><br><br>Date=2020-01-26<br>Size=%{marker.size}<br>Country/Region=%{location}<br>Confirmed=%{marker.color}\", \"hovertext\": [\"Taiwan\", \"Japan\", \"Hong Kong\", \"France\", \"Mainland China\", \"Thailand\", \"US\", \"Vietnam\", \"Australia\", \"Macau\", \"Singapore\", \"Malaysia\", \"Canada\", \"South Korea\", \"Nepal\"], \"legendgroup\": \"\", \"locationmode\": \"country names\", \"locations\": [\"Taiwan\", \"Japan\", \"Hong Kong\", \"France\", \"Mainland China\", \"Thailand\", \"US\", \"Vietnam\", \"Australia\", \"Macau\", \"Singapore\", \"Malaysia\", \"Canada\", \"South Korea\", \"Nepal\"], \"marker\": {\"color\": [4, 4, 8, 3, 2062, 8, 5, 2, 4, 5, 4, 4, 1, 3, 1], \"coloraxis\": \"coloraxis\", \"size\": [800, 800, 1600, 600, 2062, 1600, 1000, 400, 800, 1000, 800, 800, 200, 600, 200], \"sizemode\": \"area\", \"sizeref\": 1168.5}, \"name\": \"\", \"showlegend\": false, \"type\": \"scattergeo\"}], \"name\": \"2020-01-26\"}, {\"data\": [{\"geo\": \"geo\", \"hoverlabel\": {\"namelength\": 0}, \"hovertemplate\": \"<b>%{hovertext}</b><br><br>Date=2020-01-27<br>Size=%{marker.size}<br>Country/Region=%{location}<br>Confirmed=%{marker.color}\", \"hovertext\": [\"Nepal\", \"Sri Lanka\", \"Hong Kong\", \"US\", \"Mainland China\", \"Australia\", \"Thailand\", \"Ivory Coast\", \"Singapore\", \"France\", \"South Korea\", \"Canada\", \"Vietnam\", \"Macau\", \"Malaysia\", \"Cambodia\", \"Taiwan\", \"Japan\"], \"legendgroup\": \"\", \"locationmode\": \"country names\", \"locations\": [\"Nepal\", \"Sri Lanka\", \"Hong Kong\", \"US\", \"Mainland China\", \"Australia\", \"Thailand\", \"Ivory Coast\", \"Singapore\", \"France\", \"South Korea\", \"Canada\", \"Vietnam\", \"Macau\", \"Malaysia\", \"Cambodia\", \"Taiwan\", \"Japan\"], \"marker\": {\"color\": [1, 1, 8, 5, 2863, 5, 8, 1, 5, 3, 4, 1, 2, 6, 4, 1, 5, 4], \"coloraxis\": \"coloraxis\", \"size\": [200, 200, 1600, 1000, 2863, 1000, 1600, 200, 1000, 600, 800, 200, 400, 1200, 800, 200, 1000, 800], \"sizemode\": \"area\", \"sizeref\": 1168.5}, \"name\": \"\", \"showlegend\": false, \"type\": \"scattergeo\"}], \"name\": \"2020-01-27\"}, {\"data\": [{\"geo\": \"geo\", \"hoverlabel\": {\"namelength\": 0}, \"hovertemplate\": \"<b>%{hovertext}</b><br><br>Date=2020-01-28<br>Size=%{marker.size}<br>Country/Region=%{location}<br>Confirmed=%{marker.color}\", \"hovertext\": [\"France\", \"Hong Kong\", \"Vietnam\", \"US\", \"South Korea\", \"Singapore\", \"Germany\", \"Sri Lanka\", \"Malaysia\", \"Nepal\", \"Canada\", \"Cambodia\", \"Macau\", \"Mainland China\", \"Japan\", \"Australia\", \"Taiwan\", \"Thailand\"], \"legendgroup\": \"\", \"locationmode\": \"country names\", \"locations\": [\"France\", \"Hong Kong\", \"Vietnam\", \"US\", \"South Korea\", \"Singapore\", \"Germany\", \"Sri Lanka\", \"Malaysia\", \"Nepal\", \"Canada\", \"Cambodia\", \"Macau\", \"Mainland China\", \"Japan\", \"Australia\", \"Taiwan\", \"Thailand\"], \"marker\": {\"color\": [4, 8, 2, 5, 4, 7, 4, 1, 4, 1, 2, 1, 7, 5494, 7, 5, 8, 14], \"coloraxis\": \"coloraxis\", \"size\": [800, 1600, 400, 1000, 800, 1400, 800, 200, 800, 200, 400, 200, 1400, 5494, 1400, 1000, 1600, 2800], \"sizemode\": \"area\", \"sizeref\": 1168.5}, \"name\": \"\", \"showlegend\": false, \"type\": \"scattergeo\"}], \"name\": \"2020-01-28\"}, {\"data\": [{\"geo\": \"geo\", \"hoverlabel\": {\"namelength\": 0}, \"hovertemplate\": \"<b>%{hovertext}</b><br><br>Date=2020-01-29<br>Size=%{marker.size}<br>Country/Region=%{location}<br>Confirmed=%{marker.color}\", \"hovertext\": [\"Thailand\", \"South Korea\", \"Singapore\", \"Malaysia\", \"France\", \"Taiwan\", \"Cambodia\", \"Hong Kong\", \"Japan\", \"Mainland China\", \"Macau\", \"Nepal\", \"Sri Lanka\", \"Canada\", \"Finland\", \"United Arab Emirates\", \"Australia\", \"US\", \"Germany\", \"Vietnam\"], \"legendgroup\": \"\", \"locationmode\": \"country names\", \"locations\": [\"Thailand\", \"South Korea\", \"Singapore\", \"Malaysia\", \"France\", \"Taiwan\", \"Cambodia\", \"Hong Kong\", \"Japan\", \"Mainland China\", \"Macau\", \"Nepal\", \"Sri Lanka\", \"Canada\", \"Finland\", \"United Arab Emirates\", \"Australia\", \"US\", \"Germany\", \"Vietnam\"], \"marker\": {\"color\": [14, 4, 7, 7, 5, 8, 1, 10, 7, 6070, 7, 1, 1, 2, 1, 4, 5, 5, 4, 2], \"coloraxis\": \"coloraxis\", \"size\": [2800, 800, 1400, 1400, 1000, 1600, 200, 2000, 1400, 6070, 1400, 200, 200, 400, 200, 800, 1000, 1000, 800, 400], \"sizemode\": \"area\", \"sizeref\": 1168.5}, \"name\": \"\", \"showlegend\": false, \"type\": \"scattergeo\"}], \"name\": \"2020-01-29\"}, {\"data\": [{\"geo\": \"geo\", \"hoverlabel\": {\"namelength\": 0}, \"hovertemplate\": \"<b>%{hovertext}</b><br><br>Date=2020-01-30<br>Size=%{marker.size}<br>Country/Region=%{location}<br>Confirmed=%{marker.color}\", \"hovertext\": [\"US\", \"Finland\", \"Hong Kong\", \"Thailand\", \"Taiwan\", \"Vietnam\", \"Philippines\", \"Macau\", \"United Arab Emirates\", \"Mainland China\", \"Sri Lanka\", \"Nepal\", \"Malaysia\", \"Cambodia\", \"Japan\", \"Singapore\", \"Canada\", \"Australia\", \"France\", \"India\", \"Germany\", \"South Korea\"], \"legendgroup\": \"\", \"locationmode\": \"country names\", \"locations\": [\"US\", \"Finland\", \"Hong Kong\", \"Thailand\", \"Taiwan\", \"Vietnam\", \"Philippines\", \"Macau\", \"United Arab Emirates\", \"Mainland China\", \"Sri Lanka\", \"Nepal\", \"Malaysia\", \"Cambodia\", \"Japan\", \"Singapore\", \"Canada\", \"Australia\", \"France\", \"India\", \"Germany\", \"South Korea\"], \"marker\": {\"color\": [5, 1, 10, 14, 9, 2, 1, 7, 4, 8124, 1, 1, 8, 1, 11, 10, 3, 9, 5, 1, 4, 4], \"coloraxis\": \"coloraxis\", \"size\": [1000, 200, 2000, 2800, 1800, 400, 200, 1400, 800, 8124, 200, 200, 1600, 200, 2200, 2000, 600, 1800, 1000, 200, 800, 800], \"sizemode\": \"area\", \"sizeref\": 1168.5}, \"name\": \"\", \"showlegend\": false, \"type\": \"scattergeo\"}], \"name\": \"2020-01-30\"}, {\"data\": [{\"geo\": \"geo\", \"hoverlabel\": {\"namelength\": 0}, \"hovertemplate\": \"<b>%{hovertext}</b><br><br>Date=2020-02-01<br>Size=%{marker.size}<br>Country/Region=%{location}<br>Confirmed=%{marker.color}\", \"hovertext\": [\"Thailand\", \"Taiwan\", \"Russia\", \"Finland\", \"Nepal\", \"United Arab Emirates\", \"India\", \"Cambodia\", \"Macau\", \"Italy\", \"Sri Lanka\", \"Malaysia\", \"South Korea\", \"Philippines\", \"Canada\", \"Australia\", \"Germany\", \"Japan\", \"US\", \"France\", \"UK\", \"Sweden\", \"Spain\", \"Hong Kong\", \"Singapore\", \"Vietnam\", \"Mainland China\"], \"legendgroup\": \"\", \"locationmode\": \"country names\", \"locations\": [\"Thailand\", \"Taiwan\", \"Russia\", \"Finland\", \"Nepal\", \"United Arab Emirates\", \"India\", \"Cambodia\", \"Macau\", \"Italy\", \"Sri Lanka\", \"Malaysia\", \"South Korea\", \"Philippines\", \"Canada\", \"Australia\", \"Germany\", \"Japan\", \"US\", \"France\", \"UK\", \"Sweden\", \"Spain\", \"Hong Kong\", \"Singapore\", \"Vietnam\", \"Mainland China\"], \"marker\": {\"color\": [19, 10, 2, 1, 1, 4, 1, 1, 7, 2, 1, 8, 12, 1, 4, 12, 8, 20, 5, 6, 2, 1, 1, 13, 16, 6, 7153], \"coloraxis\": \"coloraxis\", \"size\": [3800, 2000, 400, 200, 200, 800, 200, 200, 1400, 400, 200, 1600, 2400, 200, 800, 2400, 1600, 4000, 1000, 1200, 400, 200, 200, 2600, 3200, 1200, 7153], \"sizemode\": \"area\", \"sizeref\": 1168.5}, \"name\": \"\", \"showlegend\": false, \"type\": \"scattergeo\"}], \"name\": \"2020-02-01\"}, {\"data\": [{\"geo\": \"geo\", \"hoverlabel\": {\"namelength\": 0}, \"hovertemplate\": \"<b>%{hovertext}</b><br><br>Date=2020-01-31<br>Size=%{marker.size}<br>Country/Region=%{location}<br>Confirmed=%{marker.color}\", \"hovertext\": [\"UK\", \"Italy\", \"Finland\", \"Japan\", \"Nepal\", \"Singapore\", \"Taiwan\", \"Philippines\", \"Thailand\", \"Sweden\", \"Russia\", \"Germany\", \"Sri Lanka\", \"Cambodia\", \"US\", \"South Korea\", \"France\", \"India\", \"Malaysia\", \"Australia\", \"Vietnam\", \"Hong Kong\", \"Mainland China\", \"United Arab Emirates\", \"Macau\", \"Canada\"], \"legendgroup\": \"\", \"locationmode\": \"country names\", \"locations\": [\"UK\", \"Italy\", \"Finland\", \"Japan\", \"Nepal\", \"Singapore\", \"Taiwan\", \"Philippines\", \"Thailand\", \"Sweden\", \"Russia\", \"Germany\", \"Sri Lanka\", \"Cambodia\", \"US\", \"South Korea\", \"France\", \"India\", \"Malaysia\", \"Australia\", \"Vietnam\", \"Hong Kong\", \"Mainland China\", \"United Arab Emirates\", \"Macau\", \"Canada\"], \"marker\": {\"color\": [2, 2, 1, 15, 1, 13, 10, 1, 19, 1, 2, 5, 1, 1, 6, 11, 5, 1, 8, 9, 2, 12, 9783, 4, 7, 3], \"coloraxis\": \"coloraxis\", \"size\": [400, 400, 200, 3000, 200, 2600, 2000, 200, 3800, 200, 400, 1000, 200, 200, 1200, 2200, 1000, 200, 1600, 1800, 400, 2400, 9783, 800, 1400, 600], \"sizemode\": \"area\", \"sizeref\": 1168.5}, \"name\": \"\", \"showlegend\": false, \"type\": \"scattergeo\"}], \"name\": \"2020-01-31\"}, {\"data\": [{\"geo\": \"geo\", \"hoverlabel\": {\"namelength\": 0}, \"hovertemplate\": \"<b>%{hovertext}</b><br><br>Date=2020-02-05<br>Size=%{marker.size}<br>Country/Region=%{location}<br>Confirmed=%{marker.color}\", \"hovertext\": [\"Cambodia\", \"Sri Lanka\", \"Finland\", \"Italy\", \"Nepal\", \"Russia\", \"France\", \"UK\", \"Sweden\", \"Spain\", \"Philippines\", \"United Arab Emirates\", \"Germany\", \"Vietnam\", \"India\", \"Macau\", \"Taiwan\", \"Thailand\", \"Belgium\", \"Japan\", \"Australia\", \"Hong Kong\", \"South Korea\", \"Malaysia\", \"Singapore\", \"Canada\", \"US\", \"Mainland China\"], \"legendgroup\": \"\", \"locationmode\": \"country names\", \"locations\": [\"Cambodia\", \"Sri Lanka\", \"Finland\", \"Italy\", \"Nepal\", \"Russia\", \"France\", \"UK\", \"Sweden\", \"Spain\", \"Philippines\", \"United Arab Emirates\", \"Germany\", \"Vietnam\", \"India\", \"Macau\", \"Taiwan\", \"Thailand\", \"Belgium\", \"Japan\", \"Australia\", \"Hong Kong\", \"South Korea\", \"Malaysia\", \"Singapore\", \"Canada\", \"US\", \"Mainland China\"], \"marker\": {\"color\": [1, 1, 1, 2, 1, 2, 6, 2, 1, 1, 2, 5, 12, 8, 3, 10, 11, 25, 1, 22, 8, 21, 19, 12, 28, 2, 5, 19665], \"coloraxis\": \"coloraxis\", \"size\": [200, 200, 200, 400, 200, 400, 1200, 400, 200, 200, 400, 1000, 2400, 1600, 600, 2000, 2200, 5000, 200, 4400, 1600, 4200, 3800, 2400, 5600, 400, 1000, 19665], \"sizemode\": \"area\", \"sizeref\": 1168.5}, \"name\": \"\", \"showlegend\": false, \"type\": \"scattergeo\"}], \"name\": \"2020-02-05\"}, {\"data\": [{\"geo\": \"geo\", \"hoverlabel\": {\"namelength\": 0}, \"hovertemplate\": \"<b>%{hovertext}</b><br><br>Date=2020-02-10<br>Size=%{marker.size}<br>Country/Region=%{location}<br>Confirmed=%{marker.color}\", \"hovertext\": [\"Nepal\", \"Cambodia\", \"Finland\", \"Russia\", \"Sweden\", \"India\", \"Belgium\", \"Macau\", \"Canada\", \"Philippines\", \"Italy\", \"Sri Lanka\", \"France\", \"Thailand\", \"Germany\", \"Taiwan\", \"US\", \"Australia\", \"Spain\", \"South Korea\", \"Malaysia\", \"Vietnam\", \"Hong Kong\", \"Others\", \"UK\", \"Singapore\", \"Japan\", \"United Arab Emirates\", \"Mainland China\"], \"legendgroup\": \"\", \"locationmode\": \"country names\", \"locations\": [\"Nepal\", \"Cambodia\", \"Finland\", \"Russia\", \"Sweden\", \"India\", \"Belgium\", \"Macau\", \"Canada\", \"Philippines\", \"Italy\", \"Sri Lanka\", \"France\", \"Thailand\", \"Germany\", \"Taiwan\", \"US\", \"Australia\", \"Spain\", \"South Korea\", \"Malaysia\", \"Vietnam\", \"Hong Kong\", \"Others\", \"UK\", \"Singapore\", \"Japan\", \"United Arab Emirates\", \"Mainland China\"], \"marker\": {\"color\": [1, 1, 1, 2, 1, 3, 1, 10, 4, 3, 3, 1, 11, 32, 14, 18, 2, 5, 2, 27, 18, 14, 38, 135, 8, 45, 26, 8, 31728], \"coloraxis\": \"coloraxis\", \"size\": [200, 200, 200, 400, 200, 600, 200, 2000, 800, 600, 600, 200, 2200, 6400, 2800, 3600, 400, 1000, 400, 5400, 3600, 2800, 7600, 27000, 1600, 9000, 5200, 1600, 31728], \"sizemode\": \"area\", \"sizeref\": 1168.5}, \"name\": \"\", \"showlegend\": false, \"type\": \"scattergeo\"}], \"name\": \"2020-02-10\"}, {\"data\": [{\"geo\": \"geo\", \"hoverlabel\": {\"namelength\": 0}, \"hovertemplate\": \"<b>%{hovertext}</b><br><br>Date=2020-02-11<br>Size=%{marker.size}<br>Country/Region=%{location}<br>Confirmed=%{marker.color}\", \"hovertext\": [\"Nepal\", \"Cambodia\", \"Finland\", \"Russia\", \"Sweden\", \"India\", \"Belgium\", \"Macau\", \"Canada\", \"Philippines\", \"Italy\", \"Sri Lanka\", \"France\", \"Taiwan\", \"Australia\", \"Spain\", \"Others\", \"UK\", \"United Arab Emirates\", \"US\", \"Japan\", \"South Korea\", \"Malaysia\", \"Hong Kong\", \"Singapore\", \"Vietnam\", \"Thailand\", \"Germany\", \"Mainland China\"], \"legendgroup\": \"\", \"locationmode\": \"country names\", \"locations\": [\"Nepal\", \"Cambodia\", \"Finland\", \"Russia\", \"Sweden\", \"India\", \"Belgium\", \"Macau\", \"Canada\", \"Philippines\", \"Italy\", \"Sri Lanka\", \"France\", \"Taiwan\", \"Australia\", \"Spain\", \"Others\", \"UK\", \"United Arab Emirates\", \"US\", \"Japan\", \"South Korea\", \"Malaysia\", \"Hong Kong\", \"Singapore\", \"Vietnam\", \"Thailand\", \"Germany\", \"Mainland China\"], \"marker\": {\"color\": [1, 1, 1, 2, 1, 3, 1, 10, 4, 3, 3, 1, 11, 18, 5, 2, 135, 8, 8, 2, 26, 28, 18, 49, 47, 15, 33, 16, 33490], \"coloraxis\": \"coloraxis\", \"size\": [200, 200, 200, 400, 200, 600, 200, 2000, 800, 600, 600, 200, 2200, 3600, 1000, 400, 27000, 1600, 1600, 400, 5200, 5600, 3600, 9800, 9400, 3000, 6600, 3200, 33490], \"sizemode\": \"area\", \"sizeref\": 1168.5}, \"name\": \"\", \"showlegend\": false, \"type\": \"scattergeo\"}], \"name\": \"2020-02-11\"}, {\"data\": [{\"geo\": \"geo\", \"hoverlabel\": {\"namelength\": 0}, \"hovertemplate\": \"<b>%{hovertext}</b><br><br>Date=2020-02-06<br>Size=%{marker.size}<br>Country/Region=%{location}<br>Confirmed=%{marker.color}\", \"hovertext\": [\"Cambodia\", \"Sri Lanka\", \"Italy\", \"Finland\", \"Nepal\", \"Russia\", \"France\", \"UK\", \"Sweden\", \"Spain\", \"Philippines\", \"United Arab Emirates\", \"Germany\", \"India\", \"Thailand\", \"Belgium\", \"Malaysia\", \"Singapore\", \"Canada\", \"US\", \"Vietnam\", \"Japan\", \"South Korea\", \"Australia\", \"Macau\", \"Hong Kong\", \"Taiwan\", \"Mainland China\"], \"legendgroup\": \"\", \"locationmode\": \"country names\", \"locations\": [\"Cambodia\", \"Sri Lanka\", \"Italy\", \"Finland\", \"Nepal\", \"Russia\", \"France\", \"UK\", \"Sweden\", \"Spain\", \"Philippines\", \"United Arab Emirates\", \"Germany\", \"India\", \"Thailand\", \"Belgium\", \"Malaysia\", \"Singapore\", \"Canada\", \"US\", \"Vietnam\", \"Japan\", \"South Korea\", \"Australia\", \"Macau\", \"Hong Kong\", \"Taiwan\", \"Mainland China\"], \"marker\": {\"color\": [1, 1, 2, 1, 1, 2, 6, 2, 1, 1, 2, 5, 12, 3, 25, 1, 12, 28, 2, 5, 10, 45, 23, 4, 10, 24, 16, 22112], \"coloraxis\": \"coloraxis\", \"size\": [200, 200, 400, 200, 200, 400, 1200, 400, 200, 200, 400, 1000, 2400, 600, 5000, 200, 2400, 5600, 400, 1000, 2000, 9000, 4600, 800, 2000, 4800, 3200, 22112], \"sizemode\": \"area\", \"sizeref\": 1168.5}, \"name\": \"\", \"showlegend\": false, \"type\": \"scattergeo\"}], \"name\": \"2020-02-06\"}, {\"data\": [{\"geo\": \"geo\", \"hoverlabel\": {\"namelength\": 0}, \"hovertemplate\": \"<b>%{hovertext}</b><br><br>Date=2020-02-02<br>Size=%{marker.size}<br>Country/Region=%{location}<br>Confirmed=%{marker.color}\", \"hovertext\": [\"Cambodia\", \"Sri Lanka\", \"Nepal\", \"Finland\", \"Malaysia\", \"Italy\", \"Thailand\", \"Taiwan\", \"Russia\", \"France\", \"UK\", \"Sweden\", \"Vietnam\", \"Canada\", \"Japan\", \"US\", \"Spain\", \"Singapore\", \"South Korea\", \"Philippines\", \"Macau\", \"United Arab Emirates\", \"India\", \"Germany\", \"Australia\", \"Mainland China\", \"Hong Kong\"], \"legendgroup\": \"\", \"locationmode\": \"country names\", \"locations\": [\"Cambodia\", \"Sri Lanka\", \"Nepal\", \"Finland\", \"Malaysia\", \"Italy\", \"Thailand\", \"Taiwan\", \"Russia\", \"France\", \"UK\", \"Sweden\", \"Vietnam\", \"Canada\", \"Japan\", \"US\", \"Spain\", \"Singapore\", \"South Korea\", \"Philippines\", \"Macau\", \"United Arab Emirates\", \"India\", \"Germany\", \"Australia\", \"Mainland China\", \"Hong Kong\"], \"marker\": {\"color\": [1, 1, 1, 1, 8, 2, 19, 10, 2, 6, 2, 1, 6, 4, 20, 5, 1, 18, 15, 2, 8, 5, 2, 10, 8, 11228, 15], \"coloraxis\": \"coloraxis\", \"size\": [200, 200, 200, 200, 1600, 400, 3800, 2000, 400, 1200, 400, 200, 1200, 800, 4000, 1000, 200, 3600, 3000, 400, 1600, 1000, 400, 2000, 1600, 11228, 3000], \"sizemode\": \"area\", \"sizeref\": 1168.5}, \"name\": \"\", \"showlegend\": false, \"type\": \"scattergeo\"}], \"name\": \"2020-02-02\"}, {\"data\": [{\"geo\": \"geo\", \"hoverlabel\": {\"namelength\": 0}, \"hovertemplate\": \"<b>%{hovertext}</b><br><br>Date=2020-02-08<br>Size=%{marker.size}<br>Country/Region=%{location}<br>Confirmed=%{marker.color}\", \"hovertext\": [\"Cambodia\", \"Finland\", \"Nepal\", \"Russia\", \"Sweden\", \"Spain\", \"India\", \"Belgium\", \"US\", \"Macau\", \"Australia\", \"South Korea\", \"Japan\", \"Canada\", \"Germany\", \"Others\", \"Philippines\", \"Italy\", \"UK\", \"Hong Kong\", \"Sri Lanka\", \"Taiwan\", \"United Arab Emirates\", \"Vietnam\", \"France\", \"Malaysia\", \"Thailand\", \"Singapore\", \"Mainland China\"], \"legendgroup\": \"\", \"locationmode\": \"country names\", \"locations\": [\"Cambodia\", \"Finland\", \"Nepal\", \"Russia\", \"Sweden\", \"Spain\", \"India\", \"Belgium\", \"US\", \"Macau\", \"Australia\", \"South Korea\", \"Japan\", \"Canada\", \"Germany\", \"Others\", \"Philippines\", \"Italy\", \"UK\", \"Hong Kong\", \"Sri Lanka\", \"Taiwan\", \"United Arab Emirates\", \"Vietnam\", \"France\", \"Malaysia\", \"Thailand\", \"Singapore\", \"Mainland China\"], \"marker\": {\"color\": [1, 1, 1, 2, 1, 1, 3, 1, 5, 10, 5, 24, 25, 4, 13, 61, 3, 3, 3, 26, 1, 17, 7, 13, 11, 16, 32, 33, 27100], \"coloraxis\": \"coloraxis\", \"size\": [200, 200, 200, 400, 200, 200, 600, 200, 1000, 2000, 1000, 4800, 5000, 800, 2600, 12200, 600, 600, 600, 5200, 200, 3400, 1400, 2600, 2200, 3200, 6400, 6600, 27100], \"sizemode\": \"area\", \"sizeref\": 1168.5}, \"name\": \"\", \"showlegend\": false, \"type\": \"scattergeo\"}], \"name\": \"2020-02-08\"}, {\"data\": [{\"geo\": \"geo\", \"hoverlabel\": {\"namelength\": 0}, \"hovertemplate\": \"<b>%{hovertext}</b><br><br>Date=2020-02-09<br>Size=%{marker.size}<br>Country/Region=%{location}<br>Confirmed=%{marker.color}\", \"hovertext\": [\"Cambodia\", \"Finland\", \"Nepal\", \"Russia\", \"Sweden\", \"India\", \"Belgium\", \"Macau\", \"Canada\", \"Philippines\", \"Italy\", \"UK\", \"Sri Lanka\", \"United Arab Emirates\", \"Vietnam\", \"France\", \"Malaysia\", \"Thailand\", \"South Korea\", \"Singapore\", \"Germany\", \"Japan\", \"Others\", \"Taiwan\", \"Hong Kong\", \"US\", \"Australia\", \"Spain\", \"Mainland China\"], \"legendgroup\": \"\", \"locationmode\": \"country names\", \"locations\": [\"Cambodia\", \"Finland\", \"Nepal\", \"Russia\", \"Sweden\", \"India\", \"Belgium\", \"Macau\", \"Canada\", \"Philippines\", \"Italy\", \"UK\", \"Sri Lanka\", \"United Arab Emirates\", \"Vietnam\", \"France\", \"Malaysia\", \"Thailand\", \"South Korea\", \"Singapore\", \"Germany\", \"Japan\", \"Others\", \"Taiwan\", \"Hong Kong\", \"US\", \"Australia\", \"Spain\", \"Mainland China\"], \"marker\": {\"color\": [1, 1, 1, 2, 1, 3, 1, 10, 4, 3, 3, 3, 1, 7, 13, 11, 16, 32, 25, 40, 14, 26, 64, 18, 29, 2, 5, 2, 29714], \"coloraxis\": \"coloraxis\", \"size\": [200, 200, 200, 400, 200, 600, 200, 2000, 800, 600, 600, 600, 200, 1400, 2600, 2200, 3200, 6400, 5000, 8000, 2800, 5200, 12800, 3600, 5800, 400, 1000, 400, 29714], \"sizemode\": \"area\", \"sizeref\": 1168.5}, \"name\": \"\", \"showlegend\": false, \"type\": \"scattergeo\"}], \"name\": \"2020-02-09\"}, {\"data\": [{\"geo\": \"geo\", \"hoverlabel\": {\"namelength\": 0}, \"hovertemplate\": \"<b>%{hovertext}</b><br><br>Date=2020-02-03<br>Size=%{marker.size}<br>Country/Region=%{location}<br>Confirmed=%{marker.color}\", \"hovertext\": [\"Sri Lanka\", \"Malaysia\", \"Nepal\", \"Cambodia\", \"Finland\", \"Italy\", \"Thailand\", \"Taiwan\", \"Russia\", \"France\", \"UK\", \"Sweden\", \"Canada\", \"Japan\", \"Spain\", \"Singapore\", \"South Korea\", \"Philippines\", \"Macau\", \"United Arab Emirates\", \"Australia\", \"Hong Kong\", \"US\", \"Germany\", \"Vietnam\", \"India\", \"Mainland China\"], \"legendgroup\": \"\", \"locationmode\": \"country names\", \"locations\": [\"Sri Lanka\", \"Malaysia\", \"Nepal\", \"Cambodia\", \"Finland\", \"Italy\", \"Thailand\", \"Taiwan\", \"Russia\", \"France\", \"UK\", \"Sweden\", \"Canada\", \"Japan\", \"Spain\", \"Singapore\", \"South Korea\", \"Philippines\", \"Macau\", \"United Arab Emirates\", \"Australia\", \"Hong Kong\", \"US\", \"Germany\", \"Vietnam\", \"India\", \"Mainland China\"], \"marker\": {\"color\": [1, 8, 1, 1, 1, 2, 19, 10, 2, 6, 2, 1, 4, 20, 1, 18, 15, 2, 8, 5, 8, 15, 5, 12, 8, 3, 13639], \"coloraxis\": \"coloraxis\", \"size\": [200, 1600, 200, 200, 200, 400, 3800, 2000, 400, 1200, 400, 200, 800, 4000, 200, 3600, 3000, 400, 1600, 1000, 1600, 3000, 1000, 2400, 1600, 600, 13639], \"sizemode\": \"area\", \"sizeref\": 1168.5}, \"name\": \"\", \"showlegend\": false, \"type\": \"scattergeo\"}], \"name\": \"2020-02-03\"}, {\"data\": [{\"geo\": \"geo\", \"hoverlabel\": {\"namelength\": 0}, \"hovertemplate\": \"<b>%{hovertext}</b><br><br>Date=2020-02-04<br>Size=%{marker.size}<br>Country/Region=%{location}<br>Confirmed=%{marker.color}\", \"hovertext\": [\"Sri Lanka\", \"Nepal\", \"Finland\", \"Italy\", \"Cambodia\", \"Russia\", \"France\", \"UK\", \"Sweden\", \"Spain\", \"Philippines\", \"United Arab Emirates\", \"US\", \"Germany\", \"Vietnam\", \"India\", \"Canada\", \"Macau\", \"Malaysia\", \"Hong Kong\", \"Taiwan\", \"Thailand\", \"Singapore\", \"South Korea\", \"Belgium\", \"Japan\", \"Australia\", \"Mainland China\"], \"legendgroup\": \"\", \"locationmode\": \"country names\", \"locations\": [\"Sri Lanka\", \"Nepal\", \"Finland\", \"Italy\", \"Cambodia\", \"Russia\", \"France\", \"UK\", \"Sweden\", \"Spain\", \"Philippines\", \"United Arab Emirates\", \"US\", \"Germany\", \"Vietnam\", \"India\", \"Canada\", \"Macau\", \"Malaysia\", \"Hong Kong\", \"Taiwan\", \"Thailand\", \"Singapore\", \"South Korea\", \"Belgium\", \"Japan\", \"Australia\", \"Mainland China\"], \"marker\": {\"color\": [1, 1, 1, 2, 1, 2, 6, 2, 1, 1, 2, 5, 5, 12, 8, 3, 2, 10, 10, 17, 11, 25, 24, 16, 1, 22, 8, 17044], \"coloraxis\": \"coloraxis\", \"size\": [200, 200, 200, 400, 200, 400, 1200, 400, 200, 200, 400, 1000, 1000, 2400, 1600, 600, 400, 2000, 2000, 3400, 2200, 5000, 4800, 3200, 200, 4400, 1600, 17044], \"sizemode\": \"area\", \"sizeref\": 1168.5}, \"name\": \"\", \"showlegend\": false, \"type\": \"scattergeo\"}], \"name\": \"2020-02-04\"}, {\"data\": [{\"geo\": \"geo\", \"hoverlabel\": {\"namelength\": 0}, \"hovertemplate\": \"<b>%{hovertext}</b><br><br>Date=2020-02-07<br>Size=%{marker.size}<br>Country/Region=%{location}<br>Confirmed=%{marker.color}\", \"hovertext\": [\"Sri Lanka\", \"Cambodia\", \"Finland\", \"Nepal\", \"Russia\", \"France\", \"Sweden\", \"Spain\", \"United Arab Emirates\", \"India\", \"Thailand\", \"Belgium\", \"US\", \"Vietnam\", \"Macau\", \"Taiwan\", \"Australia\", \"South Korea\", \"Singapore\", \"Japan\", \"Canada\", \"Malaysia\", \"Hong Kong\", \"Others\", \"Germany\", \"Philippines\", \"Italy\", \"UK\", \"Mainland China\"], \"legendgroup\": \"\", \"locationmode\": \"country names\", \"locations\": [\"Sri Lanka\", \"Cambodia\", \"Finland\", \"Nepal\", \"Russia\", \"France\", \"Sweden\", \"Spain\", \"United Arab Emirates\", \"India\", \"Thailand\", \"Belgium\", \"US\", \"Vietnam\", \"Macau\", \"Taiwan\", \"Australia\", \"South Korea\", \"Singapore\", \"Japan\", \"Canada\", \"Malaysia\", \"Hong Kong\", \"Others\", \"Germany\", \"Philippines\", \"Italy\", \"UK\", \"Mainland China\"], \"marker\": {\"color\": [1, 1, 1, 1, 2, 6, 1, 1, 5, 3, 25, 1, 5, 10, 10, 16, 5, 24, 30, 25, 4, 12, 25, 61, 13, 3, 3, 3, 25057], \"coloraxis\": \"coloraxis\", \"size\": [200, 200, 200, 200, 400, 1200, 200, 200, 1000, 600, 5000, 200, 1000, 2000, 2000, 3200, 1000, 4800, 6000, 5000, 800, 2400, 5000, 12200, 2600, 600, 600, 600, 25057], \"sizemode\": \"area\", \"sizeref\": 1168.5}, \"name\": \"\", \"showlegend\": false, \"type\": \"scattergeo\"}], \"name\": \"2020-02-07\"}, {\"data\": [{\"geo\": \"geo\", \"hoverlabel\": {\"namelength\": 0}, \"hovertemplate\": \"<b>%{hovertext}</b><br><br>Date=2020-02-12<br>Size=%{marker.size}<br>Country/Region=%{location}<br>Confirmed=%{marker.color}\", \"hovertext\": [\"Sweden\", \"India\", \"Belgium\", \"Italy\", \"Sri Lanka\", \"Taiwan\", \"Australia\", \"Spain\", \"US\", \"Malaysia\", \"Vietnam\", \"Thailand\", \"Germany\", \"Finland\", \"United Arab Emirates\", \"Japan\", \"Others\", \"Philippines\", \"Cambodia\", \"Hong Kong\", \"Macau\", \"Nepal\", \"South Korea\", \"Russia\", \"France\", \"Canada\", \"UK\", \"Singapore\", \"Mainland China\"], \"legendgroup\": \"\", \"locationmode\": \"country names\", \"locations\": [\"Sweden\", \"India\", \"Belgium\", \"Italy\", \"Sri Lanka\", \"Taiwan\", \"Australia\", \"Spain\", \"US\", \"Malaysia\", \"Vietnam\", \"Thailand\", \"Germany\", \"Finland\", \"United Arab Emirates\", \"Japan\", \"Others\", \"Philippines\", \"Cambodia\", \"Hong Kong\", \"Macau\", \"Nepal\", \"South Korea\", \"Russia\", \"France\", \"Canada\", \"UK\", \"Singapore\", \"Mainland China\"], \"marker\": {\"color\": [1, 3, 1, 3, 1, 18, 5, 2, 2, 18, 15, 33, 16, 1, 8, 28, 175, 3, 1, 50, 10, 1, 28, 2, 11, 4, 9, 50, 35659], \"coloraxis\": \"coloraxis\", \"size\": [200, 600, 200, 600, 200, 3600, 1000, 400, 400, 3600, 3000, 6600, 3200, 200, 1600, 5600, 35000, 600, 200, 10000, 2000, 200, 5600, 400, 2200, 800, 1800, 10000, 35659], \"sizemode\": \"area\", \"sizeref\": 1168.5}, \"name\": \"\", \"showlegend\": false, \"type\": \"scattergeo\"}], \"name\": \"2020-02-12\"}, {\"data\": [{\"geo\": \"geo\", \"hoverlabel\": {\"namelength\": 0}, \"hovertemplate\": \"<b>%{hovertext}</b><br><br>Date=2020-02-13<br>Size=%{marker.size}<br>Country/Region=%{location}<br>Confirmed=%{marker.color}\", \"hovertext\": [\"Sweden\", \"Belgium\", \"Italy\", \"Sri Lanka\", \"Taiwan\", \"Spain\", \"Finland\", \"United Arab Emirates\", \"Others\", \"Philippines\", \"Cambodia\", \"South Korea\", \"Russia\", \"Nepal\", \"France\", \"Canada\", \"UK\", \"Vietnam\", \"Malaysia\", \"Japan\", \"Macau\", \"Singapore\", \"Hong Kong\", \"Germany\", \"Australia\", \"Thailand\", \"US\", \"India\", \"Mainland China\"], \"legendgroup\": \"\", \"locationmode\": \"country names\", \"locations\": [\"Sweden\", \"Belgium\", \"Italy\", \"Sri Lanka\", \"Taiwan\", \"Spain\", \"Finland\", \"United Arab Emirates\", \"Others\", \"Philippines\", \"Cambodia\", \"South Korea\", \"Russia\", \"Nepal\", \"France\", \"Canada\", \"UK\", \"Vietnam\", \"Malaysia\", \"Japan\", \"Macau\", \"Singapore\", \"Hong Kong\", \"Germany\", \"Australia\", \"Thailand\", \"US\", \"India\", \"Mainland China\"], \"marker\": {\"color\": [1, 1, 3, 1, 18, 2, 1, 8, 175, 3, 1, 28, 2, 1, 11, 4, 9, 16, 19, 28, 10, 58, 53, 16, 8, 33, 2, 3, 49717], \"coloraxis\": \"coloraxis\", \"size\": [200, 200, 600, 200, 3600, 400, 200, 1600, 35000, 600, 200, 5600, 400, 200, 2200, 800, 1800, 3200, 3800, 5600, 2000, 11600, 10600, 3200, 1600, 6600, 400, 600, 49717], \"sizemode\": \"area\", \"sizeref\": 1168.5}, \"name\": \"\", \"showlegend\": false, \"type\": \"scattergeo\"}], \"name\": \"2020-02-13\"}, {\"data\": [{\"geo\": \"geo\", \"hoverlabel\": {\"namelength\": 0}, \"hovertemplate\": \"<b>%{hovertext}</b><br><br>Date=2020-02-16<br>Size=%{marker.size}<br>Country/Region=%{location}<br>Confirmed=%{marker.color}\", \"hovertext\": [\"Sweden\", \"Belgium\", \"Italy\", \"Sri Lanka\", \"Finland\", \"Philippines\", \"Cambodia\", \"Russia\", \"Nepal\", \"Canada\", \"Vietnam\", \"Germany\", \"Australia\", \"US\", \"Egypt\", \"Spain\", \"France\", \"Malaysia\", \"South Korea\", \"Others\", \"India\", \"Hong Kong\", \"Taiwan\", \"Macau\", \"Singapore\", \"UK\", \"Japan\", \"Thailand\", \"United Arab Emirates\", \"Mainland China\"], \"legendgroup\": \"\", \"locationmode\": \"country names\", \"locations\": [\"Sweden\", \"Belgium\", \"Italy\", \"Sri Lanka\", \"Finland\", \"Philippines\", \"Cambodia\", \"Russia\", \"Nepal\", \"Canada\", \"Vietnam\", \"Germany\", \"Australia\", \"US\", \"Egypt\", \"Spain\", \"France\", \"Malaysia\", \"South Korea\", \"Others\", \"India\", \"Hong Kong\", \"Taiwan\", \"Macau\", \"Singapore\", \"UK\", \"Japan\", \"Thailand\", \"United Arab Emirates\", \"Mainland China\"], \"marker\": {\"color\": [1, 1, 3, 1, 1, 3, 1, 2, 1, 4, 16, 16, 8, 2, 1, 2, 12, 22, 29, 355, 3, 57, 20, 10, 75, 9, 59, 34, 9, 58862], \"coloraxis\": \"coloraxis\", \"size\": [200, 200, 600, 200, 200, 600, 200, 400, 200, 800, 3200, 3200, 1600, 400, 200, 400, 2400, 4400, 5800, 71000, 600, 11400, 4000, 2000, 15000, 1800, 11800, 6800, 1800, 58862], \"sizemode\": \"area\", \"sizeref\": 1168.5}, \"name\": \"\", \"showlegend\": false, \"type\": \"scattergeo\"}], \"name\": \"2020-02-16\"}, {\"data\": [{\"geo\": \"geo\", \"hoverlabel\": {\"namelength\": 0}, \"hovertemplate\": \"<b>%{hovertext}</b><br><br>Date=2020-02-15<br>Size=%{marker.size}<br>Country/Region=%{location}<br>Confirmed=%{marker.color}\", \"hovertext\": [\"Sweden\", \"Belgium\", \"Italy\", \"Sri Lanka\", \"Finland\", \"Philippines\", \"Cambodia\", \"Nepal\", \"Russia\", \"Canada\", \"UK\", \"Vietnam\", \"Macau\", \"Germany\", \"Australia\", \"Thailand\", \"US\", \"India\", \"Hong Kong\", \"Egypt\", \"Taiwan\", \"United Arab Emirates\", \"Others\", \"Spain\", \"Japan\", \"France\", \"Mainland China\", \"South Korea\", \"Malaysia\", \"Singapore\"], \"legendgroup\": \"\", \"locationmode\": \"country names\", \"locations\": [\"Sweden\", \"Belgium\", \"Italy\", \"Sri Lanka\", \"Finland\", \"Philippines\", \"Cambodia\", \"Nepal\", \"Russia\", \"Canada\", \"UK\", \"Vietnam\", \"Macau\", \"Germany\", \"Australia\", \"Thailand\", \"US\", \"India\", \"Hong Kong\", \"Egypt\", \"Taiwan\", \"United Arab Emirates\", \"Others\", \"Spain\", \"Japan\", \"France\", \"Mainland China\", \"South Korea\", \"Malaysia\", \"Singapore\"], \"marker\": {\"color\": [1, 1, 3, 1, 1, 3, 1, 1, 2, 4, 9, 16, 10, 16, 8, 33, 2, 3, 56, 1, 18, 8, 285, 2, 43, 12, 56377, 28, 22, 72], \"coloraxis\": \"coloraxis\", \"size\": [200, 200, 600, 200, 200, 600, 200, 200, 400, 800, 1800, 3200, 2000, 3200, 1600, 6600, 400, 600, 11200, 200, 3600, 1600, 57000, 400, 8600, 2400, 56377, 5600, 4400, 14400], \"sizemode\": \"area\", \"sizeref\": 1168.5}, \"name\": \"\", \"showlegend\": false, \"type\": \"scattergeo\"}], \"name\": \"2020-02-15\"}, {\"data\": [{\"geo\": \"geo\", \"hoverlabel\": {\"namelength\": 0}, \"hovertemplate\": \"<b>%{hovertext}</b><br><br>Date=2020-02-25<br>Size=%{marker.size}<br>Country/Region=%{location}<br>Confirmed=%{marker.color}\", \"hovertext\": [\"Sweden\", \"Sri Lanka\", \"Finland\", \"Philippines\", \"Cambodia\", \"Russia\", \"Nepal\", \"India\", \"Belgium\", \"Egypt\", \"United Arab Emirates\", \"Australia\", \"Lebanon\", \"Israel\", \"Others\", \"UK\", \"Malaysia\", \"Afghanistan\", \"Iraq\", \"Oman\", \"Canada\", \"Taiwan\", \"South Korea\", \"Vietnam\", \"Thailand\", \"Hong Kong\", \"Iran\", \"Japan\", \"Macau\", \"Croatia\", \"Singapore\", \"Austria\", \"Italy\", \"Bahrain\", \"Switzerland\", \"France\", \"US\", \"Spain\", \"Germany\", \"Algeria\", \"Kuwait\", \"Mainland China\"], \"legendgroup\": \"\", \"locationmode\": \"country names\", \"locations\": [\"Sweden\", \"Sri Lanka\", \"Finland\", \"Philippines\", \"Cambodia\", \"Russia\", \"Nepal\", \"India\", \"Belgium\", \"Egypt\", \"United Arab Emirates\", \"Australia\", \"Lebanon\", \"Israel\", \"Others\", \"UK\", \"Malaysia\", \"Afghanistan\", \"Iraq\", \"Oman\", \"Canada\", \"Taiwan\", \"South Korea\", \"Vietnam\", \"Thailand\", \"Hong Kong\", \"Iran\", \"Japan\", \"Macau\", \"Croatia\", \"Singapore\", \"Austria\", \"Italy\", \"Bahrain\", \"Switzerland\", \"France\", \"US\", \"Spain\", \"Germany\", \"Algeria\", \"Kuwait\", \"Mainland China\"], \"marker\": {\"color\": [1, 1, 1, 3, 1, 2, 1, 3, 1, 1, 13, 8, 1, 1, 691, 13, 22, 1, 1, 2, 7, 31, 977, 16, 37, 84, 95, 170, 10, 1, 91, 2, 322, 23, 1, 14, 37, 6, 17, 1, 11, 65739], \"coloraxis\": \"coloraxis\", \"size\": [200, 200, 200, 600, 200, 400, 200, 600, 200, 200, 2600, 1600, 200, 200, 138200, 2600, 4400, 200, 200, 400, 1400, 6200, 195400, 3200, 7400, 16800, 19000, 34000, 2000, 200, 18200, 400, 64400, 4600, 200, 2800, 7400, 1200, 3400, 200, 2200, 65739], \"sizemode\": \"area\", \"sizeref\": 1168.5}, \"name\": \"\", \"showlegend\": false, \"type\": \"scattergeo\"}], \"name\": \"2020-02-25\"}, {\"data\": [{\"geo\": \"geo\", \"hoverlabel\": {\"namelength\": 0}, \"hovertemplate\": \"<b>%{hovertext}</b><br><br>Date=2020-02-24<br>Size=%{marker.size}<br>Country/Region=%{location}<br>Confirmed=%{marker.color}\", \"hovertext\": [\"Sweden\", \"Sri Lanka\", \"Finland\", \"Philippines\", \"Cambodia\", \"Russia\", \"Nepal\", \"Spain\", \"France\", \"India\", \"Belgium\", \"Macau\", \"Vietnam\", \"Egypt\", \"Germany\", \"United Arab Emirates\", \"Australia\", \"Israel\", \"Lebanon\", \"Thailand\", \"Singapore\", \"Others\", \"UK\", \"Taiwan\", \"South Korea\", \"Iran\", \"Hong Kong\", \"Malaysia\", \"Japan\", \"Canada\", \"Mainland China\", \"Afghanistan\", \"Kuwait\", \"US\", \"Bahrain\", \"Iraq\", \"Italy\", \"Oman\"], \"legendgroup\": \"\", \"locationmode\": \"country names\", \"locations\": [\"Sweden\", \"Sri Lanka\", \"Finland\", \"Philippines\", \"Cambodia\", \"Russia\", \"Nepal\", \"Spain\", \"France\", \"India\", \"Belgium\", \"Macau\", \"Vietnam\", \"Egypt\", \"Germany\", \"United Arab Emirates\", \"Australia\", \"Israel\", \"Lebanon\", \"Thailand\", \"Singapore\", \"Others\", \"UK\", \"Taiwan\", \"South Korea\", \"Iran\", \"Hong Kong\", \"Malaysia\", \"Japan\", \"Canada\", \"Mainland China\", \"Afghanistan\", \"Kuwait\", \"US\", \"Bahrain\", \"Iraq\", \"Italy\", \"Oman\"], \"marker\": {\"color\": [1, 1, 1, 3, 1, 2, 1, 2, 12, 3, 1, 10, 16, 1, 16, 13, 8, 1, 1, 35, 89, 691, 13, 30, 833, 61, 79, 22, 159, 6, 64287, 1, 1, 36, 1, 1, 229, 2], \"coloraxis\": \"coloraxis\", \"size\": [200, 200, 200, 600, 200, 400, 200, 400, 2400, 600, 200, 2000, 3200, 200, 3200, 2600, 1600, 200, 200, 7000, 17800, 138200, 2600, 6000, 166600, 12200, 15800, 4400, 31800, 1200, 64287, 200, 200, 7200, 200, 200, 45800, 400], \"sizemode\": \"area\", \"sizeref\": 1168.5}, \"name\": \"\", \"showlegend\": false, \"type\": \"scattergeo\"}], \"name\": \"2020-02-24\"}, {\"data\": [{\"geo\": \"geo\", \"hoverlabel\": {\"namelength\": 0}, \"hovertemplate\": \"<b>%{hovertext}</b><br><br>Date=2020-02-23<br>Size=%{marker.size}<br>Country/Region=%{location}<br>Confirmed=%{marker.color}\", \"hovertext\": [\"Sweden\", \"Sri Lanka\", \"Finland\", \"Philippines\", \"Cambodia\", \"Russia\", \"Nepal\", \"Spain\", \"France\", \"India\", \"UK\", \"Belgium\", \"Malaysia\", \"Macau\", \"Canada\", \"Vietnam\", \"Egypt\", \"Germany\", \"United Arab Emirates\", \"Australia\", \"Israel\", \"Lebanon\", \"US\", \"Hong Kong\", \"Taiwan\", \"Thailand\", \"Singapore\", \"Iran\", \"Iraq\", \"Others\", \"Mainland China\", \"Japan\", \"South Korea\", \"Italy\"], \"legendgroup\": \"\", \"locationmode\": \"country names\", \"locations\": [\"Sweden\", \"Sri Lanka\", \"Finland\", \"Philippines\", \"Cambodia\", \"Russia\", \"Nepal\", \"Spain\", \"France\", \"India\", \"UK\", \"Belgium\", \"Malaysia\", \"Macau\", \"Canada\", \"Vietnam\", \"Egypt\", \"Germany\", \"United Arab Emirates\", \"Australia\", \"Israel\", \"Lebanon\", \"US\", \"Hong Kong\", \"Taiwan\", \"Thailand\", \"Singapore\", \"Iran\", \"Iraq\", \"Others\", \"Mainland China\", \"Japan\", \"South Korea\", \"Italy\"], \"marker\": {\"color\": [1, 1, 1, 3, 1, 2, 1, 2, 12, 3, 9, 1, 22, 10, 8, 16, 1, 16, 13, 8, 1, 1, 11, 74, 28, 35, 89, 43, 0, 691, 65149, 147, 602, 155], \"coloraxis\": \"coloraxis\", \"size\": [200, 200, 200, 600, 200, 400, 200, 400, 2400, 600, 1800, 200, 4400, 2000, 1600, 3200, 200, 3200, 2600, 1600, 200, 200, 2200, 14800, 5600, 7000, 17800, 8600, 0, 138200, 65149, 29400, 120400, 31000], \"sizemode\": \"area\", \"sizeref\": 1168.5}, \"name\": \"\", \"showlegend\": false, \"type\": \"scattergeo\"}], \"name\": \"2020-02-23\"}, {\"data\": [{\"geo\": \"geo\", \"hoverlabel\": {\"namelength\": 0}, \"hovertemplate\": \"<b>%{hovertext}</b><br><br>Date=2020-02-22<br>Size=%{marker.size}<br>Country/Region=%{location}<br>Confirmed=%{marker.color}\", \"hovertext\": [\"Sweden\", \"Sri Lanka\", \"Finland\", \"Philippines\", \"Cambodia\", \"Russia\", \"Nepal\", \"Spain\", \"France\", \"India\", \"UK\", \"Belgium\", \"Malaysia\", \"Macau\", \"Others\", \"Singapore\", \"Canada\", \"Vietnam\", \"Taiwan\", \"Thailand\", \"Egypt\", \"Germany\", \"South Korea\", \"Iran\", \"Hong Kong\", \"United Arab Emirates\", \"Japan\", \"Australia\", \"Lebanon\", \"Israel\", \"US\", \"Italy\", \"Mainland China\"], \"legendgroup\": \"\", \"locationmode\": \"country names\", \"locations\": [\"Sweden\", \"Sri Lanka\", \"Finland\", \"Philippines\", \"Cambodia\", \"Russia\", \"Nepal\", \"Spain\", \"France\", \"India\", \"UK\", \"Belgium\", \"Malaysia\", \"Macau\", \"Others\", \"Singapore\", \"Canada\", \"Vietnam\", \"Taiwan\", \"Thailand\", \"Egypt\", \"Germany\", \"South Korea\", \"Iran\", \"Hong Kong\", \"United Arab Emirates\", \"Japan\", \"Australia\", \"Lebanon\", \"Israel\", \"US\", \"Italy\", \"Mainland China\"], \"marker\": {\"color\": [1, 1, 1, 3, 1, 2, 1, 2, 12, 3, 9, 1, 22, 10, 634, 85, 8, 16, 26, 35, 1, 16, 433, 28, 69, 13, 122, 8, 1, 1, 11, 62, 64084], \"coloraxis\": \"coloraxis\", \"size\": [200, 200, 200, 600, 200, 400, 200, 400, 2400, 600, 1800, 200, 4400, 2000, 126800, 17000, 1600, 3200, 5200, 7000, 200, 3200, 86600, 5600, 13800, 2600, 24400, 1600, 200, 200, 2200, 12400, 64084], \"sizemode\": \"area\", \"sizeref\": 1168.5}, \"name\": \"\", \"showlegend\": false, \"type\": \"scattergeo\"}], \"name\": \"2020-02-22\"}, {\"data\": [{\"geo\": \"geo\", \"hoverlabel\": {\"namelength\": 0}, \"hovertemplate\": \"<b>%{hovertext}</b><br><br>Date=2020-02-17<br>Size=%{marker.size}<br>Country/Region=%{location}<br>Confirmed=%{marker.color}\", \"hovertext\": [\"Sweden\", \"Italy\", \"Sri Lanka\", \"Finland\", \"Philippines\", \"Cambodia\", \"Russia\", \"Nepal\", \"Vietnam\", \"Germany\", \"US\", \"Egypt\", \"Spain\", \"France\", \"Malaysia\", \"India\", \"Macau\", \"UK\", \"United Arab Emirates\", \"Belgium\", \"Thailand\", \"Canada\", \"Australia\", \"Japan\", \"Singapore\", \"Others\", \"Taiwan\", \"Hong Kong\", \"South Korea\", \"Mainland China\"], \"legendgroup\": \"\", \"locationmode\": \"country names\", \"locations\": [\"Sweden\", \"Italy\", \"Sri Lanka\", \"Finland\", \"Philippines\", \"Cambodia\", \"Russia\", \"Nepal\", \"Vietnam\", \"Germany\", \"US\", \"Egypt\", \"Spain\", \"France\", \"Malaysia\", \"India\", \"Macau\", \"UK\", \"United Arab Emirates\", \"Belgium\", \"Thailand\", \"Canada\", \"Australia\", \"Japan\", \"Singapore\", \"Others\", \"Taiwan\", \"Hong Kong\", \"South Korea\", \"Mainland China\"], \"marker\": {\"color\": [1, 3, 1, 1, 3, 1, 2, 1, 16, 16, 2, 1, 2, 12, 22, 3, 10, 9, 9, 1, 35, 5, 8, 66, 77, 454, 22, 60, 30, 60542], \"coloraxis\": \"coloraxis\", \"size\": [200, 600, 200, 200, 600, 200, 400, 200, 3200, 3200, 400, 200, 400, 2400, 4400, 600, 2000, 1800, 1800, 200, 7000, 1000, 1600, 13200, 15400, 90800, 4400, 12000, 6000, 60542], \"sizemode\": \"area\", \"sizeref\": 1168.5}, \"name\": \"\", \"showlegend\": false, \"type\": \"scattergeo\"}], \"name\": \"2020-02-17\"}, {\"data\": [{\"geo\": \"geo\", \"hoverlabel\": {\"namelength\": 0}, \"hovertemplate\": \"<b>%{hovertext}</b><br><br>Date=2020-02-21<br>Size=%{marker.size}<br>Country/Region=%{location}<br>Confirmed=%{marker.color}\", \"hovertext\": [\"Sweden\", \"Sri Lanka\", \"Finland\", \"Philippines\", \"Cambodia\", \"Russia\", \"Nepal\", \"Spain\", \"France\", \"India\", \"UK\", \"United Arab Emirates\", \"Belgium\", \"Malaysia\", \"Macau\", \"Others\", \"Hong Kong\", \"Singapore\", \"Canada\", \"Vietnam\", \"Taiwan\", \"South Korea\", \"Israel\", \"Lebanon\", \"Thailand\", \"Iran\", \"Egypt\", \"Japan\", \"Australia\", \"Germany\", \"US\", \"Mainland China\", \"Italy\"], \"legendgroup\": \"\", \"locationmode\": \"country names\", \"locations\": [\"Sweden\", \"Sri Lanka\", \"Finland\", \"Philippines\", \"Cambodia\", \"Russia\", \"Nepal\", \"Spain\", \"France\", \"India\", \"UK\", \"United Arab Emirates\", \"Belgium\", \"Malaysia\", \"Macau\", \"Others\", \"Hong Kong\", \"Singapore\", \"Canada\", \"Vietnam\", \"Taiwan\", \"South Korea\", \"Israel\", \"Lebanon\", \"Thailand\", \"Iran\", \"Egypt\", \"Japan\", \"Australia\", \"Germany\", \"US\", \"Mainland China\", \"Italy\"], \"marker\": {\"color\": [1, 1, 1, 3, 1, 2, 1, 2, 12, 3, 9, 9, 1, 22, 10, 634, 68, 85, 8, 16, 26, 204, 1, 1, 35, 18, 1, 105, 8, 16, 18, 62662, 20], \"coloraxis\": \"coloraxis\", \"size\": [200, 200, 200, 600, 200, 400, 200, 400, 2400, 600, 1800, 1800, 200, 4400, 2000, 126800, 13600, 17000, 1600, 3200, 5200, 40800, 200, 200, 7000, 3600, 200, 21000, 1600, 3200, 3600, 62662, 4000], \"sizemode\": \"area\", \"sizeref\": 1168.5}, \"name\": \"\", \"showlegend\": false, \"type\": \"scattergeo\"}], \"name\": \"2020-02-21\"}, {\"data\": [{\"geo\": \"geo\", \"hoverlabel\": {\"namelength\": 0}, \"hovertemplate\": \"<b>%{hovertext}</b><br><br>Date=2020-02-18<br>Size=%{marker.size}<br>Country/Region=%{location}<br>Confirmed=%{marker.color}\", \"hovertext\": [\"Sweden\", \"Italy\", \"Sri Lanka\", \"Finland\", \"Philippines\", \"Cambodia\", \"Russia\", \"Nepal\", \"Vietnam\", \"US\", \"Egypt\", \"Spain\", \"France\", \"India\", \"Macau\", \"UK\", \"United Arab Emirates\", \"Belgium\", \"Thailand\", \"Canada\", \"Australia\", \"Taiwan\", \"South Korea\", \"Malaysia\", \"Singapore\", \"Others\", \"Germany\", \"Japan\", \"Hong Kong\", \"Mainland China\"], \"legendgroup\": \"\", \"locationmode\": \"country names\", \"locations\": [\"Sweden\", \"Italy\", \"Sri Lanka\", \"Finland\", \"Philippines\", \"Cambodia\", \"Russia\", \"Nepal\", \"Vietnam\", \"US\", \"Egypt\", \"Spain\", \"France\", \"India\", \"Macau\", \"UK\", \"United Arab Emirates\", \"Belgium\", \"Thailand\", \"Canada\", \"Australia\", \"Taiwan\", \"South Korea\", \"Malaysia\", \"Singapore\", \"Others\", \"Germany\", \"Japan\", \"Hong Kong\", \"Mainland China\"], \"marker\": {\"color\": [1, 3, 1, 1, 3, 1, 2, 1, 16, 2, 1, 2, 12, 3, 10, 9, 9, 1, 35, 5, 8, 22, 31, 22, 81, 542, 16, 74, 62, 61682], \"coloraxis\": \"coloraxis\", \"size\": [200, 600, 200, 200, 600, 200, 400, 200, 3200, 400, 200, 400, 2400, 600, 2000, 1800, 1800, 200, 7000, 1000, 1600, 4400, 6200, 4400, 16200, 108400, 3200, 14800, 12400, 61682], \"sizemode\": \"area\", \"sizeref\": 1168.5}, \"name\": \"\", \"showlegend\": false, \"type\": \"scattergeo\"}], \"name\": \"2020-02-18\"}, {\"data\": [{\"geo\": \"geo\", \"hoverlabel\": {\"namelength\": 0}, \"hovertemplate\": \"<b>%{hovertext}</b><br><br>Date=2020-02-20<br>Size=%{marker.size}<br>Country/Region=%{location}<br>Confirmed=%{marker.color}\", \"hovertext\": [\"Sweden\", \"Italy\", \"Sri Lanka\", \"Finland\", \"Philippines\", \"Cambodia\", \"Russia\", \"Nepal\", \"Vietnam\", \"US\", \"Egypt\", \"Spain\", \"France\", \"India\", \"UK\", \"United Arab Emirates\", \"Belgium\", \"Thailand\", \"Canada\", \"Australia\", \"Germany\", \"Malaysia\", \"Singapore\", \"Macau\", \"Taiwan\", \"South Korea\", \"Japan\", \"Others\", \"Iran\", \"Hong Kong\", \"Mainland China\"], \"legendgroup\": \"\", \"locationmode\": \"country names\", \"locations\": [\"Sweden\", \"Italy\", \"Sri Lanka\", \"Finland\", \"Philippines\", \"Cambodia\", \"Russia\", \"Nepal\", \"Vietnam\", \"US\", \"Egypt\", \"Spain\", \"France\", \"India\", \"UK\", \"United Arab Emirates\", \"Belgium\", \"Thailand\", \"Canada\", \"Australia\", \"Germany\", \"Malaysia\", \"Singapore\", \"Macau\", \"Taiwan\", \"South Korea\", \"Japan\", \"Others\", \"Iran\", \"Hong Kong\", \"Mainland China\"], \"marker\": {\"color\": [1, 3, 1, 1, 3, 1, 2, 1, 16, 2, 1, 2, 12, 3, 9, 9, 1, 35, 5, 8, 16, 22, 84, 10, 24, 104, 94, 634, 5, 68, 62442], \"coloraxis\": \"coloraxis\", \"size\": [200, 600, 200, 200, 600, 200, 400, 200, 3200, 400, 200, 400, 2400, 600, 1800, 1800, 200, 7000, 1000, 1600, 3200, 4400, 16800, 2000, 4800, 20800, 18800, 126800, 1000, 13600, 62442], \"sizemode\": \"area\", \"sizeref\": 1168.5}, \"name\": \"\", \"showlegend\": false, \"type\": \"scattergeo\"}], \"name\": \"2020-02-20\"}, {\"data\": [{\"geo\": \"geo\", \"hoverlabel\": {\"namelength\": 0}, \"hovertemplate\": \"<b>%{hovertext}</b><br><br>Date=2020-02-19<br>Size=%{marker.size}<br>Country/Region=%{location}<br>Confirmed=%{marker.color}\", \"hovertext\": [\"Sweden\", \"Italy\", \"Sri Lanka\", \"Finland\", \"Philippines\", \"Cambodia\", \"Nepal\", \"Russia\", \"Vietnam\", \"US\", \"Egypt\", \"Spain\", \"France\", \"India\", \"Macau\", \"UK\", \"United Arab Emirates\", \"Belgium\", \"Thailand\", \"Canada\", \"Australia\", \"South Korea\", \"Germany\", \"Taiwan\", \"Malaysia\", \"Hong Kong\", \"Japan\", \"Others\", \"Singapore\", \"Iran\", \"Mainland China\"], \"legendgroup\": \"\", \"locationmode\": \"country names\", \"locations\": [\"Sweden\", \"Italy\", \"Sri Lanka\", \"Finland\", \"Philippines\", \"Cambodia\", \"Nepal\", \"Russia\", \"Vietnam\", \"US\", \"Egypt\", \"Spain\", \"France\", \"India\", \"Macau\", \"UK\", \"United Arab Emirates\", \"Belgium\", \"Thailand\", \"Canada\", \"Australia\", \"South Korea\", \"Germany\", \"Taiwan\", \"Malaysia\", \"Hong Kong\", \"Japan\", \"Others\", \"Singapore\", \"Iran\", \"Mainland China\"], \"marker\": {\"color\": [1, 3, 1, 1, 3, 1, 1, 2, 16, 2, 1, 2, 12, 3, 10, 9, 9, 1, 35, 5, 8, 31, 16, 23, 22, 63, 84, 621, 84, 2, 62591], \"coloraxis\": \"coloraxis\", \"size\": [200, 600, 200, 200, 600, 200, 200, 400, 3200, 400, 200, 400, 2400, 600, 2000, 1800, 1800, 200, 7000, 1000, 1600, 6200, 3200, 4600, 4400, 12600, 16800, 124200, 16800, 400, 62591], \"sizemode\": \"area\", \"sizeref\": 1168.5}, \"name\": \"\", \"showlegend\": false, \"type\": \"scattergeo\"}], \"name\": \"2020-02-19\"}, {\"data\": [{\"geo\": \"geo\", \"hoverlabel\": {\"namelength\": 0}, \"hovertemplate\": \"<b>%{hovertext}</b><br><br>Date=2020-02-14<br>Size=%{marker.size}<br>Country/Region=%{location}<br>Confirmed=%{marker.color}\", \"hovertext\": [\"Sweden\", \"Belgium\", \"Italy\", \"Sri Lanka\", \"Spain\", \"Finland\", \"United Arab Emirates\", \"Philippines\", \"Cambodia\", \"Nepal\", \"Russia\", \"South Korea\", \"France\", \"Canada\", \"UK\", \"Vietnam\", \"Malaysia\", \"Macau\", \"Germany\", \"Thailand\", \"Australia\", \"US\", \"India\", \"Others\", \"Taiwan\", \"Japan\", \"Hong Kong\", \"Singapore\", \"Mainland China\", \"Egypt\"], \"legendgroup\": \"\", \"locationmode\": \"country names\", \"locations\": [\"Sweden\", \"Belgium\", \"Italy\", \"Sri Lanka\", \"Spain\", \"Finland\", \"United Arab Emirates\", \"Philippines\", \"Cambodia\", \"Nepal\", \"Russia\", \"South Korea\", \"France\", \"Canada\", \"UK\", \"Vietnam\", \"Malaysia\", \"Macau\", \"Germany\", \"Thailand\", \"Australia\", \"US\", \"India\", \"Others\", \"Taiwan\", \"Japan\", \"Hong Kong\", \"Singapore\", \"Mainland China\", \"Egypt\"], \"marker\": {\"color\": [1, 1, 3, 1, 2, 1, 8, 3, 1, 1, 2, 28, 11, 4, 9, 16, 19, 10, 16, 33, 8, 2, 3, 218, 18, 29, 56, 67, 54943, 1], \"coloraxis\": \"coloraxis\", \"size\": [200, 200, 600, 200, 400, 200, 1600, 600, 200, 200, 400, 5600, 2200, 800, 1800, 3200, 3800, 2000, 3200, 6600, 1600, 400, 600, 43600, 3600, 5800, 11200, 13400, 54943, 200], \"sizemode\": \"area\", \"sizeref\": 1168.5}, \"name\": \"\", \"showlegend\": false, \"type\": \"scattergeo\"}], \"name\": \"2020-02-14\"}, {\"data\": [{\"geo\": \"geo\", \"hoverlabel\": {\"namelength\": 0}, \"hovertemplate\": \"<b>%{hovertext}</b><br><br>Date=2020-02-28<br>Size=%{marker.size}<br>Country/Region=%{location}<br>Confirmed=%{marker.color}\", \"hovertext\": [\"Sri Lanka\", \"Cambodia\", \"Philippines\", \"Russia\", \"Nepal\", \"India\", \"Belgium\", \"Afghanistan\", \"Vietnam\", \"Algeria\", \"Oman\", \"Finland\", \"Lebanon\", \"Singapore\", \"Pakistan\", \"Brazil\", \"Australia\", \"Macau\", \"Austria\", \"Malaysia\", \"Estonia\", \"Denmark\", \"North Macedonia\", \"Georgia\", \"Sweden\", \"San Marino\", \"Iraq\", \"Switzerland\", \"Germany\", \"Netherlands\", \"United Arab Emirates\", \"Egypt\", \"Canada\", \"North Ireland\", \"Taiwan\", \"Thailand\", \"South Korea\", \"Hong Kong\", \"Japan\", \"Mexico\", \" Azerbaijan\", \"Bahrain\", \"Spain\", \"Iceland\", \"Romania\", \"Greece\", \"Croatia\", \"Iran\", \"Israel\", \"Lithuania\", \"Kuwait\", \"Belarus\", \"Nigeria\", \"New Zealand\", \"UK\", \"Italy\", \"France\", \"Others\", \"Norway\", \"US\", \"Mainland China\"], \"legendgroup\": \"\", \"locationmode\": \"country names\", \"locations\": [\"Sri Lanka\", \"Cambodia\", \"Philippines\", \"Russia\", \"Nepal\", \"India\", \"Belgium\", \"Afghanistan\", \"Vietnam\", \"Algeria\", \"Oman\", \"Finland\", \"Lebanon\", \"Singapore\", \"Pakistan\", \"Brazil\", \"Australia\", \"Macau\", \"Austria\", \"Malaysia\", \"Estonia\", \"Denmark\", \"North Macedonia\", \"Georgia\", \"Sweden\", \"San Marino\", \"Iraq\", \"Switzerland\", \"Germany\", \"Netherlands\", \"United Arab Emirates\", \"Egypt\", \"Canada\", \"North Ireland\", \"Taiwan\", \"Thailand\", \"South Korea\", \"Hong Kong\", \"Japan\", \"Mexico\", \" Azerbaijan\", \"Bahrain\", \"Spain\", \"Iceland\", \"Romania\", \"Greece\", \"Croatia\", \"Iran\", \"Israel\", \"Lithuania\", \"Kuwait\", \"Belarus\", \"Nigeria\", \"New Zealand\", \"UK\", \"Italy\", \"France\", \"Others\", \"Norway\", \"US\", \"Mainland China\"], \"marker\": {\"color\": [1, 1, 3, 2, 1, 3, 1, 1, 16, 1, 4, 2, 2, 93, 2, 1, 8, 10, 3, 23, 1, 1, 1, 1, 7, 1, 7, 8, 48, 1, 19, 1, 7, 1, 34, 41, 2337, 94, 228, 1, 1, 36, 32, 1, 3, 4, 5, 388, 4, 1, 45, 1, 1, 1, 20, 888, 57, 705, 6, 44, 65914], \"coloraxis\": \"coloraxis\", \"size\": [200, 200, 600, 400, 200, 600, 200, 200, 3200, 200, 800, 400, 400, 18600, 400, 200, 1600, 2000, 600, 4600, 200, 200, 200, 200, 1400, 200, 1400, 1600, 9600, 200, 3800, 200, 1400, 200, 6800, 8200, 467400, 18800, 45600, 200, 200, 7200, 6400, 200, 600, 800, 1000, 77600, 800, 200, 9000, 200, 200, 200, 4000, 177600, 11400, 141000, 1200, 8800, 65914], \"sizemode\": \"area\", \"sizeref\": 1168.5}, \"name\": \"\", \"showlegend\": false, \"type\": \"scattergeo\"}], \"name\": \"2020-02-28\"}, {\"data\": [{\"geo\": \"geo\", \"hoverlabel\": {\"namelength\": 0}, \"hovertemplate\": \"<b>%{hovertext}</b><br><br>Date=2020-02-27<br>Size=%{marker.size}<br>Country/Region=%{location}<br>Confirmed=%{marker.color}\", \"hovertext\": [\"Sri Lanka\", \"Philippines\", \"Cambodia\", \"Russia\", \"Nepal\", \"India\", \"Belgium\", \"Egypt\", \"United Arab Emirates\", \"Afghanistan\", \"Vietnam\", \"Algeria\", \"Oman\", \"Thailand\", \"Taiwan\", \"Finland\", \"Others\", \"Lebanon\", \"Singapore\", \"Croatia\", \"Bahrain\", \"Pakistan\", \"Brazil\", \"Australia\", \"Hong Kong\", \"Iran\", \"South Korea\", \"Macau\", \"UK\", \"Spain\", \"Kuwait\", \"Greece\", \"Austria\", \"Israel\", \"Malaysia\", \"Romania\", \"Georgia\", \"Estonia\", \"Norway\", \"Denmark\", \"North Macedonia\", \"US\", \"Sweden\", \"San Marino\", \"Netherlands\", \"France\", \"Iraq\", \"Canada\", \"Switzerland\", \"Germany\", \"Italy\", \"Japan\", \"Mainland China\"], \"legendgroup\": \"\", \"locationmode\": \"country names\", \"locations\": [\"Sri Lanka\", \"Philippines\", \"Cambodia\", \"Russia\", \"Nepal\", \"India\", \"Belgium\", \"Egypt\", \"United Arab Emirates\", \"Afghanistan\", \"Vietnam\", \"Algeria\", \"Oman\", \"Thailand\", \"Taiwan\", \"Finland\", \"Others\", \"Lebanon\", \"Singapore\", \"Croatia\", \"Bahrain\", \"Pakistan\", \"Brazil\", \"Australia\", \"Hong Kong\", \"Iran\", \"South Korea\", \"Macau\", \"UK\", \"Spain\", \"Kuwait\", \"Greece\", \"Austria\", \"Israel\", \"Malaysia\", \"Romania\", \"Georgia\", \"Estonia\", \"Norway\", \"Denmark\", \"North Macedonia\", \"US\", \"Sweden\", \"San Marino\", \"Netherlands\", \"France\", \"Iraq\", \"Canada\", \"Switzerland\", \"Germany\", \"Italy\", \"Japan\", \"Mainland China\"], \"marker\": {\"color\": [1, 3, 1, 2, 1, 3, 1, 1, 13, 1, 16, 1, 4, 40, 32, 2, 705, 2, 93, 3, 33, 2, 1, 8, 92, 245, 1766, 10, 15, 15, 43, 3, 3, 3, 23, 1, 1, 1, 1, 1, 1, 42, 7, 1, 1, 38, 7, 7, 8, 46, 655, 214, 65596], \"coloraxis\": \"coloraxis\", \"size\": [200, 600, 200, 400, 200, 600, 200, 200, 2600, 200, 3200, 200, 800, 8000, 6400, 400, 141000, 400, 18600, 600, 6600, 400, 200, 1600, 18400, 49000, 353200, 2000, 3000, 3000, 8600, 600, 600, 600, 4600, 200, 200, 200, 200, 200, 200, 8400, 1400, 200, 200, 7600, 1400, 1400, 1600, 9200, 131000, 42800, 65596], \"sizemode\": \"area\", \"sizeref\": 1168.5}, \"name\": \"\", \"showlegend\": false, \"type\": \"scattergeo\"}], \"name\": \"2020-02-27\"}, {\"data\": [{\"geo\": \"geo\", \"hoverlabel\": {\"namelength\": 0}, \"hovertemplate\": \"<b>%{hovertext}</b><br><br>Date=2020-02-26<br>Size=%{marker.size}<br>Country/Region=%{location}<br>Confirmed=%{marker.color}\", \"hovertext\": [\"Sri Lanka\", \"Philippines\", \"Cambodia\", \"Russia\", \"Nepal\", \"India\", \"Belgium\", \"Egypt\", \"United Arab Emirates\", \"Australia\", \"UK\", \"Malaysia\", \"Afghanistan\", \"Canada\", \"Vietnam\", \"Macau\", \"Switzerland\", \"Algeria\", \"Austria\", \"Iraq\", \"Oman\", \"Thailand\", \"South Korea\", \"Taiwan\", \"Greece\", \"Sweden\", \"Finland\", \"North Macedonia\", \"Georgia\", \"Kuwait\", \"Lebanon\", \"Singapore\", \"Others\", \"US\", \"Croatia\", \"France\", \"Norway\", \"Israel\", \"Spain\", \"Bahrain\", \"Hong Kong\", \"Italy\", \"Germany\", \"Iran\", \"Japan\", \"Romania\", \"Mainland China\", \"Pakistan\", \"Brazil\"], \"legendgroup\": \"\", \"locationmode\": \"country names\", \"locations\": [\"Sri Lanka\", \"Philippines\", \"Cambodia\", \"Russia\", \"Nepal\", \"India\", \"Belgium\", \"Egypt\", \"United Arab Emirates\", \"Australia\", \"UK\", \"Malaysia\", \"Afghanistan\", \"Canada\", \"Vietnam\", \"Macau\", \"Switzerland\", \"Algeria\", \"Austria\", \"Iraq\", \"Oman\", \"Thailand\", \"South Korea\", \"Taiwan\", \"Greece\", \"Sweden\", \"Finland\", \"North Macedonia\", \"Georgia\", \"Kuwait\", \"Lebanon\", \"Singapore\", \"Others\", \"US\", \"Croatia\", \"France\", \"Norway\", \"Israel\", \"Spain\", \"Bahrain\", \"Hong Kong\", \"Italy\", \"Germany\", \"Iran\", \"Japan\", \"Romania\", \"Mainland China\", \"Pakistan\", \"Brazil\"], \"marker\": {\"color\": [1, 3, 1, 2, 1, 3, 1, 1, 13, 8, 13, 22, 1, 7, 16, 10, 1, 1, 2, 5, 4, 40, 1261, 32, 1, 2, 2, 1, 1, 26, 2, 93, 705, 42, 3, 18, 1, 2, 13, 33, 91, 453, 27, 139, 189, 1, 66001, 2, 1], \"coloraxis\": \"coloraxis\", \"size\": [200, 600, 200, 400, 200, 600, 200, 200, 2600, 1600, 2600, 4400, 200, 1400, 3200, 2000, 200, 200, 400, 1000, 800, 8000, 252200, 6400, 200, 400, 400, 200, 200, 5200, 400, 18600, 141000, 8400, 600, 3600, 200, 400, 2600, 6600, 18200, 90600, 5400, 27800, 37800, 200, 66001, 400, 200], \"sizemode\": \"area\", \"sizeref\": 1168.5}, \"name\": \"\", \"showlegend\": false, \"type\": \"scattergeo\"}], \"name\": \"2020-02-26\"}]);\n",
       "                        }).then(function(){\n",
       "                            \n",
       "var gd = document.getElementById('2d15478c-636e-42e4-9cc7-da1311f04748');\n",
       "var x = new MutationObserver(function (mutations, observer) {{\n",
       "        var display = window.getComputedStyle(gd).display;\n",
       "        if (!display || display === 'none') {{\n",
       "            console.log([gd, 'removed!']);\n",
       "            Plotly.purge(gd);\n",
       "            observer.disconnect();\n",
       "        }}\n",
       "}});\n",
       "\n",
       "// Listen for the removal of the full notebook cells\n",
       "var notebookContainer = gd.closest('#notebook-container');\n",
       "if (notebookContainer) {{\n",
       "    x.observe(notebookContainer, {childList: true});\n",
       "}}\n",
       "\n",
       "// Listen for the clearing of the current output cell\n",
       "var outputEl = gd.closest('.output');\n",
       "if (outputEl) {{\n",
       "    x.observe(outputEl, {childList: true});\n",
       "}}\n",
       "\n",
       "                        })\n",
       "                };\n",
       "                });\n",
       "            </script>\n",
       "        </div>"
      ]
     },
     "metadata": {},
     "output_type": "display_data"
    }
   ],
   "source": [
    "fig = px.scatter_geo(df_countrybydate, locations=\"Country/Region\", locationmode = \"country names\",\n",
    "                     hover_name=\"Country/Region\", size=\"Size\", color=\"Confirmed\",\n",
    "                     animation_frame=\"Date\", \n",
    "                     projection=\"natural earth\",\n",
    "                     title=\"Progression of Coronavirus in Confirmed Cases in the January 2020\",template=\"none\"\n",
    "                    )\n",
    "fig.show()\n"
   ]
  },
  {
   "cell_type": "code",
   "execution_count": 415,
   "metadata": {
    "slideshow": {
     "slide_type": "skip"
    }
   },
   "outputs": [],
   "source": [
    "mortality_rate = []\n",
    "\n",
    "for i in date:\n",
    "    death_sum = df_date['Deaths'][i].sum()\n",
    "    confirmed_sum = df_date['Confirmed'][i].sum()\n",
    "    mortality_rate.append(death_sum/confirmed_sum)"
   ]
  },
  {
   "cell_type": "code",
   "execution_count": 416,
   "metadata": {
    "slideshow": {
     "slide_type": "skip"
    }
   },
   "outputs": [],
   "source": [
    "from pandas.plotting import register_matplotlib_converters\n",
    "register_matplotlib_converters()"
   ]
  },
  {
   "cell_type": "markdown",
   "metadata": {
    "slideshow": {
     "slide_type": "slide"
    }
   },
   "source": [
    "### What is the mortality rate of Coronavirus over time?"
   ]
  },
  {
   "cell_type": "code",
   "execution_count": 417,
   "metadata": {
    "slideshow": {
     "slide_type": "fragment"
    }
   },
   "outputs": [
    {
     "data": {
      "image/png": "[encoded data removed]",
      "text/plain": [
       "<Figure size 1440x864 with 1 Axes>"
      ]
     },
     "metadata": {},
     "output_type": "display_data"
    }
   ],
   "source": [
    "mean_mortality_rate = np.mean(mortality_rate)\n",
    "plt.figure(figsize=(20, 12))\n",
    "plt.plot(date, mortality_rate, color='red')\n",
    "plt.axhline(y=mean_mortality_rate, linestyle='--',color='blue')\n",
    "plt.title('Mortality Rate of Coronavirus Over Time', size=30)\n",
    "plt.legend(['mortality rate', 'y='+str(mean_mortality_rate)])\n",
    "plt.xlabel('Date', size=30)\n",
    "plt.ylabel('Mortality Rate', size=30)\n",
    "plt.xticks(rotation=50, size=15)\n",
    "plt.show()\n"
   ]
  },
  {
   "cell_type": "markdown",
   "metadata": {
    "slideshow": {
     "slide_type": "slide"
    }
   },
   "source": [
    "### Confirmed cases based on China Region "
   ]
  },
  {
   "cell_type": "code",
   "execution_count": 463,
   "metadata": {
    "slideshow": {
     "slide_type": "fragment"
    }
   },
   "outputs": [
    {
     "data": {
      "text/plain": [
       "<seaborn.axisgrid.FacetGrid at 0x1a234f9f90>"
      ]
     },
     "execution_count": 463,
     "metadata": {},
     "output_type": "execute_result"
    },
    {
     "data": {
      "image/png": "[encoded data removed]",
      "text/plain": [
       "<Figure size 907.2x648 with 1 Axes>"
      ]
     },
     "metadata": {},
     "output_type": "display_data"
    }
   ],
   "source": [
    "from matplotlib.axes._axes import _log as matplotlib_axes_logger\n",
    "matplotlib_axes_logger.setLevel('ERROR')\n",
    "\n",
    "china_data = df[df['Country/Region'] == 'Mainland China']\n",
    "sns.catplot(y=\"Province/State\", x=\"Confirmed\", data=china_data,kind='boxen',height=9,aspect=1.4)\n"
   ]
  },
  {
   "cell_type": "markdown",
   "metadata": {
    "slideshow": {
     "slide_type": "fragment"
    }
   },
   "source": [
    "Hubei is the epicentre of the disease."
   ]
  },
  {
   "cell_type": "markdown",
   "metadata": {
    "slideshow": {
     "slide_type": "slide"
    }
   },
   "source": [
    "### What is the death/recovery rate in Hubei?"
   ]
  },
  {
   "cell_type": "code",
   "execution_count": 433,
   "metadata": {
    "slideshow": {
     "slide_type": "skip"
    }
   },
   "outputs": [],
   "source": [
    "geo_df[\"country\"].replace({\"Hong Kong, China\":\"China\",\n",
    "                                      \n",
    "                                   }, inplace=True)\n"
   ]
  },
  {
   "cell_type": "code",
   "execution_count": 435,
   "metadata": {
    "slideshow": {
     "slide_type": "skip"
    }
   },
   "outputs": [],
   "source": [
    "df_province = df.groupby(['Province/State','Date']).max().reset_index().sort_values('Date', ascending=False)\n",
    "df_chinese_provinces = df_province[df_province['Country/Region'] == 'Mainland China']\n",
    "df_chinese_provinces = df_chinese_provinces.drop_duplicates(subset = ['Province/State']).sort_values('Province/State')\n",
    "# Macau, Taiwan and Hong Kong have their own countries in the dataset\n",
    "df_chinese_provinces = df_chinese_provinces[~df_chinese_provinces['Province/State'].isin(['Macau', 'Taiwan', 'Hong Kong'])]\n",
    "df_chinese_provinces = df_chinese_provinces[df_chinese_provinces[\"Confirmed\"]>0]\n",
    "\n",
    "df_ChDead = df_chinese_provinces.loc[:,[\"Province/State\", \"Recovered\", \"Deaths\"]]\n",
    "df_Hubei_Dead = df_ChDead[df_ChDead[\"Province/State\"]==\"Hubei\"]"
   ]
  },
  {
   "cell_type": "code",
   "execution_count": 436,
   "metadata": {
    "slideshow": {
     "slide_type": "fragment"
    }
   },
   "outputs": [
    {
     "data": {
      "application/vnd.plotly.v1+json": {
       "config": {
        "plotlyServerURL": "https://plot.ly"
       },
       "data": [
        {
         "hole": 0.3,
         "hoverinfo": "label+percent+value",
         "labels": [
          "Recovered",
          "Deaths"
         ],
         "marker": {
          "colors": [
           "mediumturquoise",
           "orangered"
          ],
          "line": {
           "color": "#000000",
           "width": 2
          }
         },
         "textfont": {
          "size": 18
         },
         "textinfo": "label+percent",
         "type": "pie",
         "values": [
          26403,
          2682
         ]
        }
       ],
       "layout": {
        "height": 500,
        "showlegend": false,
        "template": {
         "data": {
          "bar": [
           {
            "error_x": {
             "color": "#2a3f5f"
            },
            "error_y": {
             "color": "#2a3f5f"
            },
            "marker": {
             "line": {
              "color": "#E5ECF6",
              "width": 0.5
             }
            },
            "type": "bar"
           }
          ],
          "barpolar": [
           {
            "marker": {
             "line": {
              "color": "#E5ECF6",
              "width": 0.5
             }
            },
            "type": "barpolar"
           }
          ],
          "carpet": [
           {
            "aaxis": {
             "endlinecolor": "#2a3f5f",
             "gridcolor": "white",
             "linecolor": "white",
             "minorgridcolor": "white",
             "startlinecolor": "#2a3f5f"
            },
            "baxis": {
             "endlinecolor": "#2a3f5f",
             "gridcolor": "white",
             "linecolor": "white",
             "minorgridcolor": "white",
             "startlinecolor": "#2a3f5f"
            },
            "type": "carpet"
           }
          ],
          "choropleth": [
           {
            "colorbar": {
             "outlinewidth": 0,
             "ticks": ""
            },
            "type": "choropleth"
           }
          ],
          "contour": [
           {
            "colorbar": {
             "outlinewidth": 0,
             "ticks": ""
            },
            "colorscale": [
             [
              0,
              "#0d0887"
             ],
             [
              0.1111111111111111,
              "#46039f"
             ],
             [
              0.2222222222222222,
              "#7201a8"
             ],
             [
              0.3333333333333333,
              "#9c179e"
             ],
             [
              0.4444444444444444,
              "#bd3786"
             ],
             [
              0.5555555555555556,
              "#d8576b"
             ],
             [
              0.6666666666666666,
              "#ed7953"
             ],
             [
              0.7777777777777778,
              "#fb9f3a"
             ],
             [
              0.8888888888888888,
              "#fdca26"
             ],
             [
              1,
              "#f0f921"
             ]
            ],
            "type": "contour"
           }
          ],
          "contourcarpet": [
           {
            "colorbar": {
             "outlinewidth": 0,
             "ticks": ""
            },
            "type": "contourcarpet"
           }
          ],
          "heatmap": [
           {
            "colorbar": {
             "outlinewidth": 0,
             "ticks": ""
            },
            "colorscale": [
             [
              0,
              "#0d0887"
             ],
             [
              0.1111111111111111,
              "#46039f"
             ],
             [
              0.2222222222222222,
              "#7201a8"
             ],
             [
              0.3333333333333333,
              "#9c179e"
             ],
             [
              0.4444444444444444,
              "#bd3786"
             ],
             [
              0.5555555555555556,
              "#d8576b"
             ],
             [
              0.6666666666666666,
              "#ed7953"
             ],
             [
              0.7777777777777778,
              "#fb9f3a"
             ],
             [
              0.8888888888888888,
              "#fdca26"
             ],
             [
              1,
              "#f0f921"
             ]
            ],
            "type": "heatmap"
           }
          ],
          "heatmapgl": [
           {
            "colorbar": {
             "outlinewidth": 0,
             "ticks": ""
            },
            "colorscale": [
             [
              0,
              "#0d0887"
             ],
             [
              0.1111111111111111,
              "#46039f"
             ],
             [
              0.2222222222222222,
              "#7201a8"
             ],
             [
              0.3333333333333333,
              "#9c179e"
             ],
             [
              0.4444444444444444,
              "#bd3786"
             ],
             [
              0.5555555555555556,
              "#d8576b"
             ],
             [
              0.6666666666666666,
              "#ed7953"
             ],
             [
              0.7777777777777778,
              "#fb9f3a"
             ],
             [
              0.8888888888888888,
              "#fdca26"
             ],
             [
              1,
              "#f0f921"
             ]
            ],
            "type": "heatmapgl"
           }
          ],
          "histogram": [
           {
            "marker": {
             "colorbar": {
              "outlinewidth": 0,
              "ticks": ""
             }
            },
            "type": "histogram"
           }
          ],
          "histogram2d": [
           {
            "colorbar": {
             "outlinewidth": 0,
             "ticks": ""
            },
            "colorscale": [
             [
              0,
              "#0d0887"
             ],
             [
              0.1111111111111111,
              "#46039f"
             ],
             [
              0.2222222222222222,
              "#7201a8"
             ],
             [
              0.3333333333333333,
              "#9c179e"
             ],
             [
              0.4444444444444444,
              "#bd3786"
             ],
             [
              0.5555555555555556,
              "#d8576b"
             ],
             [
              0.6666666666666666,
              "#ed7953"
             ],
             [
              0.7777777777777778,
              "#fb9f3a"
             ],
             [
              0.8888888888888888,
              "#fdca26"
             ],
             [
              1,
              "#f0f921"
             ]
            ],
            "type": "histogram2d"
           }
          ],
          "histogram2dcontour": [
           {
            "colorbar": {
             "outlinewidth": 0,
             "ticks": ""
            },
            "colorscale": [
             [
              0,
              "#0d0887"
             ],
             [
              0.1111111111111111,
              "#46039f"
             ],
             [
              0.2222222222222222,
              "#7201a8"
             ],
             [
              0.3333333333333333,
              "#9c179e"
             ],
             [
              0.4444444444444444,
              "#bd3786"
             ],
             [
              0.5555555555555556,
              "#d8576b"
             ],
             [
              0.6666666666666666,
              "#ed7953"
             ],
             [
              0.7777777777777778,
              "#fb9f3a"
             ],
             [
              0.8888888888888888,
              "#fdca26"
             ],
             [
              1,
              "#f0f921"
             ]
            ],
            "type": "histogram2dcontour"
           }
          ],
          "mesh3d": [
           {
            "colorbar": {
             "outlinewidth": 0,
             "ticks": ""
            },
            "type": "mesh3d"
           }
          ],
          "parcoords": [
           {
            "line": {
             "colorbar": {
              "outlinewidth": 0,
              "ticks": ""
             }
            },
            "type": "parcoords"
           }
          ],
          "pie": [
           {
            "automargin": true,
            "type": "pie"
           }
          ],
          "scatter": [
           {
            "marker": {
             "colorbar": {
              "outlinewidth": 0,
              "ticks": ""
             }
            },
            "type": "scatter"
           }
          ],
          "scatter3d": [
           {
            "line": {
             "colorbar": {
              "outlinewidth": 0,
              "ticks": ""
             }
            },
            "marker": {
             "colorbar": {
              "outlinewidth": 0,
              "ticks": ""
             }
            },
            "type": "scatter3d"
           }
          ],
          "scattercarpet": [
           {
            "marker": {
             "colorbar": {
              "outlinewidth": 0,
              "ticks": ""
             }
            },
            "type": "scattercarpet"
           }
          ],
          "scattergeo": [
           {
            "marker": {
             "colorbar": {
              "outlinewidth": 0,
              "ticks": ""
             }
            },
            "type": "scattergeo"
           }
          ],
          "scattergl": [
           {
            "marker": {
             "colorbar": {
              "outlinewidth": 0,
              "ticks": ""
             }
            },
            "type": "scattergl"
           }
          ],
          "scattermapbox": [
           {
            "marker": {
             "colorbar": {
              "outlinewidth": 0,
              "ticks": ""
             }
            },
            "type": "scattermapbox"
           }
          ],
          "scatterpolar": [
           {
            "marker": {
             "colorbar": {
              "outlinewidth": 0,
              "ticks": ""
             }
            },
            "type": "scatterpolar"
           }
          ],
          "scatterpolargl": [
           {
            "marker": {
             "colorbar": {
              "outlinewidth": 0,
              "ticks": ""
             }
            },
            "type": "scatterpolargl"
           }
          ],
          "scatterternary": [
           {
            "marker": {
             "colorbar": {
              "outlinewidth": 0,
              "ticks": ""
             }
            },
            "type": "scatterternary"
           }
          ],
          "surface": [
           {
            "colorbar": {
             "outlinewidth": 0,
             "ticks": ""
            },
            "colorscale": [
             [
              0,
              "#0d0887"
             ],
             [
              0.1111111111111111,
              "#46039f"
             ],
             [
              0.2222222222222222,
              "#7201a8"
             ],
             [
              0.3333333333333333,
              "#9c179e"
             ],
             [
              0.4444444444444444,
              "#bd3786"
             ],
             [
              0.5555555555555556,
              "#d8576b"
             ],
             [
              0.6666666666666666,
              "#ed7953"
             ],
             [
              0.7777777777777778,
              "#fb9f3a"
             ],
             [
              0.8888888888888888,
              "#fdca26"
             ],
             [
              1,
              "#f0f921"
             ]
            ],
            "type": "surface"
           }
          ],
          "table": [
           {
            "cells": {
             "fill": {
              "color": "#EBF0F8"
             },
             "line": {
              "color": "white"
             }
            },
            "header": {
             "fill": {
              "color": "#C8D4E3"
             },
             "line": {
              "color": "white"
             }
            },
            "type": "table"
           }
          ]
         },
         "layout": {
          "annotationdefaults": {
           "arrowcolor": "#2a3f5f",
           "arrowhead": 0,
           "arrowwidth": 1
          },
          "coloraxis": {
           "colorbar": {
            "outlinewidth": 0,
            "ticks": ""
           }
          },
          "colorscale": {
           "diverging": [
            [
             0,
             "#8e0152"
            ],
            [
             0.1,
             "#c51b7d"
            ],
            [
             0.2,
             "#de77ae"
            ],
            [
             0.3,
             "#f1b6da"
            ],
            [
             0.4,
             "#fde0ef"
            ],
            [
             0.5,
             "#f7f7f7"
            ],
            [
             0.6,
             "#e6f5d0"
            ],
            [
             0.7,
             "#b8e186"
            ],
            [
             0.8,
             "#7fbc41"
            ],
            [
             0.9,
             "#4d9221"
            ],
            [
             1,
             "#276419"
            ]
           ],
           "sequential": [
            [
             0,
             "#0d0887"
            ],
            [
             0.1111111111111111,
             "#46039f"
            ],
            [
             0.2222222222222222,
             "#7201a8"
            ],
            [
             0.3333333333333333,
             "#9c179e"
            ],
            [
             0.4444444444444444,
             "#bd3786"
            ],
            [
             0.5555555555555556,
             "#d8576b"
            ],
            [
             0.6666666666666666,
             "#ed7953"
            ],
            [
             0.7777777777777778,
             "#fb9f3a"
            ],
            [
             0.8888888888888888,
             "#fdca26"
            ],
            [
             1,
             "#f0f921"
            ]
           ],
           "sequentialminus": [
            [
             0,
             "#0d0887"
            ],
            [
             0.1111111111111111,
             "#46039f"
            ],
            [
             0.2222222222222222,
             "#7201a8"
            ],
            [
             0.3333333333333333,
             "#9c179e"
            ],
            [
             0.4444444444444444,
             "#bd3786"
            ],
            [
             0.5555555555555556,
             "#d8576b"
            ],
            [
             0.6666666666666666,
             "#ed7953"
            ],
            [
             0.7777777777777778,
             "#fb9f3a"
            ],
            [
             0.8888888888888888,
             "#fdca26"
            ],
            [
             1,
             "#f0f921"
            ]
           ]
          },
          "colorway": [
           "#636efa",
           "#EF553B",
           "#00cc96",
           "#ab63fa",
           "#FFA15A",
           "#19d3f3",
           "#FF6692",
           "#B6E880",
           "#FF97FF",
           "#FECB52"
          ],
          "font": {
           "color": "#2a3f5f"
          },
          "geo": {
           "bgcolor": "white",
           "lakecolor": "white",
           "landcolor": "#E5ECF6",
           "showlakes": true,
           "showland": true,
           "subunitcolor": "white"
          },
          "hoverlabel": {
           "align": "left"
          },
          "hovermode": "closest",
          "mapbox": {
           "style": "light"
          },
          "paper_bgcolor": "white",
          "plot_bgcolor": "#E5ECF6",
          "polar": {
           "angularaxis": {
            "gridcolor": "white",
            "linecolor": "white",
            "ticks": ""
           },
           "bgcolor": "#E5ECF6",
           "radialaxis": {
            "gridcolor": "white",
            "linecolor": "white",
            "ticks": ""
           }
          },
          "scene": {
           "xaxis": {
            "backgroundcolor": "#E5ECF6",
            "gridcolor": "white",
            "gridwidth": 2,
            "linecolor": "white",
            "showbackground": true,
            "ticks": "",
            "zerolinecolor": "white"
           },
           "yaxis": {
            "backgroundcolor": "#E5ECF6",
            "gridcolor": "white",
            "gridwidth": 2,
            "linecolor": "white",
            "showbackground": true,
            "ticks": "",
            "zerolinecolor": "white"
           },
           "zaxis": {
            "backgroundcolor": "#E5ECF6",
            "gridcolor": "white",
            "gridwidth": 2,
            "linecolor": "white",
            "showbackground": true,
            "ticks": "",
            "zerolinecolor": "white"
           }
          },
          "shapedefaults": {
           "line": {
            "color": "#2a3f5f"
           }
          },
          "ternary": {
           "aaxis": {
            "gridcolor": "white",
            "linecolor": "white",
            "ticks": ""
           },
           "baxis": {
            "gridcolor": "white",
            "linecolor": "white",
            "ticks": ""
           },
           "bgcolor": "#E5ECF6",
           "caxis": {
            "gridcolor": "white",
            "linecolor": "white",
            "ticks": ""
           }
          },
          "title": {
           "x": 0.05
          },
          "xaxis": {
           "automargin": true,
           "gridcolor": "white",
           "linecolor": "white",
           "ticks": "",
           "title": {
            "standoff": 15
           },
           "zerolinecolor": "white",
           "zerolinewidth": 2
          },
          "yaxis": {
           "automargin": true,
           "gridcolor": "white",
           "linecolor": "white",
           "ticks": "",
           "title": {
            "standoff": 15
           },
           "zerolinecolor": "white",
           "zerolinewidth": 2
          }
         }
        },
        "title": {
         "text": "Death/Recovered Rate in Hubei (Wuhan)"
        },
        "width": 700
       }
      },
      "text/html": [
       "<div>\n",
       "        \n",
       "        \n",
       "            <div id=\"8776ab3b-fc67-44a7-9258-34520f5f8113\" class=\"plotly-graph-div\" style=\"height:500px; width:700px;\"></div>\n",
       "            <script type=\"text/javascript\">\n",
       "                require([\"plotly\"], function(Plotly) {\n",
       "                    window.PLOTLYENV=window.PLOTLYENV || {};\n",
       "                    \n",
       "                if (document.getElementById(\"8776ab3b-fc67-44a7-9258-34520f5f8113\")) {\n",
       "                    Plotly.newPlot(\n",
       "                        '8776ab3b-fc67-44a7-9258-34520f5f8113',\n",
       "                        [{\"hole\": 0.3, \"hoverinfo\": \"label+percent+value\", \"labels\": [\"Recovered\", \"Deaths\"], \"marker\": {\"colors\": [\"mediumturquoise\", \"orangered\"], \"line\": {\"color\": \"#000000\", \"width\": 2}}, \"textfont\": {\"size\": 18}, \"textinfo\": \"label+percent\", \"type\": \"pie\", \"values\": [26403, 2682]}],\n",
       "                        {\"height\": 500, \"showlegend\": false, \"template\": {\"data\": {\"bar\": [{\"error_x\": {\"color\": \"#2a3f5f\"}, \"error_y\": {\"color\": \"#2a3f5f\"}, \"marker\": {\"line\": {\"color\": \"#E5ECF6\", \"width\": 0.5}}, \"type\": \"bar\"}], \"barpolar\": [{\"marker\": {\"line\": {\"color\": \"#E5ECF6\", \"width\": 0.5}}, \"type\": \"barpolar\"}], \"carpet\": [{\"aaxis\": {\"endlinecolor\": \"#2a3f5f\", \"gridcolor\": \"white\", \"linecolor\": \"white\", \"minorgridcolor\": \"white\", \"startlinecolor\": \"#2a3f5f\"}, \"baxis\": {\"endlinecolor\": \"#2a3f5f\", \"gridcolor\": \"white\", \"linecolor\": \"white\", \"minorgridcolor\": \"white\", \"startlinecolor\": \"#2a3f5f\"}, \"type\": \"carpet\"}], \"choropleth\": [{\"colorbar\": {\"outlinewidth\": 0, \"ticks\": \"\"}, \"type\": \"choropleth\"}], \"contour\": [{\"colorbar\": {\"outlinewidth\": 0, \"ticks\": \"\"}, \"colorscale\": [[0.0, \"#0d0887\"], [0.1111111111111111, \"#46039f\"], [0.2222222222222222, \"#7201a8\"], [0.3333333333333333, \"#9c179e\"], [0.4444444444444444, \"#bd3786\"], [0.5555555555555556, \"#d8576b\"], [0.6666666666666666, \"#ed7953\"], [0.7777777777777778, \"#fb9f3a\"], [0.8888888888888888, \"#fdca26\"], [1.0, \"#f0f921\"]], \"type\": \"contour\"}], \"contourcarpet\": [{\"colorbar\": {\"outlinewidth\": 0, \"ticks\": \"\"}, \"type\": \"contourcarpet\"}], \"heatmap\": [{\"colorbar\": {\"outlinewidth\": 0, \"ticks\": \"\"}, \"colorscale\": [[0.0, \"#0d0887\"], [0.1111111111111111, \"#46039f\"], [0.2222222222222222, \"#7201a8\"], [0.3333333333333333, \"#9c179e\"], [0.4444444444444444, \"#bd3786\"], [0.5555555555555556, \"#d8576b\"], [0.6666666666666666, \"#ed7953\"], [0.7777777777777778, \"#fb9f3a\"], [0.8888888888888888, \"#fdca26\"], [1.0, \"#f0f921\"]], \"type\": \"heatmap\"}], \"heatmapgl\": [{\"colorbar\": {\"outlinewidth\": 0, \"ticks\": \"\"}, \"colorscale\": [[0.0, \"#0d0887\"], [0.1111111111111111, \"#46039f\"], [0.2222222222222222, \"#7201a8\"], [0.3333333333333333, \"#9c179e\"], [0.4444444444444444, \"#bd3786\"], [0.5555555555555556, \"#d8576b\"], [0.6666666666666666, \"#ed7953\"], [0.7777777777777778, \"#fb9f3a\"], [0.8888888888888888, \"#fdca26\"], [1.0, \"#f0f921\"]], \"type\": \"heatmapgl\"}], \"histogram\": [{\"marker\": {\"colorbar\": {\"outlinewidth\": 0, \"ticks\": \"\"}}, \"type\": \"histogram\"}], \"histogram2d\": [{\"colorbar\": {\"outlinewidth\": 0, \"ticks\": \"\"}, \"colorscale\": [[0.0, \"#0d0887\"], [0.1111111111111111, \"#46039f\"], [0.2222222222222222, \"#7201a8\"], [0.3333333333333333, \"#9c179e\"], [0.4444444444444444, \"#bd3786\"], [0.5555555555555556, \"#d8576b\"], [0.6666666666666666, \"#ed7953\"], [0.7777777777777778, \"#fb9f3a\"], [0.8888888888888888, \"#fdca26\"], [1.0, \"#f0f921\"]], \"type\": \"histogram2d\"}], \"histogram2dcontour\": [{\"colorbar\": {\"outlinewidth\": 0, \"ticks\": \"\"}, \"colorscale\": [[0.0, \"#0d0887\"], [0.1111111111111111, \"#46039f\"], [0.2222222222222222, \"#7201a8\"], [0.3333333333333333, \"#9c179e\"], [0.4444444444444444, \"#bd3786\"], [0.5555555555555556, \"#d8576b\"], [0.6666666666666666, \"#ed7953\"], [0.7777777777777778, \"#fb9f3a\"], [0.8888888888888888, \"#fdca26\"], [1.0, \"#f0f921\"]], \"type\": \"histogram2dcontour\"}], \"mesh3d\": [{\"colorbar\": {\"outlinewidth\": 0, \"ticks\": \"\"}, \"type\": \"mesh3d\"}], \"parcoords\": [{\"line\": {\"colorbar\": {\"outlinewidth\": 0, \"ticks\": \"\"}}, \"type\": \"parcoords\"}], \"pie\": [{\"automargin\": true, \"type\": \"pie\"}], \"scatter\": [{\"marker\": {\"colorbar\": {\"outlinewidth\": 0, \"ticks\": \"\"}}, \"type\": \"scatter\"}], \"scatter3d\": [{\"line\": {\"colorbar\": {\"outlinewidth\": 0, \"ticks\": \"\"}}, \"marker\": {\"colorbar\": {\"outlinewidth\": 0, \"ticks\": \"\"}}, \"type\": \"scatter3d\"}], \"scattercarpet\": [{\"marker\": {\"colorbar\": {\"outlinewidth\": 0, \"ticks\": \"\"}}, \"type\": \"scattercarpet\"}], \"scattergeo\": [{\"marker\": {\"colorbar\": {\"outlinewidth\": 0, \"ticks\": \"\"}}, \"type\": \"scattergeo\"}], \"scattergl\": [{\"marker\": {\"colorbar\": {\"outlinewidth\": 0, \"ticks\": \"\"}}, \"type\": \"scattergl\"}], \"scattermapbox\": [{\"marker\": {\"colorbar\": {\"outlinewidth\": 0, \"ticks\": \"\"}}, \"type\": \"scattermapbox\"}], \"scatterpolar\": [{\"marker\": {\"colorbar\": {\"outlinewidth\": 0, \"ticks\": \"\"}}, \"type\": \"scatterpolar\"}], \"scatterpolargl\": [{\"marker\": {\"colorbar\": {\"outlinewidth\": 0, \"ticks\": \"\"}}, \"type\": \"scatterpolargl\"}], \"scatterternary\": [{\"marker\": {\"colorbar\": {\"outlinewidth\": 0, \"ticks\": \"\"}}, \"type\": \"scatterternary\"}], \"surface\": [{\"colorbar\": {\"outlinewidth\": 0, \"ticks\": \"\"}, \"colorscale\": [[0.0, \"#0d0887\"], [0.1111111111111111, \"#46039f\"], [0.2222222222222222, \"#7201a8\"], [0.3333333333333333, \"#9c179e\"], [0.4444444444444444, \"#bd3786\"], [0.5555555555555556, \"#d8576b\"], [0.6666666666666666, \"#ed7953\"], [0.7777777777777778, \"#fb9f3a\"], [0.8888888888888888, \"#fdca26\"], [1.0, \"#f0f921\"]], \"type\": \"surface\"}], \"table\": [{\"cells\": {\"fill\": {\"color\": \"#EBF0F8\"}, \"line\": {\"color\": \"white\"}}, \"header\": {\"fill\": {\"color\": \"#C8D4E3\"}, \"line\": {\"color\": \"white\"}}, \"type\": \"table\"}]}, \"layout\": {\"annotationdefaults\": {\"arrowcolor\": \"#2a3f5f\", \"arrowhead\": 0, \"arrowwidth\": 1}, \"coloraxis\": {\"colorbar\": {\"outlinewidth\": 0, \"ticks\": \"\"}}, \"colorscale\": {\"diverging\": [[0, \"#8e0152\"], [0.1, \"#c51b7d\"], [0.2, \"#de77ae\"], [0.3, \"#f1b6da\"], [0.4, \"#fde0ef\"], [0.5, \"#f7f7f7\"], [0.6, \"#e6f5d0\"], [0.7, \"#b8e186\"], [0.8, \"#7fbc41\"], [0.9, \"#4d9221\"], [1, \"#276419\"]], \"sequential\": [[0.0, \"#0d0887\"], [0.1111111111111111, \"#46039f\"], [0.2222222222222222, \"#7201a8\"], [0.3333333333333333, \"#9c179e\"], [0.4444444444444444, \"#bd3786\"], [0.5555555555555556, \"#d8576b\"], [0.6666666666666666, \"#ed7953\"], [0.7777777777777778, \"#fb9f3a\"], [0.8888888888888888, \"#fdca26\"], [1.0, \"#f0f921\"]], \"sequentialminus\": [[0.0, \"#0d0887\"], [0.1111111111111111, \"#46039f\"], [0.2222222222222222, \"#7201a8\"], [0.3333333333333333, \"#9c179e\"], [0.4444444444444444, \"#bd3786\"], [0.5555555555555556, \"#d8576b\"], [0.6666666666666666, \"#ed7953\"], [0.7777777777777778, \"#fb9f3a\"], [0.8888888888888888, \"#fdca26\"], [1.0, \"#f0f921\"]]}, \"colorway\": [\"#636efa\", \"#EF553B\", \"#00cc96\", \"#ab63fa\", \"#FFA15A\", \"#19d3f3\", \"#FF6692\", \"#B6E880\", \"#FF97FF\", \"#FECB52\"], \"font\": {\"color\": \"#2a3f5f\"}, \"geo\": {\"bgcolor\": \"white\", \"lakecolor\": \"white\", \"landcolor\": \"#E5ECF6\", \"showlakes\": true, \"showland\": true, \"subunitcolor\": \"white\"}, \"hoverlabel\": {\"align\": \"left\"}, \"hovermode\": \"closest\", \"mapbox\": {\"style\": \"light\"}, \"paper_bgcolor\": \"white\", \"plot_bgcolor\": \"#E5ECF6\", \"polar\": {\"angularaxis\": {\"gridcolor\": \"white\", \"linecolor\": \"white\", \"ticks\": \"\"}, \"bgcolor\": \"#E5ECF6\", \"radialaxis\": {\"gridcolor\": \"white\", \"linecolor\": \"white\", \"ticks\": \"\"}}, \"scene\": {\"xaxis\": {\"backgroundcolor\": \"#E5ECF6\", \"gridcolor\": \"white\", \"gridwidth\": 2, \"linecolor\": \"white\", \"showbackground\": true, \"ticks\": \"\", \"zerolinecolor\": \"white\"}, \"yaxis\": {\"backgroundcolor\": \"#E5ECF6\", \"gridcolor\": \"white\", \"gridwidth\": 2, \"linecolor\": \"white\", \"showbackground\": true, \"ticks\": \"\", \"zerolinecolor\": \"white\"}, \"zaxis\": {\"backgroundcolor\": \"#E5ECF6\", \"gridcolor\": \"white\", \"gridwidth\": 2, \"linecolor\": \"white\", \"showbackground\": true, \"ticks\": \"\", \"zerolinecolor\": \"white\"}}, \"shapedefaults\": {\"line\": {\"color\": \"#2a3f5f\"}}, \"ternary\": {\"aaxis\": {\"gridcolor\": \"white\", \"linecolor\": \"white\", \"ticks\": \"\"}, \"baxis\": {\"gridcolor\": \"white\", \"linecolor\": \"white\", \"ticks\": \"\"}, \"bgcolor\": \"#E5ECF6\", \"caxis\": {\"gridcolor\": \"white\", \"linecolor\": \"white\", \"ticks\": \"\"}}, \"title\": {\"x\": 0.05}, \"xaxis\": {\"automargin\": true, \"gridcolor\": \"white\", \"linecolor\": \"white\", \"ticks\": \"\", \"title\": {\"standoff\": 15}, \"zerolinecolor\": \"white\", \"zerolinewidth\": 2}, \"yaxis\": {\"automargin\": true, \"gridcolor\": \"white\", \"linecolor\": \"white\", \"ticks\": \"\", \"title\": {\"standoff\": 15}, \"zerolinecolor\": \"white\", \"zerolinewidth\": 2}}}, \"title\": {\"text\": \"Death/Recovered Rate in Hubei (Wuhan)\"}, \"width\": 700},\n",
       "                        {\"responsive\": true}\n",
       "                    ).then(function(){\n",
       "                            \n",
       "var gd = document.getElementById('8776ab3b-fc67-44a7-9258-34520f5f8113');\n",
       "var x = new MutationObserver(function (mutations, observer) {{\n",
       "        var display = window.getComputedStyle(gd).display;\n",
       "        if (!display || display === 'none') {{\n",
       "            console.log([gd, 'removed!']);\n",
       "            Plotly.purge(gd);\n",
       "            observer.disconnect();\n",
       "        }}\n",
       "}});\n",
       "\n",
       "// Listen for the removal of the full notebook cells\n",
       "var notebookContainer = gd.closest('#notebook-container');\n",
       "if (notebookContainer) {{\n",
       "    x.observe(notebookContainer, {childList: true});\n",
       "}}\n",
       "\n",
       "// Listen for the clearing of the current output cell\n",
       "var outputEl = gd.closest('.output');\n",
       "if (outputEl) {{\n",
       "    x.observe(outputEl, {childList: true});\n",
       "}}\n",
       "\n",
       "                        })\n",
       "                };\n",
       "                });\n",
       "            </script>\n",
       "        </div>"
      ]
     },
     "metadata": {},
     "output_type": "display_data"
    }
   ],
   "source": [
    "import plotly.graph_objs as go\n",
    "\n",
    "colors = ['mediumturquoise', 'orangered']\n",
    "columns = list(df_Hubei_Dead.iloc[:,1:3])\n",
    "values = df_Hubei_Dead.iloc[:,1:3].values.tolist()[0]\n",
    "\n",
    "fig = go.Figure(data=[go.Pie(labels=columns, \n",
    "                             values=values , hole=.3)]\n",
    "               )\n",
    "\n",
    "fig.update_traces(hoverinfo='label+percent+value', textinfo='label+percent', textfont_size=18,\n",
    "                  marker=dict(colors=colors, line=dict(color='#000000', width=2))\n",
    "                 )\n",
    "\n",
    "fig.update_layout(\n",
    "    title_text=\"Death/Recovered Rate in Hubei (Wuhan)\", height=500, width=700, showlegend=False)\n",
    "\n",
    "fig.show()"
   ]
  },
  {
   "cell_type": "code",
   "execution_count": 437,
   "metadata": {
    "slideshow": {
     "slide_type": "skip"
    }
   },
   "outputs": [],
   "source": [
    "df_patient = pd.read_csv('Datasets/patient.csv')"
   ]
  },
  {
   "cell_type": "code",
   "execution_count": 438,
   "metadata": {
    "slideshow": {
     "slide_type": "skip"
    }
   },
   "outputs": [
    {
     "data": {
      "text/html": [
       "<div>\n",
       "<style scoped>\n",
       "    .dataframe tbody tr th:only-of-type {\n",
       "        vertical-align: middle;\n",
       "    }\n",
       "\n",
       "    .dataframe tbody tr th {\n",
       "        vertical-align: top;\n",
       "    }\n",
       "\n",
       "    .dataframe thead th {\n",
       "        text-align: right;\n",
       "    }\n",
       "</style>\n",
       "<table border=\"1\" class=\"dataframe\">\n",
       "  <thead>\n",
       "    <tr style=\"text-align: right;\">\n",
       "      <th></th>\n",
       "      <th>id</th>\n",
       "      <th>sex</th>\n",
       "      <th>birth_year</th>\n",
       "      <th>country</th>\n",
       "      <th>region</th>\n",
       "      <th>group</th>\n",
       "      <th>infection_reason</th>\n",
       "      <th>infection_order</th>\n",
       "      <th>infected_by</th>\n",
       "      <th>contact_number</th>\n",
       "      <th>confirmed_date</th>\n",
       "      <th>released_date</th>\n",
       "      <th>deceased_date</th>\n",
       "      <th>state</th>\n",
       "    </tr>\n",
       "  </thead>\n",
       "  <tbody>\n",
       "    <tr>\n",
       "      <td>0</td>\n",
       "      <td>1</td>\n",
       "      <td>female</td>\n",
       "      <td>1984.0</td>\n",
       "      <td>China</td>\n",
       "      <td>filtered at airport</td>\n",
       "      <td>NaN</td>\n",
       "      <td>visit to Wuhan</td>\n",
       "      <td>1.0</td>\n",
       "      <td>NaN</td>\n",
       "      <td>45.0</td>\n",
       "      <td>2020-01-20</td>\n",
       "      <td>2020-02-06</td>\n",
       "      <td>NaN</td>\n",
       "      <td>released</td>\n",
       "    </tr>\n",
       "    <tr>\n",
       "      <td>1</td>\n",
       "      <td>2</td>\n",
       "      <td>male</td>\n",
       "      <td>1964.0</td>\n",
       "      <td>Korea</td>\n",
       "      <td>filtered at airport</td>\n",
       "      <td>NaN</td>\n",
       "      <td>visit to Wuhan</td>\n",
       "      <td>1.0</td>\n",
       "      <td>NaN</td>\n",
       "      <td>75.0</td>\n",
       "      <td>2020-01-24</td>\n",
       "      <td>2020-02-05</td>\n",
       "      <td>NaN</td>\n",
       "      <td>released</td>\n",
       "    </tr>\n",
       "    <tr>\n",
       "      <td>2</td>\n",
       "      <td>3</td>\n",
       "      <td>male</td>\n",
       "      <td>1966.0</td>\n",
       "      <td>Korea</td>\n",
       "      <td>capital area</td>\n",
       "      <td>NaN</td>\n",
       "      <td>visit to Wuhan</td>\n",
       "      <td>1.0</td>\n",
       "      <td>NaN</td>\n",
       "      <td>16.0</td>\n",
       "      <td>2020-01-26</td>\n",
       "      <td>2020-02-12</td>\n",
       "      <td>NaN</td>\n",
       "      <td>released</td>\n",
       "    </tr>\n",
       "    <tr>\n",
       "      <td>3</td>\n",
       "      <td>4</td>\n",
       "      <td>male</td>\n",
       "      <td>1964.0</td>\n",
       "      <td>Korea</td>\n",
       "      <td>capital area</td>\n",
       "      <td>NaN</td>\n",
       "      <td>visit to Wuhan</td>\n",
       "      <td>1.0</td>\n",
       "      <td>NaN</td>\n",
       "      <td>95.0</td>\n",
       "      <td>2020-01-27</td>\n",
       "      <td>2020-02-09</td>\n",
       "      <td>NaN</td>\n",
       "      <td>released</td>\n",
       "    </tr>\n",
       "    <tr>\n",
       "      <td>4</td>\n",
       "      <td>5</td>\n",
       "      <td>male</td>\n",
       "      <td>1987.0</td>\n",
       "      <td>Korea</td>\n",
       "      <td>capital area</td>\n",
       "      <td>NaN</td>\n",
       "      <td>visit to Wuhan</td>\n",
       "      <td>1.0</td>\n",
       "      <td>NaN</td>\n",
       "      <td>31.0</td>\n",
       "      <td>2020-01-30</td>\n",
       "      <td>2020-03-02</td>\n",
       "      <td>NaN</td>\n",
       "      <td>released</td>\n",
       "    </tr>\n",
       "  </tbody>\n",
       "</table>\n",
       "</div>"
      ],
      "text/plain": [
       "   id     sex  birth_year country               region group infection_reason  \\\n",
       "0   1  female      1984.0   China  filtered at airport   NaN   visit to Wuhan   \n",
       "1   2    male      1964.0   Korea  filtered at airport   NaN   visit to Wuhan   \n",
       "2   3    male      1966.0   Korea         capital area   NaN   visit to Wuhan   \n",
       "3   4    male      1964.0   Korea         capital area   NaN   visit to Wuhan   \n",
       "4   5    male      1987.0   Korea         capital area   NaN   visit to Wuhan   \n",
       "\n",
       "   infection_order  infected_by  contact_number confirmed_date released_date  \\\n",
       "0              1.0          NaN            45.0     2020-01-20    2020-02-06   \n",
       "1              1.0          NaN            75.0     2020-01-24    2020-02-05   \n",
       "2              1.0          NaN            16.0     2020-01-26    2020-02-12   \n",
       "3              1.0          NaN            95.0     2020-01-27    2020-02-09   \n",
       "4              1.0          NaN            31.0     2020-01-30    2020-03-02   \n",
       "\n",
       "  deceased_date     state  \n",
       "0           NaN  released  \n",
       "1           NaN  released  \n",
       "2           NaN  released  \n",
       "3           NaN  released  \n",
       "4           NaN  released  "
      ]
     },
     "execution_count": 438,
     "metadata": {},
     "output_type": "execute_result"
    }
   ],
   "source": [
    "df_patient.head()"
   ]
  },
  {
   "cell_type": "code",
   "execution_count": 439,
   "metadata": {
    "slideshow": {
     "slide_type": "skip"
    }
   },
   "outputs": [
    {
     "data": {
      "text/html": [
       "<div>\n",
       "<style scoped>\n",
       "    .dataframe tbody tr th:only-of-type {\n",
       "        vertical-align: middle;\n",
       "    }\n",
       "\n",
       "    .dataframe tbody tr th {\n",
       "        vertical-align: top;\n",
       "    }\n",
       "\n",
       "    .dataframe thead th {\n",
       "        text-align: right;\n",
       "    }\n",
       "</style>\n",
       "<table border=\"1\" class=\"dataframe\">\n",
       "  <thead>\n",
       "    <tr style=\"text-align: right;\">\n",
       "      <th></th>\n",
       "      <th>id</th>\n",
       "      <th>sex</th>\n",
       "      <th>birth_year</th>\n",
       "      <th>country</th>\n",
       "      <th>region</th>\n",
       "      <th>group</th>\n",
       "      <th>infection_reason</th>\n",
       "      <th>infection_order</th>\n",
       "      <th>infected_by</th>\n",
       "      <th>contact_number</th>\n",
       "      <th>confirmed_date</th>\n",
       "      <th>released_date</th>\n",
       "      <th>deceased_date</th>\n",
       "      <th>state</th>\n",
       "      <th>age</th>\n",
       "    </tr>\n",
       "  </thead>\n",
       "  <tbody>\n",
       "    <tr>\n",
       "      <td>37</td>\n",
       "      <td>38</td>\n",
       "      <td>female</td>\n",
       "      <td>1963.0</td>\n",
       "      <td>Korea</td>\n",
       "      <td>Daegu</td>\n",
       "      <td>NaN</td>\n",
       "      <td>NaN</td>\n",
       "      <td>NaN</td>\n",
       "      <td>NaN</td>\n",
       "      <td>NaN</td>\n",
       "      <td>2020-02-18</td>\n",
       "      <td>NaN</td>\n",
       "      <td>2020-02-23</td>\n",
       "      <td>deceased</td>\n",
       "      <td>57.0</td>\n",
       "    </tr>\n",
       "    <tr>\n",
       "      <td>53</td>\n",
       "      <td>54</td>\n",
       "      <td>male</td>\n",
       "      <td>1963.0</td>\n",
       "      <td>Korea</td>\n",
       "      <td>Gyeongsangbuk-do</td>\n",
       "      <td>Cheongdo Daenam Hospital</td>\n",
       "      <td>NaN</td>\n",
       "      <td>NaN</td>\n",
       "      <td>NaN</td>\n",
       "      <td>NaN</td>\n",
       "      <td>2020-02-19</td>\n",
       "      <td>NaN</td>\n",
       "      <td>2020-02-23</td>\n",
       "      <td>deceased</td>\n",
       "      <td>57.0</td>\n",
       "    </tr>\n",
       "    <tr>\n",
       "      <td>54</td>\n",
       "      <td>55</td>\n",
       "      <td>male</td>\n",
       "      <td>1961.0</td>\n",
       "      <td>Korea</td>\n",
       "      <td>Gyeongsangbuk-do</td>\n",
       "      <td>Cheongdo Daenam Hospital</td>\n",
       "      <td>NaN</td>\n",
       "      <td>NaN</td>\n",
       "      <td>NaN</td>\n",
       "      <td>NaN</td>\n",
       "      <td>2020-02-19</td>\n",
       "      <td>NaN</td>\n",
       "      <td>2020-02-23</td>\n",
       "      <td>deceased</td>\n",
       "      <td>59.0</td>\n",
       "    </tr>\n",
       "    <tr>\n",
       "      <td>103</td>\n",
       "      <td>104</td>\n",
       "      <td>male</td>\n",
       "      <td>1957.0</td>\n",
       "      <td>Korea</td>\n",
       "      <td>Gyeongsangbuk-do</td>\n",
       "      <td>Cheongdo Daenam Hospital</td>\n",
       "      <td>NaN</td>\n",
       "      <td>NaN</td>\n",
       "      <td>NaN</td>\n",
       "      <td>NaN</td>\n",
       "      <td>2020-02-20</td>\n",
       "      <td>NaN</td>\n",
       "      <td>2020-02-19</td>\n",
       "      <td>deceased</td>\n",
       "      <td>63.0</td>\n",
       "    </tr>\n",
       "    <tr>\n",
       "      <td>106</td>\n",
       "      <td>107</td>\n",
       "      <td>male</td>\n",
       "      <td>1953.0</td>\n",
       "      <td>Korea</td>\n",
       "      <td>Gyeongsangbuk-do</td>\n",
       "      <td>Cheongdo Daenam Hospital</td>\n",
       "      <td>NaN</td>\n",
       "      <td>NaN</td>\n",
       "      <td>NaN</td>\n",
       "      <td>NaN</td>\n",
       "      <td>2020-02-21</td>\n",
       "      <td>NaN</td>\n",
       "      <td>2020-02-24</td>\n",
       "      <td>deceased</td>\n",
       "      <td>67.0</td>\n",
       "    </tr>\n",
       "  </tbody>\n",
       "</table>\n",
       "</div>"
      ],
      "text/plain": [
       "      id     sex  birth_year country            region  \\\n",
       "37    38  female      1963.0   Korea             Daegu   \n",
       "53    54    male      1963.0   Korea  Gyeongsangbuk-do   \n",
       "54    55    male      1961.0   Korea  Gyeongsangbuk-do   \n",
       "103  104    male      1957.0   Korea  Gyeongsangbuk-do   \n",
       "106  107    male      1953.0   Korea  Gyeongsangbuk-do   \n",
       "\n",
       "                        group infection_reason  infection_order  infected_by  \\\n",
       "37                        NaN              NaN              NaN          NaN   \n",
       "53   Cheongdo Daenam Hospital              NaN              NaN          NaN   \n",
       "54   Cheongdo Daenam Hospital              NaN              NaN          NaN   \n",
       "103  Cheongdo Daenam Hospital              NaN              NaN          NaN   \n",
       "106  Cheongdo Daenam Hospital              NaN              NaN          NaN   \n",
       "\n",
       "     contact_number confirmed_date released_date deceased_date     state   age  \n",
       "37              NaN     2020-02-18           NaN    2020-02-23  deceased  57.0  \n",
       "53              NaN     2020-02-19           NaN    2020-02-23  deceased  57.0  \n",
       "54              NaN     2020-02-19           NaN    2020-02-23  deceased  59.0  \n",
       "103             NaN     2020-02-20           NaN    2020-02-19  deceased  63.0  \n",
       "106             NaN     2020-02-21           NaN    2020-02-24  deceased  67.0  "
      ]
     },
     "execution_count": 439,
     "metadata": {},
     "output_type": "execute_result"
    }
   ],
   "source": [
    "df_patient['age'] = 2020 - df_patient['birth_year']\n",
    "deaths = df_patient[df_patient['state'] == 'deceased']\n",
    "deaths.head()"
   ]
  },
  {
   "cell_type": "markdown",
   "metadata": {
    "slideshow": {
     "slide_type": "slide"
    }
   },
   "source": [
    "### Age distribution of death"
   ]
  },
  {
   "cell_type": "code",
   "execution_count": 440,
   "metadata": {
    "scrolled": true,
    "slideshow": {
     "slide_type": "fragment"
    }
   },
   "outputs": [
    {
     "data": {
      "text/plain": [
       "<matplotlib.axes._subplots.AxesSubplot at 0x1a1eb02350>"
      ]
     },
     "execution_count": 440,
     "metadata": {},
     "output_type": "execute_result"
    },
    {
     "data": {
      "image/png": "[encoded data removed]",
      "text/plain": [
       "<Figure size 720x432 with 1 Axes>"
      ]
     },
     "metadata": {},
     "output_type": "display_data"
    }
   ],
   "source": [
    "plt.figure(figsize=(10,6))\n",
    "sns.set_style(\"darkgrid\")\n",
    "plt.title(\"Age distribution of the deceased\")\n",
    "sns.kdeplot(data=deaths['age'], shade=True)"
   ]
  },
  {
   "cell_type": "code",
   "execution_count": 367,
   "metadata": {
    "slideshow": {
     "slide_type": "skip"
    }
   },
   "outputs": [],
   "source": [
    "male_deaths = deaths[deaths['sex'] == 'male']\n",
    "female_deaths = deaths[deaths['sex'] == 'female']\n"
   ]
  },
  {
   "cell_type": "markdown",
   "metadata": {
    "slideshow": {
     "slide_type": "slide"
    }
   },
   "source": [
    "### Age distribution of death by gender"
   ]
  },
  {
   "cell_type": "code",
   "execution_count": 369,
   "metadata": {
    "slideshow": {
     "slide_type": "fragment"
    }
   },
   "outputs": [
    {
     "data": {
      "text/plain": [
       "<matplotlib.axes._subplots.AxesSubplot at 0x1a33557f10>"
      ]
     },
     "execution_count": 369,
     "metadata": {},
     "output_type": "execute_result"
    },
    {
     "data": {
      "image/png": "[encoded data removed]",
      "text/plain": [
       "<Figure size 720x432 with 1 Axes>"
      ]
     },
     "metadata": {},
     "output_type": "display_data"
    }
   ],
   "source": [
    "plt.figure(figsize=(10,6))\n",
    "sns.set_style(\"darkgrid\")\n",
    "plt.title(\"Age distribution of the deceased by gender\")\n",
    "sns.kdeplot(data=female_deaths['age'], shade=True)\n",
    "sns.kdeplot(data=male_deaths['age'], shade=True)\n"
   ]
  },
  {
   "cell_type": "code",
   "execution_count": 465,
   "metadata": {
    "slideshow": {
     "slide_type": "skip"
    }
   },
   "outputs": [
    {
     "name": "stderr",
     "output_type": "stream",
     "text": [
      "/Users/uyennguyen/opt/anaconda3/lib/python3.7/site-packages/ipykernel_launcher.py:1: SettingWithCopyWarning:\n",
      "\n",
      "\n",
      "A value is trying to be set on a copy of a slice from a DataFrame.\n",
      "Try using .loc[row_indexer,col_indexer] = value instead\n",
      "\n",
      "See the caveats in the documentation: http://pandas.pydata.org/pandas-docs/stable/user_guide/indexing.html#returning-a-view-versus-a-copy\n",
      "\n"
     ]
    }
   ],
   "source": [
    "df_patient['birth_year'] = pd.to_numeric(df_patient['birth_year'], errors='coerce')\n",
    "df_patient = df_patient.dropna(subset=['birth_year'])\n",
    "df_patient['birth_year'] = df_patient['birth_year'].astype(int)\n"
   ]
  },
  {
   "cell_type": "markdown",
   "metadata": {
    "slideshow": {
     "slide_type": "slide"
    }
   },
   "source": [
    "### Birth year distribution of confirmed cases"
   ]
  },
  {
   "cell_type": "code",
   "execution_count": 453,
   "metadata": {
    "slideshow": {
     "slide_type": "fragment"
    }
   },
   "outputs": [
    {
     "data": {
      "text/plain": [
       "<matplotlib.axes._subplots.AxesSubplot at 0x1a25810510>"
      ]
     },
     "execution_count": 453,
     "metadata": {},
     "output_type": "execute_result"
    },
    {
     "data": {
      "image/png": "[encoded data removed]",
      "text/plain": [
       "<Figure size 1080x360 with 1 Axes>"
      ]
     },
     "metadata": {},
     "output_type": "display_data"
    }
   ],
   "source": [
    "fig, ax = plt.subplots(figsize=(15,5))\n",
    "sns.distplot(df_patient.birth_year, color='c')"
   ]
  },
  {
   "cell_type": "markdown",
   "metadata": {
    "slideshow": {
     "slide_type": "slide"
    }
   },
   "source": [
    "### Time from confirmation to release or decease"
   ]
  },
  {
   "cell_type": "code",
   "execution_count": 377,
   "metadata": {
    "slideshow": {
     "slide_type": "skip"
    }
   },
   "outputs": [],
   "source": [
    "date_cols = [\"confirmed_date\", \"released_date\", \"deceased_date\"]\n",
    "for col in date_cols:\n",
    "    df_patient[col] = pd.to_datetime(df_patient[col])\n",
    "    "
   ]
  },
  {
   "cell_type": "code",
   "execution_count": 386,
   "metadata": {
    "slideshow": {
     "slide_type": "skip"
    }
   },
   "outputs": [],
   "source": [
    "df_patient['days_to_release'] = df_patient['released_date'] - df_patient['confirmed_date']\n",
    "df_patient['days_to_decease'] = df_patient['deceased_date'] - df_patient['confirmed_date']\n",
    "\n",
    "df_patient['duration_days'] = df_patient[['days_to_release','days_to_decease']].min(axis=1).dt.days\n"
   ]
  },
  {
   "cell_type": "code",
   "execution_count": 389,
   "metadata": {
    "slideshow": {
     "slide_type": "fragment"
    }
   },
   "outputs": [
    {
     "data": {
      "image/png": "[encoded data removed]",
      "text/plain": [
       "<Figure size 864x576 with 1 Axes>"
      ]
     },
     "metadata": {},
     "output_type": "display_data"
    }
   ],
   "source": [
    "plt.figure(figsize=(12,8))\n",
    "sns.boxplot(x=\"state\",\n",
    "           y='duration_days',\n",
    "           order=['released','deceased'],\n",
    "           data=df_patient)\n",
    "plt.title('Time from confirmation to release or decease', fontsize=18)\n",
    "plt.xlabel(\"State\", fontsize=16)\n",
    "plt.ylabel(\"Days\", fontsize=16)\n",
    "plt.xticks(fontsize=12)\n",
    "plt.yticks(fontsize=12)\n",
    "plt.show()"
   ]
  }
 ],
 "metadata": {
  "celltoolbar": "Slideshow",
  "kernelspec": {
   "display_name": "Python 3",
   "language": "python",
   "name": "python3"
  },
  "language_info": {
   "codemirror_mode": {
    "name": "ipython",
    "version": 3
   },
   "file_extension": ".py",
   "mimetype": "text/x-python",
   "name": "python",
   "nbconvert_exporter": "python",
   "pygments_lexer": "ipython3",
   "version": "3.7.4"
  }
 },
 "nbformat": 4,
 "nbformat_minor": 2
}
